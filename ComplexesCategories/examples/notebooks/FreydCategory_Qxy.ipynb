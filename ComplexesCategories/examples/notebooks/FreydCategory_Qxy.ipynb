{
 "cells": [
  {
   "cell_type": "code",
   "execution_count": 1,
   "id": "3235490a",
   "metadata": {},
   "outputs": [
    {
     "name": "stdout",
     "output_type": "stream",
     "text": [
      "CapAndHomalg v\u001b[32m1.6.2\u001b[39m\n",
      "Imported OSCAR's components GAP and Singular_jll\n",
      "Type: ?CapAndHomalg for more information\n"
     ]
    }
   ],
   "source": [
    "using CapAndHomalg"
   ]
  },
  {
   "cell_type": "code",
   "execution_count": 2,
   "id": "019c269f",
   "metadata": {},
   "outputs": [],
   "source": [
    "LoadPackage(\"FreydCategories\")\n",
    "LoadPackage(\"ComplexesCategories\")"
   ]
  },
  {
   "cell_type": "code",
   "execution_count": 3,
   "id": "93b49f41",
   "metadata": {},
   "outputs": [
    {
     "data": {
      "text/plain": [
       "GAP: Q"
      ]
     },
     "execution_count": 3,
     "metadata": {},
     "output_type": "execute_result"
    }
   ],
   "source": [
    "ℚ = HomalgFieldOfRationalsInSingular()"
   ]
  },
  {
   "cell_type": "code",
   "execution_count": 4,
   "id": "b0ed7ebc",
   "metadata": {},
   "outputs": [
    {
     "data": {
      "text/plain": [
       "GAP: Q[x,y,z]"
      ]
     },
     "execution_count": 4,
     "metadata": {},
     "output_type": "execute_result"
    }
   ],
   "source": [
    "R = ℚ[\"x,y,z\"]"
   ]
  },
  {
   "cell_type": "code",
   "execution_count": 5,
   "id": "decf1658",
   "metadata": {},
   "outputs": [
    {
     "data": {
      "text/plain": [
       "GAP: Rows( Q[x,y,z] )"
      ]
     },
     "execution_count": 5,
     "metadata": {},
     "output_type": "execute_result"
    }
   ],
   "source": [
    "R₋rows = CategoryOfRows( R )"
   ]
  },
  {
   "cell_type": "code",
   "execution_count": 6,
   "id": "42d10663",
   "metadata": {},
   "outputs": [
    {
     "data": {
      "text/plain": [
       "GAP: Freyd( Rows( Q[x,y,z] ) )"
      ]
     },
     "execution_count": 6,
     "metadata": {},
     "output_type": "execute_result"
    }
   ],
   "source": [
    "𝓐R₋rows = FreydCategory( R₋rows )"
   ]
  },
  {
   "cell_type": "code",
   "execution_count": 7,
   "id": "29fd04bf",
   "metadata": {},
   "outputs": [
    {
     "data": {
      "text/plain": [
       "GAP: Complexes category by cochains( Freyd( Rows( Q[x,y,z] ) ) )"
      ]
     },
     "execution_count": 7,
     "metadata": {},
     "output_type": "execute_result"
    }
   ],
   "source": [
    "𝓒ᵇ𝓐R₋rows = ComplexesCategoryByCochains( 𝓐R₋rows )"
   ]
  },
  {
   "cell_type": "code",
   "execution_count": 8,
   "id": "96978b35",
   "metadata": {},
   "outputs": [
    {
     "name": "stdout",
     "output_type": "stream",
     "text": [
      "A CAP category with name Complexes category by cochains( Freyd( Rows( Q[x,y,z] ) ) ):\n",
      "\n",
      "42 primitive operations were used to derive 330 operations for this category which algorithmically\n",
      "* IsEquippedWithHomomorphismStructure\n",
      "* IsLinearCategoryOverCommutativeRing\n",
      "* IsAbelianCategory\n"
     ]
    }
   ],
   "source": [
    "Display( 𝓒ᵇ𝓐R₋rows )"
   ]
  },
  {
   "cell_type": "code",
   "execution_count": 9,
   "id": "22e122c6",
   "metadata": {},
   "outputs": [
    {
     "data": {
      "text/plain": [
       "GAP: <An object in Freyd( Rows( Q[x,y,z] ) )>"
      ]
     },
     "execution_count": 9,
     "metadata": {},
     "output_type": "execute_result"
    }
   ],
   "source": [
    "k = HomalgMatrix( \"[[x],[y],[z]]\", 3, 1, R ) / R₋rows / 𝓐R₋rows"
   ]
  },
  {
   "cell_type": "code",
   "execution_count": 10,
   "id": "40e80f43",
   "metadata": {},
   "outputs": [
    {
     "data": {
      "text/latex": [
       "$$\\big(R^{1 \\times 3}\\xrightarrow{{\\color{blue}{\\left( \\begin{array}{r}\n",
       " x \\\\ \n",
       " y \\\\ \n",
       " z \n",
       "\\end{array} \\right)}}}R^{1 \\times 1}\\big)_{\\mathcal{A}}$$"
      ]
     },
     "metadata": {},
     "output_type": "display_data"
    }
   ],
   "source": [
    "Show( k )"
   ]
  },
  {
   "cell_type": "code",
   "execution_count": 11,
   "id": "2cf2f999",
   "metadata": {},
   "outputs": [
    {
     "data": {
      "text/plain": [
       "GAP: <An object in Complexes category by cochains( Freyd( Rows( Q[x,y,z] ) ) ) supported on the interval [ -∞ .. 0 ]>"
      ]
     },
     "execution_count": 11,
     "metadata": {},
     "output_type": "execute_result"
    }
   ],
   "source": [
    "𝐏k = ProjectiveResolution( k, false )"
   ]
  },
  {
   "cell_type": "code",
   "execution_count": 12,
   "id": "a50a9d61",
   "metadata": {},
   "outputs": [
    {
     "data": {
      "text/plain": [
       "GAP: <An object in Complexes category by cochains( Freyd( Rows( Q[x,y,z] ) ) ) supported on the interval [ -3 .. 0 ]>"
      ]
     },
     "execution_count": 12,
     "metadata": {},
     "output_type": "execute_result"
    }
   ],
   "source": [
    "𝐏k = ProjectiveResolution( k, true )"
   ]
  },
  {
   "cell_type": "code",
   "execution_count": 13,
   "id": "8e64b9f2",
   "metadata": {},
   "outputs": [
    {
     "data": {
      "text/latex": [
       "$$\\begin{array}{c}\n",
       "\\big(R^{1 \\times 0}\\xrightarrow{{\\color{blue}{()_{0 \\times 1}}}}R^{1 \\times 1}\\big)_{\\mathcal{A}}\n",
       "\\\\\n",
       "\\uparrow_{\\phantom{-1}}\n",
       "\\\\\n",
       "{\\color{blue}{{\\color{blue}{\\left( \\begin{array}{r}\n",
       " z \\\\ \n",
       " y \\\\ \n",
       " x \n",
       "\\end{array} \\right)}}}}\n",
       "\\\\\n",
       "{\\vert_{-1}}\n",
       "\n",
       "\\\\\n",
       "\\big(R^{1 \\times 0}\\xrightarrow{{\\color{blue}{()_{0 \\times 3}}}}R^{1 \\times 3}\\big)_{\\mathcal{A}}\\\\\n",
       "\\uparrow_{\\phantom{-2}}\n",
       "\\\\\n",
       "{\\color{blue}{{\\color{blue}{\\left( \\begin{array}{rrr}\n",
       " y & -z & \\cdot \\\\ \n",
       " \\cdot & x & -y \\\\ \n",
       " x & \\cdot & -z \n",
       "\\end{array} \\right)}}}}\n",
       "\\\\\n",
       "{\\vert_{-2}}\n",
       "\n",
       "\\\\\n",
       "\\big(R^{1 \\times 0}\\xrightarrow{{\\color{blue}{()_{0 \\times 3}}}}R^{1 \\times 3}\\big)_{\\mathcal{A}}\\\\\n",
       "\\uparrow_{\\phantom{-3}}\n",
       "\\\\\n",
       "{\\color{blue}{{\\color{blue}{\\left( \\begin{array}{rrr}\n",
       " x & z & -y \n",
       "\\end{array} \\right)}}}}\n",
       "\\\\\n",
       "{\\vert_{-3}}\n",
       "\n",
       "\\\\\n",
       "\\big(R^{1 \\times 0}\\xrightarrow{{\\color{blue}{()_{0 \\times 1}}}}R^{1 \\times 1}\\big)_{\\mathcal{A}}\\end{array}$$"
      ]
     },
     "metadata": {},
     "output_type": "display_data"
    }
   ],
   "source": [
    "Show( LaTeXOutput( 𝐏k ) )"
   ]
  },
  {
   "cell_type": "code",
   "execution_count": 14,
   "id": "c0b29e55",
   "metadata": {},
   "outputs": [
    {
     "data": {
      "text/plain": [
       "GAP: <A morphism in Complexes category by cochains( Freyd( Rows( Q[x,y,z] ) ) ) supported on the interval [ -3 .. 0 ]>"
      ]
     },
     "execution_count": 14,
     "metadata": {},
     "output_type": "execute_result"
    }
   ],
   "source": [
    "q = QuasiIsomorphismFromProjectiveResolution( 𝐏k, true )"
   ]
  },
  {
   "cell_type": "code",
   "execution_count": 15,
   "id": "06170dbb",
   "metadata": {},
   "outputs": [
    {
     "data": {
      "text/plain": [
       "true"
      ]
     },
     "execution_count": 15,
     "metadata": {},
     "output_type": "execute_result"
    }
   ],
   "source": [
    "IsQuasiIsomorphism( q )"
   ]
  },
  {
   "cell_type": "code",
   "execution_count": 16,
   "id": "319fce67",
   "metadata": {},
   "outputs": [
    {
     "data": {
      "text/latex": [
       "$$\\begin{array}{ccc}\n",
       " \\big(R^{1 \\times 0}\\xrightarrow{{\\color{blue}{()_{0 \\times 1}}}}R^{1 \\times 1}\\big)_{\\mathcal{A}}&-\\phantom{-}{{\\color{blue}{{\\color{blue}{\\left( \\begin{array}{r}\n",
       " 1 \n",
       "\\end{array} \\right)}}}}}\\phantom{-}\\rightarrow&\\big(R^{1 \\times 0}\\xrightarrow{{\\color{blue}{()_{0 \\times 1}}}}R^{1 \\times 1}\\big)_{\\mathcal{A}}\n",
       " \\\\ \n",
       " \\uparrow_{\\phantom{-1}}&& \n",
       " \\uparrow_{\\phantom{-1}}\n",
       " \\\\ \n",
       " {\\color{blue}{{\\color{blue}{\\left( \\begin{array}{r}\n",
       " z \\\\ \n",
       " y \\\\ \n",
       " x \n",
       "\\end{array} \\right)}}}}&&{\\color{blue}{{\\color{blue}{\\left( \\begin{array}{r}\n",
       " z \\\\ \n",
       " y \\\\ \n",
       " x \n",
       "\\end{array} \\right)}}}}\n",
       " \\\\ \n",
       " \\vert_{-1} &&\\vert_{-1} \n",
       " \\\\ \n",
       " \\big(R^{1 \\times 0}\\xrightarrow{{\\color{blue}{()_{0 \\times 3}}}}R^{1 \\times 3}\\big)_{\\mathcal{A}}&-\\phantom{-}{{\\color{blue}{{\\color{blue}{\\left( \\begin{array}{rrr}\n",
       " 1 & \\cdot & \\cdot \\\\ \n",
       " \\cdot & 1 & \\cdot \\\\ \n",
       " \\cdot & \\cdot & 1 \n",
       "\\end{array} \\right)}}}}}\\phantom{-}\\rightarrow&\\big(R^{1 \\times 0}\\xrightarrow{{\\color{blue}{()_{0 \\times 3}}}}R^{1 \\times 3}\\big)_{\\mathcal{A}}\n",
       " \\\\ \n",
       "  \\uparrow_{\\phantom{-2}}&& \n",
       " \\uparrow_{\\phantom{-2}}\n",
       " \\\\ \n",
       " {\\color{blue}{{\\color{blue}{\\left( \\begin{array}{rrr}\n",
       " y & -z & \\cdot \\\\ \n",
       " \\cdot & x & -y \\\\ \n",
       " x & \\cdot & -z \n",
       "\\end{array} \\right)}}}}&&{\\color{blue}{{\\color{blue}{\\left( \\begin{array}{rrr}\n",
       " y & -z & \\cdot \\\\ \n",
       " \\cdot & x & -y \\\\ \n",
       " x & \\cdot & -z \n",
       "\\end{array} \\right)}}}}\n",
       " \\\\ \n",
       " \\vert_{-2} &&\\vert_{-2} \n",
       " \\\\ \n",
       " \\big(R^{1 \\times 0}\\xrightarrow{{\\color{blue}{()_{0 \\times 3}}}}R^{1 \\times 3}\\big)_{\\mathcal{A}}&-\\phantom{-}{{\\color{blue}{{\\color{blue}{\\left( \\begin{array}{rrr}\n",
       " 1 & \\cdot & \\cdot \\\\ \n",
       " \\cdot & 1 & \\cdot \\\\ \n",
       " \\cdot & \\cdot & 1 \n",
       "\\end{array} \\right)}}}}}\\phantom{-}\\rightarrow&\\big(R^{1 \\times 0}\\xrightarrow{{\\color{blue}{()_{0 \\times 3}}}}R^{1 \\times 3}\\big)_{\\mathcal{A}}\n",
       " \\\\ \n",
       "  \\uparrow_{\\phantom{-3}}&& \n",
       " \\uparrow_{\\phantom{-3}}\n",
       " \\\\ \n",
       " {\\color{blue}{{\\color{blue}{\\left( \\begin{array}{rrr}\n",
       " x & z & -y \n",
       "\\end{array} \\right)}}}}&&{\\color{blue}{{\\color{blue}{\\left( \\begin{array}{rrr}\n",
       " x & z & -y \n",
       "\\end{array} \\right)}}}}\n",
       " \\\\ \n",
       " \\vert_{-3} &&\\vert_{-3} \n",
       " \\\\ \n",
       " \\big(R^{1 \\times 0}\\xrightarrow{{\\color{blue}{()_{0 \\times 1}}}}R^{1 \\times 1}\\big)_{\\mathcal{A}}&-\\phantom{-}{{\\color{blue}{{\\color{blue}{\\left( \\begin{array}{r}\n",
       " 1 \n",
       "\\end{array} \\right)}}}}}\\phantom{-}\\rightarrow&\\big(R^{1 \\times 0}\\xrightarrow{{\\color{blue}{()_{0 \\times 1}}}}R^{1 \\times 1}\\big)_{\\mathcal{A}}\n",
       " \\\\ \n",
       " \\end{array}$$"
      ]
     },
     "metadata": {},
     "output_type": "display_data"
    }
   ],
   "source": [
    "Show( q )"
   ]
  },
  {
   "cell_type": "code",
   "execution_count": 17,
   "id": "d70a484d",
   "metadata": {},
   "outputs": [],
   "source": [
    "# some-code shift+enter"
   ]
  }
 ],
 "metadata": {
  "kernelspec": {
   "display_name": "Julia 1.11.1",
   "language": "julia",
   "name": "julia-1.11"
  },
  "language_info": {
   "file_extension": ".jl",
   "mimetype": "application/julia",
   "name": "julia",
   "version": "1.11.1"
  }
 },
 "nbformat": 4,
 "nbformat_minor": 5
}
