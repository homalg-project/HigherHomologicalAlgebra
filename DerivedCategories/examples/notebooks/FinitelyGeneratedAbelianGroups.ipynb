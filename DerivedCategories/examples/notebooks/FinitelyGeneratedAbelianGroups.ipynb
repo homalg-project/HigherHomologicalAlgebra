{
 "cells": [
  {
   "cell_type": "markdown",
   "id": "5dd5d895",
   "metadata": {},
   "source": [
    "[![Binder](https://mybinder.org/badge_logo.svg)](https://gesis.mybinder.org/v2/gh/homalg-project/CapAndHomalgNotebooks/master?urlpath=git-pull%3Frepo%3Dhttps%253A%252F%252Fgithub.com%252Fhomalg-project%252FHigherHomologicalAlgebra%26urlpath%3Dtree%252FHigherHomologicalAlgebra%252FDerivedCategories%252Fexamples%252F%252Fnotebooks%252FFinitelyGeneratedAbelianGroups.ipynb%26branch%3Dmaster)"
   ]
  },
  {
   "cell_type": "code",
   "execution_count": 1,
   "id": "00d92414",
   "metadata": {
    "scrolled": true
   },
   "outputs": [
    {
     "name": "stdout",
     "output_type": "stream",
     "text": [
      "CapAndHomalg v\u001b[32m1.6.2\u001b[39m\n",
      "Imported OSCAR's components GAP and Singular_jll\n",
      "Type: ?CapAndHomalg for more information\n"
     ]
    }
   ],
   "source": [
    "using CapAndHomalg"
   ]
  },
  {
   "cell_type": "code",
   "execution_count": 2,
   "id": "b7d2aeef",
   "metadata": {},
   "outputs": [],
   "source": [
    "LoadPackage( \"FreydCategoriesForCAP\" )"
   ]
  },
  {
   "cell_type": "code",
   "execution_count": 3,
   "id": "612b3f32",
   "metadata": {},
   "outputs": [],
   "source": [
    "LoadPackage( \"DerivedCategories\" )"
   ]
  },
  {
   "cell_type": "code",
   "execution_count": 4,
   "id": "a6ffcdfa",
   "metadata": {},
   "outputs": [
    {
     "data": {
      "text/plain": [
       "GAP: Z"
      ]
     },
     "execution_count": 4,
     "metadata": {},
     "output_type": "execute_result"
    }
   ],
   "source": [
    "ℤ = HomalgRingOfIntegers( )"
   ]
  },
  {
   "cell_type": "code",
   "execution_count": 5,
   "id": "663bad45",
   "metadata": {},
   "outputs": [
    {
     "data": {
      "text/plain": [
       "GAP: Rows( Z )"
      ]
     },
     "execution_count": 5,
     "metadata": {},
     "output_type": "execute_result"
    }
   ],
   "source": [
    "ℤ₋rows = CategoryOfRows( ℤ )"
   ]
  },
  {
   "cell_type": "markdown",
   "id": "0b6f7fcf",
   "metadata": {},
   "source": [
    "---\n",
    "\n",
    "Then $\\mathcal{A}(\\mathbb{Z}\\mbox{-}\\mathrm{rows}) \\cong ab$, i.e., the finitely generated abelian groups."
   ]
  },
  {
   "cell_type": "code",
   "execution_count": 6,
   "id": "39650864",
   "metadata": {},
   "outputs": [
    {
     "data": {
      "text/plain": [
       "GAP: Freyd( Rows( Z ) )"
      ]
     },
     "execution_count": 6,
     "metadata": {},
     "output_type": "execute_result"
    }
   ],
   "source": [
    "𝓐☾ℤ₋rows☽ = FreydCategory( ℤ₋rows )"
   ]
  },
  {
   "cell_type": "code",
   "execution_count": 7,
   "id": "64f130a2",
   "metadata": {},
   "outputs": [
    {
     "name": "stdout",
     "output_type": "stream",
     "text": [
      "68 primitive operations were used to derive 413 operations for this category which algorithmically\n",
      "* IsCategoryWithDecidableColifts\n",
      "* IsCategoryWithDecidableLifts\n",
      "* IsEquippedWithHomomorphismStructure\n",
      "* IsLinearCategoryOverCommutativeRing\n",
      "* IsSymmetricClosedMonoidalCategory\n",
      "* IsAbelianCategoryWithEnoughProjectives\n",
      "* IsAdditiveMonoidalCategory\n"
     ]
    }
   ],
   "source": [
    "InfoOfInstalledOperationsOfCategory( 𝓐☾ℤ₋rows☽ )"
   ]
  },
  {
   "cell_type": "code",
   "execution_count": 8,
   "id": "75b66dda",
   "metadata": {},
   "outputs": [
    {
     "data": {
      "text/plain": [
       "GAP: Freyd( Rows( Z ) )"
      ]
     },
     "execution_count": 8,
     "metadata": {},
     "output_type": "execute_result"
    }
   ],
   "source": [
    "RangeCategoryOfHomomorphismStructure( 𝓐☾ℤ₋rows☽ )"
   ]
  },
  {
   "cell_type": "code",
   "execution_count": 9,
   "id": "0cbe24e7",
   "metadata": {},
   "outputs": [
    {
     "data": {
      "text/plain": [
       "GAP: <A projective object in Freyd( Rows( Z ) )>"
      ]
     },
     "execution_count": 9,
     "metadata": {},
     "output_type": "execute_result"
    }
   ],
   "source": [
    "𝟙 = DistinguishedObjectOfHomomorphismStructure( 𝓐☾ℤ₋rows☽ )"
   ]
  },
  {
   "cell_type": "code",
   "execution_count": 10,
   "id": "bac51524",
   "metadata": {},
   "outputs": [
    {
     "data": {
      "text/latex": [
       "$$\\big(\\mathbb{Z}^{1 \\times 0}\\xrightarrow{{\\color{blue}{()_{0 \\times 1}}}}\\mathbb{Z}^{1 \\times 1}\\big)_{\\mathcal{A}}$$"
      ]
     },
     "metadata": {},
     "output_type": "display_data"
    }
   ],
   "source": [
    "Show( 𝟙 )"
   ]
  },
  {
   "cell_type": "markdown",
   "id": "da7bab01",
   "metadata": {},
   "source": [
    "---\n",
    "\n",
    "So, if $B,C$ are objects in $\\mathcal{A}(\\mathbb{Z}\\mbox{-}\\mathrm{rows})$, then $\\nu:\\mathrm{Hom}(B,C) \\cong \\mathrm{Hom}( \\mathbb{1}, H(B,C) ):\\nu^{-1}$."
   ]
  },
  {
   "cell_type": "code",
   "execution_count": 11,
   "id": "919589bc",
   "metadata": {},
   "outputs": [
    {
     "data": {
      "text/plain": [
       "GAP: <An object in Freyd( Rows( Z ) )>"
      ]
     },
     "execution_count": 11,
     "metadata": {},
     "output_type": "execute_result"
    }
   ],
   "source": [
    "B = HomalgMatrix( \"[[1,-4,0,1],[0,-2,3,1],[0,-2,-1,-1]]\", 3, 4, ℤ ) / ℤ₋rows / 𝓐☾ℤ₋rows☽"
   ]
  },
  {
   "cell_type": "code",
   "execution_count": 12,
   "id": "3db598a8",
   "metadata": {},
   "outputs": [
    {
     "data": {
      "text/latex": [
       "$$\\big(\\mathbb{Z}^{1 \\times 3}\\xrightarrow{{\\color{blue}{\\left( \\begin{array}{rrrr}\n",
       " 1 & -4 & \\cdot & 1 \\\\ \n",
       " \\cdot & -2 & 3 & 1 \\\\ \n",
       " \\cdot & -2 & -1 & -1 \n",
       "\\end{array} \\right)}}}\\mathbb{Z}^{1 \\times 4}\\big)_{\\mathcal{A}}$$"
      ]
     },
     "metadata": {},
     "output_type": "display_data"
    }
   ],
   "source": [
    "Show( B )"
   ]
  },
  {
   "cell_type": "code",
   "execution_count": 13,
   "id": "bf72d72f",
   "metadata": {},
   "outputs": [
    {
     "data": {
      "text/plain": [
       "GAP: <An object in Freyd( Rows( Z ) )>"
      ]
     },
     "execution_count": 13,
     "metadata": {},
     "output_type": "execute_result"
    }
   ],
   "source": [
    "C = HomalgMatrix( \"[[0,-2,2],[4,0,0]]\", 2, 3, ℤ ) / ℤ₋rows / 𝓐☾ℤ₋rows☽"
   ]
  },
  {
   "cell_type": "code",
   "execution_count": 14,
   "id": "ec038ef5",
   "metadata": {},
   "outputs": [
    {
     "data": {
      "text/latex": [
       "$$\\big(\\mathbb{Z}^{1 \\times 2}\\xrightarrow{{\\color{blue}{\\left( \\begin{array}{rrr}\n",
       " \\cdot & -2 & 2 \\\\ \n",
       " 4 & \\cdot & \\cdot \n",
       "\\end{array} \\right)}}}\\mathbb{Z}^{1 \\times 3}\\big)_{\\mathcal{A}}$$"
      ]
     },
     "metadata": {},
     "output_type": "display_data"
    }
   ],
   "source": [
    "Show( C )"
   ]
  },
  {
   "cell_type": "code",
   "execution_count": 15,
   "id": "1ef03383",
   "metadata": {},
   "outputs": [
    {
     "data": {
      "text/plain": [
       "GAP: <An object in Freyd( Rows( Z ) )>"
      ]
     },
     "execution_count": 15,
     "metadata": {},
     "output_type": "execute_result"
    }
   ],
   "source": [
    "H☾B◞C☽ = HomomorphismStructureOnObjects( B, C )"
   ]
  },
  {
   "cell_type": "code",
   "execution_count": 16,
   "id": "4b05031b",
   "metadata": {},
   "outputs": [
    {
     "data": {
      "text/latex": [
       "$$\\big(\\mathbb{Z}^{1 \\times 8}\\xrightarrow{{\\color{blue}{\\left( \\begin{array}{rrrrrrrrr}\n",
       " 2 & \\cdot & \\cdot & \\cdot & \\cdot & \\cdot & \\cdot & \\cdot & \\cdot \\\\ \n",
       " \\cdot & 2 & -2 & \\cdot & \\cdot & \\cdot & \\cdot & \\cdot & \\cdot \\\\ \n",
       " \\cdot & \\cdot & \\cdot & 4 & \\cdot & \\cdot & \\cdot & \\cdot & \\cdot \\\\ \n",
       " \\cdot & \\cdot & \\cdot & \\cdot & 2 & \\cdot & \\cdot & \\cdot & \\cdot \\\\ \n",
       " \\cdot & \\cdot & \\cdot & \\cdot & \\cdot & 1 & \\cdot & \\cdot & \\cdot \\\\ \n",
       " \\cdot & \\cdot & \\cdot & \\cdot & \\cdot & \\cdot & 1 & \\cdot & \\cdot \\\\ \n",
       " \\cdot & \\cdot & \\cdot & \\cdot & \\cdot & \\cdot & \\cdot & 1 & \\cdot \\\\ \n",
       " \\cdot & \\cdot & \\cdot & \\cdot & \\cdot & \\cdot & \\cdot & \\cdot & 1 \n",
       "\\end{array} \\right)}}}\\mathbb{Z}^{1 \\times 9}\\big)_{\\mathcal{A}}$$"
      ]
     },
     "metadata": {},
     "output_type": "display_data"
    }
   ],
   "source": [
    "Show( H☾B◞C☽ )"
   ]
  },
  {
   "cell_type": "code",
   "execution_count": 17,
   "id": "a38b2c74",
   "metadata": {},
   "outputs": [
    {
     "data": {
      "text/plain": [
       "GAP: <An object in Freyd( Rows( Z ) )>"
      ]
     },
     "execution_count": 17,
     "metadata": {},
     "output_type": "execute_result"
    }
   ],
   "source": [
    "Ĥ☾B◞C☽ = SimplifyObject( H☾B◞C☽, infinity )"
   ]
  },
  {
   "cell_type": "code",
   "execution_count": 18,
   "id": "56d57f29",
   "metadata": {},
   "outputs": [
    {
     "data": {
      "text/latex": [
       "$$\\big(\\mathbb{Z}^{1 \\times 4}\\xrightarrow{{\\color{blue}{\\left( \\begin{array}{rrrrr}\n",
       " 2 & \\cdot & \\cdot & \\cdot & \\cdot \\\\ \n",
       " \\cdot & 2 & \\cdot & \\cdot & \\cdot \\\\ \n",
       " \\cdot & \\cdot & 2 & \\cdot & \\cdot \\\\ \n",
       " \\cdot & \\cdot & \\cdot & 4 & \\cdot \n",
       "\\end{array} \\right)}}}\\mathbb{Z}^{1 \\times 5}\\big)_{\\mathcal{A}}$$"
      ]
     },
     "metadata": {},
     "output_type": "display_data"
    }
   ],
   "source": [
    "Show( Ĥ☾B◞C☽ )"
   ]
  },
  {
   "cell_type": "markdown",
   "id": "96975020",
   "metadata": {},
   "source": [
    "This means, $H(B,C) \\cong \\mathbb{Z}/2\\mathbb{Z} \\oplus \\mathbb{Z}/2\\mathbb{Z} \\oplus \\mathbb{Z}/2\\mathbb{Z} \\oplus \\mathbb{Z}/4\\mathbb{Z} \\oplus \\mathbb{Z}$.\n",
    "\n",
    "---\n",
    "Let us find the isomorphism $t : \\hat{H}(B,C) \\to H(B,C)$:"
   ]
  },
  {
   "cell_type": "code",
   "execution_count": 19,
   "id": "8ce6787e",
   "metadata": {},
   "outputs": [
    {
     "data": {
      "text/plain": [
       "GAP: <A morphism in Freyd( Rows( Z ) )>"
      ]
     },
     "execution_count": 19,
     "metadata": {},
     "output_type": "execute_result"
    }
   ],
   "source": [
    "ι = SimplifyObject_IsoToInputObject( H☾B◞C☽, infinity )"
   ]
  },
  {
   "cell_type": "code",
   "execution_count": 20,
   "id": "3751a315",
   "metadata": {},
   "outputs": [
    {
     "data": {
      "text/latex": [
       "$${ \\tiny \\big(\\mathbb{Z}^{1 \\times 4}\\xrightarrow{{\\color{blue}{\\left( \\begin{array}{rrrrr}\n",
       " 2 & \\cdot & \\cdot & \\cdot & \\cdot \\\\ \n",
       " \\cdot & 2 & \\cdot & \\cdot & \\cdot \\\\ \n",
       " \\cdot & \\cdot & 2 & \\cdot & \\cdot \\\\ \n",
       " \\cdot & \\cdot & \\cdot & 4 & \\cdot \n",
       "\\end{array} \\right)}}}\\mathbb{Z}^{1 \\times 5}\\big)_{\\mathcal{A}}}{\\color{blue}{\\xrightarrow{{\\color{blue}{\\left( \\begin{array}{rrrrrrrrr}\n",
       " \\cdot & -1 & 1 & \\cdot & 1 & \\cdot & -2 & \\cdot & 2 \\\\ \n",
       " -1 & -1 & 1 & \\cdot & \\cdot & 1 & -1 & \\cdot & 1 \\\\ \n",
       " -1 & \\cdot & \\cdot & \\cdot & \\cdot & \\cdot & \\cdot & \\cdot & 1 \\\\ \n",
       " -1 & \\cdot & \\cdot & -1 & \\cdot & \\cdot & 1 & 1 & -1 \\\\ \n",
       " -1 & \\cdot & 1 & -1 & \\cdot & \\cdot & \\cdot & 1 & \\cdot \n",
       "\\end{array} \\right)}}}}}{ \\tiny \\big(\\mathbb{Z}^{1 \\times 8}\\xrightarrow{{\\color{blue}{\\left( \\begin{array}{rrrrrrrrr}\n",
       " 2 & \\cdot & \\cdot & \\cdot & \\cdot & \\cdot & \\cdot & \\cdot & \\cdot \\\\ \n",
       " \\cdot & 2 & -2 & \\cdot & \\cdot & \\cdot & \\cdot & \\cdot & \\cdot \\\\ \n",
       " \\cdot & \\cdot & \\cdot & 4 & \\cdot & \\cdot & \\cdot & \\cdot & \\cdot \\\\ \n",
       " \\cdot & \\cdot & \\cdot & \\cdot & 2 & \\cdot & \\cdot & \\cdot & \\cdot \\\\ \n",
       " \\cdot & \\cdot & \\cdot & \\cdot & \\cdot & 1 & \\cdot & \\cdot & \\cdot \\\\ \n",
       " \\cdot & \\cdot & \\cdot & \\cdot & \\cdot & \\cdot & 1 & \\cdot & \\cdot \\\\ \n",
       " \\cdot & \\cdot & \\cdot & \\cdot & \\cdot & \\cdot & \\cdot & 1 & \\cdot \\\\ \n",
       " \\cdot & \\cdot & \\cdot & \\cdot & \\cdot & \\cdot & \\cdot & \\cdot & 1 \n",
       "\\end{array} \\right)}}}\\mathbb{Z}^{1 \\times 9}\\big)_{\\mathcal{A}}}$$"
      ]
     },
     "metadata": {},
     "output_type": "display_data"
    }
   ],
   "source": [
    "Show( ι )"
   ]
  },
  {
   "cell_type": "code",
   "execution_count": 21,
   "id": "cb971f58",
   "metadata": {},
   "outputs": [
    {
     "data": {
      "text/plain": [
       "true"
      ]
     },
     "execution_count": 21,
     "metadata": {},
     "output_type": "execute_result"
    }
   ],
   "source": [
    "IsIsomorphism( ι )"
   ]
  },
  {
   "cell_type": "code",
   "execution_count": 22,
   "id": "0494a794",
   "metadata": {},
   "outputs": [
    {
     "data": {
      "text/plain": [
       "GAP: <A morphism in Freyd( Rows( Z ) )>"
      ]
     },
     "execution_count": 22,
     "metadata": {},
     "output_type": "execute_result"
    }
   ],
   "source": [
    "ℓ = FreydCategoryMorphism( 𝟙, HomalgMatrix( \"[[1,0,0,0,0]]\", 1, 5, ℤ ) / ℤ₋rows, Ĥ☾B◞C☽ )"
   ]
  },
  {
   "cell_type": "code",
   "execution_count": 23,
   "id": "1cb6ad8c",
   "metadata": {},
   "outputs": [
    {
     "data": {
      "text/latex": [
       "$${ \\tiny \\big(\\mathbb{Z}^{1 \\times 0}\\xrightarrow{{\\color{blue}{()_{0 \\times 1}}}}\\mathbb{Z}^{1 \\times 1}\\big)_{\\mathcal{A}}}{\\color{blue}{\\xrightarrow{{\\color{blue}{\\left( \\begin{array}{rrrrr}\n",
       " 1 & \\cdot & \\cdot & \\cdot & \\cdot \n",
       "\\end{array} \\right)}}}}}{ \\tiny \\big(\\mathbb{Z}^{1 \\times 4}\\xrightarrow{{\\color{blue}{\\left( \\begin{array}{rrrrr}\n",
       " 2 & \\cdot & \\cdot & \\cdot & \\cdot \\\\ \n",
       " \\cdot & 2 & \\cdot & \\cdot & \\cdot \\\\ \n",
       " \\cdot & \\cdot & 2 & \\cdot & \\cdot \\\\ \n",
       " \\cdot & \\cdot & \\cdot & 4 & \\cdot \n",
       "\\end{array} \\right)}}}\\mathbb{Z}^{1 \\times 5}\\big)_{\\mathcal{A}}}$$"
      ]
     },
     "metadata": {},
     "output_type": "display_data"
    }
   ],
   "source": [
    "Show( ℓ )"
   ]
  },
  {
   "cell_type": "code",
   "execution_count": 24,
   "id": "1b916697",
   "metadata": {},
   "outputs": [
    {
     "data": {
      "text/plain": [
       "GAP: <A morphism in Freyd( Rows( Z ) )>"
      ]
     },
     "execution_count": 24,
     "metadata": {},
     "output_type": "execute_result"
    }
   ],
   "source": [
    "λ = PreCompose( ℓ, ι )"
   ]
  },
  {
   "cell_type": "code",
   "execution_count": 25,
   "id": "ada15b0b",
   "metadata": {},
   "outputs": [
    {
     "data": {
      "text/latex": [
       "$${ \\tiny \\big(\\mathbb{Z}^{1 \\times 0}\\xrightarrow{{\\color{blue}{()_{0 \\times 1}}}}\\mathbb{Z}^{1 \\times 1}\\big)_{\\mathcal{A}}}{\\color{blue}{\\xrightarrow{{\\color{blue}{\\left( \\begin{array}{rrrrrrrrr}\n",
       " \\cdot & -1 & 1 & \\cdot & 1 & \\cdot & -2 & \\cdot & 2 \n",
       "\\end{array} \\right)}}}}}{ \\tiny \\big(\\mathbb{Z}^{1 \\times 8}\\xrightarrow{{\\color{blue}{\\left( \\begin{array}{rrrrrrrrr}\n",
       " 2 & \\cdot & \\cdot & \\cdot & \\cdot & \\cdot & \\cdot & \\cdot & \\cdot \\\\ \n",
       " \\cdot & 2 & -2 & \\cdot & \\cdot & \\cdot & \\cdot & \\cdot & \\cdot \\\\ \n",
       " \\cdot & \\cdot & \\cdot & 4 & \\cdot & \\cdot & \\cdot & \\cdot & \\cdot \\\\ \n",
       " \\cdot & \\cdot & \\cdot & \\cdot & 2 & \\cdot & \\cdot & \\cdot & \\cdot \\\\ \n",
       " \\cdot & \\cdot & \\cdot & \\cdot & \\cdot & 1 & \\cdot & \\cdot & \\cdot \\\\ \n",
       " \\cdot & \\cdot & \\cdot & \\cdot & \\cdot & \\cdot & 1 & \\cdot & \\cdot \\\\ \n",
       " \\cdot & \\cdot & \\cdot & \\cdot & \\cdot & \\cdot & \\cdot & 1 & \\cdot \\\\ \n",
       " \\cdot & \\cdot & \\cdot & \\cdot & \\cdot & \\cdot & \\cdot & \\cdot & 1 \n",
       "\\end{array} \\right)}}}\\mathbb{Z}^{1 \\times 9}\\big)_{\\mathcal{A}}}$$"
      ]
     },
     "metadata": {},
     "output_type": "display_data"
    }
   ],
   "source": [
    "Show( λ )"
   ]
  },
  {
   "cell_type": "markdown",
   "id": "ad50684f",
   "metadata": {},
   "source": [
    "---\n",
    "\n",
    "The morphism $\\lambda:\\mathbb{1} \\to H(B,C)$ corresonds to the morphism $\\varphi:=\\nu^{-1}(\\lambda):B \\to C$."
   ]
  },
  {
   "cell_type": "code",
   "execution_count": 26,
   "id": "5e9fe9b4",
   "metadata": {},
   "outputs": [
    {
     "data": {
      "text/plain": [
       "GAP: <A morphism in Freyd( Rows( Z ) )>"
      ]
     },
     "execution_count": 26,
     "metadata": {},
     "output_type": "execute_result"
    }
   ],
   "source": [
    "φ = InterpretMorphismFromDistinguishedObjectToHomomorphismStructureAsMorphism( B, C, λ )"
   ]
  },
  {
   "cell_type": "code",
   "execution_count": 27,
   "id": "6842bfdb",
   "metadata": {},
   "outputs": [
    {
     "data": {
      "text/latex": [
       "$${ \\tiny \\big(\\mathbb{Z}^{1 \\times 3}\\xrightarrow{{\\color{blue}{\\left( \\begin{array}{rrrr}\n",
       " 1 & -4 & \\cdot & 1 \\\\ \n",
       " \\cdot & -2 & 3 & 1 \\\\ \n",
       " \\cdot & -2 & -1 & -1 \n",
       "\\end{array} \\right)}}}\\mathbb{Z}^{1 \\times 4}\\big)_{\\mathcal{A}}}{\\color{blue}{\\xrightarrow{{\\color{blue}{\\left( \\begin{array}{rrr}\n",
       " \\cdot & -1 & 1 \\\\ \n",
       " \\cdot & 1 & -1 \\\\ \n",
       " \\cdot & -5 & 5 \\\\ \n",
       " \\cdot & 3 & -3 \n",
       "\\end{array} \\right)}}}}}{ \\tiny \\big(\\mathbb{Z}^{1 \\times 2}\\xrightarrow{{\\color{blue}{\\left( \\begin{array}{rrr}\n",
       " \\cdot & -2 & 2 \\\\ \n",
       " 4 & \\cdot & \\cdot \n",
       "\\end{array} \\right)}}}\\mathbb{Z}^{1 \\times 3}\\big)_{\\mathcal{A}}}$$"
      ]
     },
     "metadata": {},
     "output_type": "display_data"
    }
   ],
   "source": [
    "Show( φ )"
   ]
  },
  {
   "cell_type": "markdown",
   "id": "770d1f85",
   "metadata": {},
   "source": [
    "---\n",
    "\n",
    "Let us check that $\\nu(\\varphi)=\\lambda$."
   ]
  },
  {
   "cell_type": "code",
   "execution_count": 28,
   "id": "1f3c77c9",
   "metadata": {},
   "outputs": [
    {
     "data": {
      "text/plain": [
       "GAP: <A morphism in Freyd( Rows( Z ) )>"
      ]
     },
     "execution_count": 28,
     "metadata": {},
     "output_type": "execute_result"
    }
   ],
   "source": [
    "ν_φ = InterpretMorphismAsMorphismFromDistinguishedObjectToHomomorphismStructure( φ )"
   ]
  },
  {
   "cell_type": "code",
   "execution_count": 29,
   "id": "021c1738",
   "metadata": {},
   "outputs": [
    {
     "data": {
      "text/plain": [
       "true"
      ]
     },
     "execution_count": 29,
     "metadata": {},
     "output_type": "execute_result"
    }
   ],
   "source": [
    "IsCongruentForMorphisms( ν_φ, λ )"
   ]
  },
  {
   "cell_type": "code",
   "execution_count": 30,
   "id": "ddd9f1c5",
   "metadata": {},
   "outputs": [
    {
     "data": {
      "text/plain": [
       "GAP: <A morphism in Freyd( Rows( Z ) )>"
      ]
     },
     "execution_count": 30,
     "metadata": {},
     "output_type": "execute_result"
    }
   ],
   "source": [
    "ψ = 2 * φ"
   ]
  },
  {
   "cell_type": "code",
   "execution_count": 31,
   "id": "7a9cc5b5",
   "metadata": {},
   "outputs": [
    {
     "data": {
      "text/latex": [
       "$${ \\tiny \\big(\\mathbb{Z}^{1 \\times 3}\\xrightarrow{{\\color{blue}{\\left( \\begin{array}{rrrr}\n",
       " 1 & -4 & \\cdot & 1 \\\\ \n",
       " \\cdot & -2 & 3 & 1 \\\\ \n",
       " \\cdot & -2 & -1 & -1 \n",
       "\\end{array} \\right)}}}\\mathbb{Z}^{1 \\times 4}\\big)_{\\mathcal{A}}}{\\color{blue}{\\xrightarrow{{\\color{blue}{\\left( \\begin{array}{rrr}\n",
       " \\cdot & -2 & 2 \\\\ \n",
       " \\cdot & 2 & -2 \\\\ \n",
       " \\cdot & -10 & 10 \\\\ \n",
       " \\cdot & 6 & -6 \n",
       "\\end{array} \\right)}}}}}{ \\tiny \\big(\\mathbb{Z}^{1 \\times 2}\\xrightarrow{{\\color{blue}{\\left( \\begin{array}{rrr}\n",
       " \\cdot & -2 & 2 \\\\ \n",
       " 4 & \\cdot & \\cdot \n",
       "\\end{array} \\right)}}}\\mathbb{Z}^{1 \\times 3}\\big)_{\\mathcal{A}}}$$"
      ]
     },
     "metadata": {},
     "output_type": "display_data"
    }
   ],
   "source": [
    "Show( ψ )"
   ]
  },
  {
   "cell_type": "code",
   "execution_count": 32,
   "id": "26166282",
   "metadata": {},
   "outputs": [
    {
     "data": {
      "text/plain": [
       "true"
      ]
     },
     "execution_count": 32,
     "metadata": {},
     "output_type": "execute_result"
    }
   ],
   "source": [
    "IsZero( ψ )"
   ]
  },
  {
   "cell_type": "markdown",
   "id": "4855202d",
   "metadata": {},
   "source": [
    "---\n",
    "\n",
    "The homomorphism structure can be lifted to other categories:"
   ]
  },
  {
   "cell_type": "code",
   "execution_count": 33,
   "id": "8bee5daf",
   "metadata": {},
   "outputs": [
    {
     "data": {
      "text/plain": [
       "GAP: Complexes category by cochains( Freyd( Rows( Z ) ) )"
      ]
     },
     "execution_count": 33,
     "metadata": {},
     "output_type": "execute_result"
    }
   ],
   "source": [
    "𝓒ᵇ𝓐☾ℤ₋rows☽ = ComplexesCategoryByCochains( 𝓐☾ℤ₋rows☽ )"
   ]
  },
  {
   "cell_type": "code",
   "execution_count": 34,
   "id": "8fec2bf3",
   "metadata": {},
   "outputs": [
    {
     "data": {
      "text/plain": [
       "GAP: Freyd( Rows( Z ) )"
      ]
     },
     "execution_count": 34,
     "metadata": {},
     "output_type": "execute_result"
    }
   ],
   "source": [
    "RangeCategoryOfHomomorphismStructure( 𝓒ᵇ𝓐☾ℤ₋rows☽ )"
   ]
  },
  {
   "cell_type": "code",
   "execution_count": 35,
   "id": "1bd500e7",
   "metadata": {},
   "outputs": [
    {
     "data": {
      "text/plain": [
       "GAP: <A projective object in Freyd( Rows( Z ) )>"
      ]
     },
     "execution_count": 35,
     "metadata": {},
     "output_type": "execute_result"
    }
   ],
   "source": [
    "𝟙 = DistinguishedObjectOfHomomorphismStructure( 𝓒ᵇ𝓐☾ℤ₋rows☽ )"
   ]
  },
  {
   "cell_type": "code",
   "execution_count": 36,
   "id": "979f0d12",
   "metadata": {},
   "outputs": [
    {
     "data": {
      "text/latex": [
       "$$\\big(\\mathbb{Z}^{1 \\times 0}\\xrightarrow{{\\color{blue}{()_{0 \\times 1}}}}\\mathbb{Z}^{1 \\times 1}\\big)_{\\mathcal{A}}$$"
      ]
     },
     "metadata": {},
     "output_type": "display_data"
    }
   ],
   "source": [
    "Show( 𝟙 )"
   ]
  },
  {
   "cell_type": "code",
   "execution_count": 37,
   "id": "f0a179d4",
   "metadata": {},
   "outputs": [
    {
     "data": {
      "text/plain": [
       "GAP: Homotopy category by cochains( Freyd( Rows( Z ) ) )"
      ]
     },
     "execution_count": 37,
     "metadata": {},
     "output_type": "execute_result"
    }
   ],
   "source": [
    "𝓚ᵇ𝓐☾ℤ₋rows☽ = HomotopyCategoryByCochains( 𝓐☾ℤ₋rows☽ )"
   ]
  },
  {
   "cell_type": "code",
   "execution_count": 38,
   "id": "f040853f",
   "metadata": {},
   "outputs": [
    {
     "data": {
      "text/plain": [
       "GAP: Derived category by cochains( Freyd( Rows( Z ) ) )"
      ]
     },
     "execution_count": 38,
     "metadata": {},
     "output_type": "execute_result"
    }
   ],
   "source": [
    "𝓓ᵇ𝓐☾ℤ₋rows☽ = DerivedCategoryByCochains( 𝓐☾ℤ₋rows☽ )"
   ]
  },
  {
   "cell_type": "markdown",
   "id": "80a3a913",
   "metadata": {},
   "source": [
    "---\n",
    "\n",
    "In the following we create an object $B$ in $\\mathcal{C}^{b}(\\mathcal{A}(\\mathbb{Z}\\mbox{-}\\mathrm{rows}))$ and compute its projective resolution $\\mathrm{proj}_B$. Then\n",
    "we will see how Hom-spaces between them changes between $\\mathcal{C}^{b}(\\mathcal{A}(\\mathbb{Z}\\mbox{-}\\mathrm{rows}))$, $\\mathcal{K}^{b}(\\mathcal{A}(\\mathbb{Z}\\mbox{-}\\mathrm{rows}))$ and\n",
    "$\\mathcal{D}^{b}(\\mathcal{A}(\\mathbb{Z}\\mbox{-}\\mathrm{rows}))$"
   ]
  },
  {
   "cell_type": "code",
   "execution_count": 39,
   "id": "dd44dedc",
   "metadata": {},
   "outputs": [
    {
     "data": {
      "text/plain": [
       "GAP: <An object in Freyd( Rows( Z ) )>"
      ]
     },
     "execution_count": 39,
     "metadata": {},
     "output_type": "execute_result"
    }
   ],
   "source": [
    "B⁰ = HomalgMatrix( [ [ 220 ] ], 1, 1, ℤ ) / ℤ₋rows / 𝓐☾ℤ₋rows☽\n",
    "B¹ = HomalgMatrix( [ [ -360 ] ], 1, 1, ℤ ) / ℤ₋rows / 𝓐☾ℤ₋rows☽\n",
    "B² = HomalgMatrix( [ [ -18 ] ], 1, 1, ℤ ) / ℤ₋rows / 𝓐☾ℤ₋rows☽"
   ]
  },
  {
   "cell_type": "code",
   "execution_count": 40,
   "id": "45e2f6dc",
   "metadata": {},
   "outputs": [
    {
     "data": {
      "text/plain": [
       "GAP: <A morphism in Freyd( Rows( Z ) )>"
      ]
     },
     "execution_count": 40,
     "metadata": {},
     "output_type": "execute_result"
    }
   ],
   "source": [
    "∂⁰ = FreydCategoryMorphism(\n",
    "            B⁰,\n",
    "            HomalgMatrix( [ [ -162 ] ], 1, 1, ℤ ) / ℤ₋rows,\n",
    "            B¹ )\n",
    "\n",
    "∂¹ = FreydCategoryMorphism(\n",
    "            B¹,\n",
    "            HomalgMatrix( [ [ -13 ] ], 1, 1, ℤ ) / ℤ₋rows,\n",
    "            B² )"
   ]
  },
  {
   "cell_type": "code",
   "execution_count": 41,
   "id": "98cdfca6",
   "metadata": {},
   "outputs": [
    {
     "data": {
      "text/plain": [
       "GAP: <An object in Complexes category by cochains( Freyd( Rows( Z ) ) ) supported on the interval [ 0 .. 2 ]>"
      ]
     },
     "execution_count": 41,
     "metadata": {},
     "output_type": "execute_result"
    }
   ],
   "source": [
    "B = CreateComplex( 𝓒ᵇ𝓐☾ℤ₋rows☽, [ ∂⁰, ∂¹ ], 0 )"
   ]
  },
  {
   "cell_type": "code",
   "execution_count": 42,
   "id": "f5c56865",
   "metadata": {},
   "outputs": [
    {
     "data": {
      "text/latex": [
       "$$\\begin{array}{c}\n",
       "\\big(\\mathbb{Z}^{1 \\times 1}\\xrightarrow{{\\color{blue}{\\left( \\begin{array}{r}\n",
       " -18 \n",
       "\\end{array} \\right)}}}\\mathbb{Z}^{1 \\times 1}\\big)_{\\mathcal{A}}\n",
       "\\\\\n",
       "\\uparrow_{\\phantom{1}}\n",
       "\\\\\n",
       "{\\color{blue}{{\\color{blue}{\\left( \\begin{array}{r}\n",
       " -13 \n",
       "\\end{array} \\right)}}}}\n",
       "\\\\\n",
       "{\\vert_{1}}\n",
       "\n",
       "\\\\\n",
       "\\big(\\mathbb{Z}^{1 \\times 1}\\xrightarrow{{\\color{blue}{\\left( \\begin{array}{r}\n",
       " -360 \n",
       "\\end{array} \\right)}}}\\mathbb{Z}^{1 \\times 1}\\big)_{\\mathcal{A}}\\\\\n",
       "\\uparrow_{\\phantom{0}}\n",
       "\\\\\n",
       "{\\color{blue}{{\\color{blue}{\\left( \\begin{array}{r}\n",
       " -162 \n",
       "\\end{array} \\right)}}}}\n",
       "\\\\\n",
       "{\\vert_{0}}\n",
       "\n",
       "\\\\\n",
       "\\big(\\mathbb{Z}^{1 \\times 1}\\xrightarrow{{\\color{blue}{\\left( \\begin{array}{r}\n",
       " 220 \n",
       "\\end{array} \\right)}}}\\mathbb{Z}^{1 \\times 1}\\big)_{\\mathcal{A}}\\end{array}$$"
      ]
     },
     "metadata": {},
     "output_type": "display_data"
    }
   ],
   "source": [
    "Show( B )"
   ]
  },
  {
   "cell_type": "code",
   "execution_count": 43,
   "id": "96c82124",
   "metadata": {},
   "outputs": [
    {
     "data": {
      "text/plain": [
       "true"
      ]
     },
     "execution_count": 43,
     "metadata": {},
     "output_type": "execute_result"
    }
   ],
   "source": [
    "IsWellDefined( B )"
   ]
  },
  {
   "cell_type": "code",
   "execution_count": 44,
   "id": "69f37de4",
   "metadata": {},
   "outputs": [
    {
     "data": {
      "text/plain": [
       "GAP: <An object in Complexes category by cochains( Freyd( Rows( Z ) ) ) supported on the interval [ -1 .. 2 ]>"
      ]
     },
     "execution_count": 44,
     "metadata": {},
     "output_type": "execute_result"
    }
   ],
   "source": [
    "ℙB = ProjectiveResolution( B, true )"
   ]
  },
  {
   "cell_type": "code",
   "execution_count": 45,
   "id": "f6433996",
   "metadata": {},
   "outputs": [
    {
     "data": {
      "text/plain": [
       "GAP: <A morphism in Complexes category by cochains( Freyd( Rows( Z ) ) ) supported on the interval [ -1 .. 2 ]>"
      ]
     },
     "execution_count": 45,
     "metadata": {},
     "output_type": "execute_result"
    }
   ],
   "source": [
    "𝕢B = QuasiIsomorphismFromProjectiveResolution( B, true )"
   ]
  },
  {
   "cell_type": "code",
   "execution_count": 46,
   "id": "13967520",
   "metadata": {},
   "outputs": [
    {
     "data": {
      "text/latex": [
       "$$\\begin{array}{ccc}\n",
       " \\big(\\mathbb{Z}^{1 \\times 0}\\xrightarrow{{\\color{blue}{()_{0 \\times 1}}}}\\mathbb{Z}^{1 \\times 1}\\big)_{\\mathcal{A}}&-\\phantom{-}{{\\color{blue}{{\\color{blue}{\\left( \\begin{array}{r}\n",
       " 1 \n",
       "\\end{array} \\right)}}}}}\\phantom{-}\\rightarrow&\\big(\\mathbb{Z}^{1 \\times 1}\\xrightarrow{{\\color{blue}{\\left( \\begin{array}{r}\n",
       " -18 \n",
       "\\end{array} \\right)}}}\\mathbb{Z}^{1 \\times 1}\\big)_{\\mathcal{A}}\n",
       " \\\\ \n",
       " \\uparrow_{\\phantom{1}}&& \n",
       " \\uparrow_{\\phantom{1}}\n",
       " \\\\ \n",
       " {\\color{blue}{{\\color{blue}{\\left( \\begin{array}{r}\n",
       " 1 \\\\ \n",
       " \\cdot \n",
       "\\end{array} \\right)}}}}&&{\\color{blue}{{\\color{blue}{\\left( \\begin{array}{r}\n",
       " -13 \n",
       "\\end{array} \\right)}}}}\n",
       " \\\\ \n",
       " \\vert_{1} &&\\vert_{1} \n",
       " \\\\ \n",
       " \\big(\\mathbb{Z}^{1 \\times 0}\\xrightarrow{{\\color{blue}{()_{0 \\times 2}}}}\\mathbb{Z}^{1 \\times 2}\\big)_{\\mathcal{A}}&-\\phantom{-}{{\\color{blue}{{\\color{blue}{\\left( \\begin{array}{r}\n",
       " 11 \\\\ \n",
       " 18 \n",
       "\\end{array} \\right)}}}}}\\phantom{-}\\rightarrow&\\big(\\mathbb{Z}^{1 \\times 1}\\xrightarrow{{\\color{blue}{\\left( \\begin{array}{r}\n",
       " -360 \n",
       "\\end{array} \\right)}}}\\mathbb{Z}^{1 \\times 1}\\big)_{\\mathcal{A}}\n",
       " \\\\ \n",
       "  \\uparrow_{\\phantom{0}}&& \n",
       " \\uparrow_{\\phantom{0}}\n",
       " \\\\ \n",
       " {\\color{blue}{{\\color{blue}{\\left( \\begin{array}{rr}\n",
       " \\cdot & 1 \\\\ \n",
       " \\cdot & \\cdot \n",
       "\\end{array} \\right)}}}}&&{\\color{blue}{{\\color{blue}{\\left( \\begin{array}{r}\n",
       " -162 \n",
       "\\end{array} \\right)}}}}\n",
       " \\\\ \n",
       " \\vert_{0} &&\\vert_{0} \n",
       " \\\\ \n",
       " \\big(\\mathbb{Z}^{1 \\times 0}\\xrightarrow{{\\color{blue}{()_{0 \\times 2}}}}\\mathbb{Z}^{1 \\times 2}\\big)_{\\mathcal{A}}&-\\phantom{-}{{\\color{blue}{{\\color{blue}{\\left( \\begin{array}{r}\n",
       " 11 \\\\ \n",
       " 20 \n",
       "\\end{array} \\right)}}}}}\\phantom{-}\\rightarrow&\\big(\\mathbb{Z}^{1 \\times 1}\\xrightarrow{{\\color{blue}{\\left( \\begin{array}{r}\n",
       " 220 \n",
       "\\end{array} \\right)}}}\\mathbb{Z}^{1 \\times 1}\\big)_{\\mathcal{A}}\n",
       " \\\\ \n",
       "  \\uparrow_{\\phantom{-1}}&& \n",
       " \\uparrow_{\\phantom{-1}}\n",
       " \\\\ \n",
       " {\\color{blue}{{\\color{blue}{\\left( \\begin{array}{rr}\n",
       " \\cdot & 11 \n",
       "\\end{array} \\right)}}}}&&{\\color{blue}{{\\color{blue}{()_{0 \\times 1}}}}}\n",
       " \\\\ \n",
       " \\vert_{-1} &&\\vert_{-1} \n",
       " \\\\ \n",
       " \\big(\\mathbb{Z}^{1 \\times 0}\\xrightarrow{{\\color{blue}{()_{0 \\times 1}}}}\\mathbb{Z}^{1 \\times 1}\\big)_{\\mathcal{A}}&-\\phantom{-}{{\\color{blue}{{\\color{blue}{()_{1 \\times 0}}}}}}\\phantom{-}\\rightarrow&\\big(\\mathbb{Z}^{1 \\times 0}\\xrightarrow{{\\color{blue}{()_{0 \\times 0}}}}\\mathbb{Z}^{1 \\times 0}\\big)_{\\mathcal{A}}\n",
       " \\\\ \n",
       " \\end{array}$$"
      ]
     },
     "metadata": {},
     "output_type": "display_data"
    }
   ],
   "source": [
    "Show( 𝕢B )"
   ]
  },
  {
   "cell_type": "code",
   "execution_count": 47,
   "id": "7e3a3cc3",
   "metadata": {},
   "outputs": [
    {
     "data": {
      "text/latex": [
       "$$\\big(\\mathbb{Z}^{1 \\times 2}\\xrightarrow{{\\color{blue}{\\left( \\begin{array}{rr}\n",
       " 220 & \\cdot \\\\ \n",
       " \\cdot & 3960 \n",
       "\\end{array} \\right)}}}\\mathbb{Z}^{1 \\times 2}\\big)_{\\mathcal{A}}$$"
      ]
     },
     "metadata": {},
     "output_type": "display_data"
    }
   ],
   "source": [
    "Show( SimplifyObject( HomStructure( ℙB, B ), infinity ) )"
   ]
  },
  {
   "cell_type": "code",
   "execution_count": 48,
   "id": "808ac354",
   "metadata": {},
   "outputs": [
    {
     "data": {
      "text/latex": [
       "$$\\big(\\mathbb{Z}^{1 \\times 1}\\xrightarrow{{\\color{blue}{\\left( \\begin{array}{r}\n",
       " 11 \n",
       "\\end{array} \\right)}}}\\mathbb{Z}^{1 \\times 1}\\big)_{\\mathcal{A}}$$"
      ]
     },
     "metadata": {},
     "output_type": "display_data"
    }
   ],
   "source": [
    "Show( SimplifyObject( HomStructure( ℙB / 𝓚ᵇ𝓐☾ℤ₋rows☽, B / 𝓚ᵇ𝓐☾ℤ₋rows☽ ), infinity ) )"
   ]
  },
  {
   "cell_type": "code",
   "execution_count": 49,
   "id": "12b53def",
   "metadata": {},
   "outputs": [
    {
     "data": {
      "text/latex": [
       "$$\\big(\\mathbb{Z}^{1 \\times 1}\\xrightarrow{{\\color{blue}{\\left( \\begin{array}{r}\n",
       " 11 \n",
       "\\end{array} \\right)}}}\\mathbb{Z}^{1 \\times 1}\\big)_{\\mathcal{A}}$$"
      ]
     },
     "metadata": {},
     "output_type": "display_data"
    }
   ],
   "source": [
    "Show( SimplifyObject( HomStructure( ℙB / 𝓚ᵇ𝓐☾ℤ₋rows☽ / 𝓓ᵇ𝓐☾ℤ₋rows☽, B / 𝓚ᵇ𝓐☾ℤ₋rows☽ / 𝓓ᵇ𝓐☾ℤ₋rows☽ ), infinity ) )"
   ]
  },
  {
   "cell_type": "markdown",
   "id": "50cb2d47",
   "metadata": {},
   "source": [
    "---\n",
    "\n",
    "In theory, the quasi-isomorphism $\\mathbb{q}_B:\\mathbb{P}_B \\to B$ should be an isomorphism in the derived category $\\mathcal{D}^{b}(\\mathcal{A}(\\mathbb{Z}\\mbox{-}\\mathrm{rows}))$"
   ]
  },
  {
   "cell_type": "code",
   "execution_count": 50,
   "id": "9dec830c",
   "metadata": {},
   "outputs": [
    {
     "data": {
      "text/plain": [
       "GAP: <A morphism in Complexes category by cochains( Freyd( Rows( Z ) ) ) supported on the interval [ -1 .. 2 ]>"
      ]
     },
     "execution_count": 50,
     "metadata": {},
     "output_type": "execute_result"
    }
   ],
   "source": [
    "𝕢B"
   ]
  },
  {
   "cell_type": "code",
   "execution_count": 51,
   "id": "b88934b6",
   "metadata": {},
   "outputs": [
    {
     "data": {
      "text/plain": [
       "false"
      ]
     },
     "execution_count": 51,
     "metadata": {},
     "output_type": "execute_result"
    }
   ],
   "source": [
    "IsIsomorphism( 𝕢B )"
   ]
  },
  {
   "cell_type": "code",
   "execution_count": 52,
   "id": "50fa218d",
   "metadata": {},
   "outputs": [
    {
     "data": {
      "text/plain": [
       "true"
      ]
     },
     "execution_count": 52,
     "metadata": {},
     "output_type": "execute_result"
    }
   ],
   "source": [
    "IsQuasiIsomorphism( 𝕢B )"
   ]
  },
  {
   "cell_type": "code",
   "execution_count": 53,
   "id": "b4fbfaa2",
   "metadata": {},
   "outputs": [
    {
     "data": {
      "text/plain": [
       "GAP: <A morphism in Derived category by cochains( Freyd( Rows( Z ) ) )>"
      ]
     },
     "execution_count": 53,
     "metadata": {},
     "output_type": "execute_result"
    }
   ],
   "source": [
    "𝕢B = 𝕢B / 𝓚ᵇ𝓐☾ℤ₋rows☽ / 𝓓ᵇ𝓐☾ℤ₋rows☽"
   ]
  },
  {
   "cell_type": "code",
   "execution_count": 54,
   "id": "dd73d367",
   "metadata": {},
   "outputs": [
    {
     "data": {
      "text/plain": [
       "true"
      ]
     },
     "execution_count": 54,
     "metadata": {},
     "output_type": "execute_result"
    }
   ],
   "source": [
    "IsIsomorphism( 𝕢B )"
   ]
  },
  {
   "cell_type": "code",
   "execution_count": 55,
   "id": "0bb9858c",
   "metadata": {},
   "outputs": [
    {
     "data": {
      "text/plain": [
       "GAP: <An isomorphism in Derived category by cochains( Freyd( Rows( Z ) ) )>"
      ]
     },
     "execution_count": 55,
     "metadata": {},
     "output_type": "execute_result"
    }
   ],
   "source": [
    "𝕢B⁻¹ = InverseForMorphisms( 𝕢B )"
   ]
  },
  {
   "cell_type": "code",
   "execution_count": 56,
   "id": "24fc56b0",
   "metadata": {},
   "outputs": [
    {
     "data": {
      "text/latex": [
       "$$\\begin{array}{ccccc}\n",
       " \\big(\\mathbb{Z}^{1 \\times 0}\\xrightarrow{{\\color{blue}{()_{0 \\times 1}}}}\\mathbb{Z}^{1 \\times 1}\\big)_{\\mathcal{A}}&\\leftarrow\\phantom{-}{{\\color{blue}{{\\color{blue}{\\left( \\begin{array}{r}\n",
       " 1 \n",
       "\\end{array} \\right)}}}}}\\phantom{-}-&{\\big(\\mathbb{Z}^{1 \\times 0}\\xrightarrow{{\\color{blue}{()_{0 \\times 1}}}}\\mathbb{Z}^{1 \\times 1}\\big)_{\\mathcal{A}}}&-\\phantom{-}{{\\color{blue}{{\\color{blue}{\\left( \\begin{array}{r}\n",
       " 1 \n",
       "\\end{array} \\right)}}}}}\\phantom{-}\\rightarrow&{\\big(\\mathbb{Z}^{1 \\times 1}\\xrightarrow{{\\color{blue}{\\left( \\begin{array}{r}\n",
       " -18 \n",
       "\\end{array} \\right)}}}\\mathbb{Z}^{1 \\times 1}\\big)_{\\mathcal{A}}}\n",
       " \\\\ \n",
       " \\uparrow_{\\phantom{1}}&& \n",
       " \\uparrow_{\\phantom{1}}&& \n",
       " \\uparrow_{\\phantom{1}}\n",
       " \\\\ \n",
       " {\\color{blue}{{\\color{blue}{\\left( \\begin{array}{r}\n",
       " 1 \\\\ \n",
       " \\cdot \n",
       "\\end{array} \\right)}}}}&&{\\color{blue}{{\\color{blue}{\\left( \\begin{array}{r}\n",
       " 1 \\\\ \n",
       " \\cdot \n",
       "\\end{array} \\right)}}}}&&{\\color{blue}{{\\color{blue}{\\left( \\begin{array}{r}\n",
       " -13 \n",
       "\\end{array} \\right)}}}}\n",
       " \\\\ \n",
       " \\vert_{1} &&\\vert_{1} &&\\vert_{1} \n",
       " \\\\ \n",
       " \\big(\\mathbb{Z}^{1 \\times 0}\\xrightarrow{{\\color{blue}{()_{0 \\times 2}}}}\\mathbb{Z}^{1 \\times 2}\\big)_{\\mathcal{A}}&\\leftarrow\\phantom{-}{\\color{blue}{{\\color{blue}{\\left( \\begin{array}{rr}\n",
       " 1 & \\cdot \\\\ \n",
       " \\cdot & 1 \n",
       "\\end{array} \\right)}}}}\\phantom{-}-&\\big(\\mathbb{Z}^{1 \\times 0}\\xrightarrow{{\\color{blue}{()_{0 \\times 2}}}}\\mathbb{Z}^{1 \\times 2}\\big)_{\\mathcal{A}}&-\\phantom{-}{{\\color{blue}{{\\color{blue}{\\left( \\begin{array}{r}\n",
       " 11 \\\\ \n",
       " 18 \n",
       "\\end{array} \\right)}}}}}\\phantom{-}\\rightarrow&\\big(\\mathbb{Z}^{1 \\times 1}\\xrightarrow{{\\color{blue}{\\left( \\begin{array}{r}\n",
       " -360 \n",
       "\\end{array} \\right)}}}\\mathbb{Z}^{1 \\times 1}\\big)_{\\mathcal{A}}\n",
       " \\\\ \n",
       "  \\uparrow_{\\phantom{0}}&& \n",
       " \\uparrow_{\\phantom{0}}&& \n",
       " \\uparrow_{\\phantom{0}}\n",
       " \\\\ \n",
       " {\\color{blue}{{\\color{blue}{\\left( \\begin{array}{rr}\n",
       " \\cdot & 1 \\\\ \n",
       " \\cdot & \\cdot \n",
       "\\end{array} \\right)}}}}&&{\\color{blue}{{\\color{blue}{\\left( \\begin{array}{rr}\n",
       " \\cdot & 1 \\\\ \n",
       " \\cdot & \\cdot \n",
       "\\end{array} \\right)}}}}&&{\\color{blue}{{\\color{blue}{\\left( \\begin{array}{r}\n",
       " -162 \n",
       "\\end{array} \\right)}}}}\n",
       " \\\\ \n",
       " \\vert_{0} &&\\vert_{0} &&\\vert_{0} \n",
       " \\\\ \n",
       " \\big(\\mathbb{Z}^{1 \\times 0}\\xrightarrow{{\\color{blue}{()_{0 \\times 2}}}}\\mathbb{Z}^{1 \\times 2}\\big)_{\\mathcal{A}}&\\leftarrow\\phantom{-}{\\color{blue}{{\\color{blue}{\\left( \\begin{array}{rr}\n",
       " 1 & \\cdot \\\\ \n",
       " \\cdot & 1 \n",
       "\\end{array} \\right)}}}}\\phantom{-}-&\\big(\\mathbb{Z}^{1 \\times 0}\\xrightarrow{{\\color{blue}{()_{0 \\times 2}}}}\\mathbb{Z}^{1 \\times 2}\\big)_{\\mathcal{A}}&-\\phantom{-}{{\\color{blue}{{\\color{blue}{\\left( \\begin{array}{r}\n",
       " 11 \\\\ \n",
       " 20 \n",
       "\\end{array} \\right)}}}}}\\phantom{-}\\rightarrow&\\big(\\mathbb{Z}^{1 \\times 1}\\xrightarrow{{\\color{blue}{\\left( \\begin{array}{r}\n",
       " 220 \n",
       "\\end{array} \\right)}}}\\mathbb{Z}^{1 \\times 1}\\big)_{\\mathcal{A}}\n",
       " \\\\ \n",
       "  \\uparrow_{\\phantom{-1}}&& \n",
       " \\uparrow_{\\phantom{-1}}&& \n",
       " \\uparrow_{\\phantom{-1}}\n",
       " \\\\ \n",
       " {\\color{blue}{{\\color{blue}{\\left( \\begin{array}{rr}\n",
       " \\cdot & 11 \n",
       "\\end{array} \\right)}}}}&&{\\color{blue}{{\\color{blue}{\\left( \\begin{array}{rr}\n",
       " \\cdot & 11 \n",
       "\\end{array} \\right)}}}}&&{\\color{blue}{{\\color{blue}{()_{0 \\times 1}}}}}\n",
       " \\\\ \n",
       " \\vert_{-1} &&\\vert_{-1} &&\\vert_{-1} \n",
       " \\\\ \n",
       " \\big(\\mathbb{Z}^{1 \\times 0}\\xrightarrow{{\\color{blue}{()_{0 \\times 1}}}}\\mathbb{Z}^{1 \\times 1}\\big)_{\\mathcal{A}}&\\leftarrow\\phantom{-}{\\color{blue}{{\\color{blue}{\\left( \\begin{array}{r}\n",
       " 1 \n",
       "\\end{array} \\right)}}}}\\phantom{-}-&\\big(\\mathbb{Z}^{1 \\times 0}\\xrightarrow{{\\color{blue}{()_{0 \\times 1}}}}\\mathbb{Z}^{1 \\times 1}\\big)_{\\mathcal{A}}&-\\phantom{-}{{\\color{blue}{{\\color{blue}{()_{1 \\times 0}}}}}}\\phantom{-}\\rightarrow&\\big(\\mathbb{Z}^{1 \\times 0}\\xrightarrow{{\\color{blue}{()_{0 \\times 0}}}}\\mathbb{Z}^{1 \\times 0}\\big)_{\\mathcal{A}}\n",
       " \\\\ \n",
       " \\end{array}$$"
      ]
     },
     "metadata": {},
     "output_type": "display_data"
    }
   ],
   "source": [
    "Show( 𝕢B )"
   ]
  },
  {
   "cell_type": "markdown",
   "id": "0c8cd349",
   "metadata": {},
   "source": [
    "Note that morphisms in $\\mathcal{D}^{b}(\\mathcal{A}(\\mathbb{Z}\\mbox{-}\\mathrm{rows}))$ are given by roofs:"
   ]
  },
  {
   "cell_type": "code",
   "execution_count": 57,
   "id": "a2412a53",
   "metadata": {},
   "outputs": [
    {
     "data": {
      "text/latex": [
       "$$\\begin{array}{ccccc}\n",
       " \\big(\\mathbb{Z}^{1 \\times 1}\\xrightarrow{{\\color{blue}{\\left( \\begin{array}{r}\n",
       " -18 \n",
       "\\end{array} \\right)}}}\\mathbb{Z}^{1 \\times 1}\\big)_{\\mathcal{A}}&\\leftarrow\\phantom{-}{{\\color{blue}{{\\color{blue}{\\left( \\begin{array}{r}\n",
       " 1 \n",
       "\\end{array} \\right)}}}}}\\phantom{-}-&{\\big(\\mathbb{Z}^{1 \\times 0}\\xrightarrow{{\\color{blue}{()_{0 \\times 1}}}}\\mathbb{Z}^{1 \\times 1}\\big)_{\\mathcal{A}}}&-\\phantom{-}{{\\color{blue}{{\\color{blue}{\\left( \\begin{array}{r}\n",
       " 1 \n",
       "\\end{array} \\right)}}}}}\\phantom{-}\\rightarrow&{\\big(\\mathbb{Z}^{1 \\times 0}\\xrightarrow{{\\color{blue}{()_{0 \\times 1}}}}\\mathbb{Z}^{1 \\times 1}\\big)_{\\mathcal{A}}}\n",
       " \\\\ \n",
       " \\uparrow_{\\phantom{1}}&& \n",
       " \\uparrow_{\\phantom{1}}&& \n",
       " \\uparrow_{\\phantom{1}}\n",
       " \\\\ \n",
       " {\\color{blue}{{\\color{blue}{\\left( \\begin{array}{r}\n",
       " -13 \n",
       "\\end{array} \\right)}}}}&&{\\color{blue}{{\\color{blue}{\\left( \\begin{array}{r}\n",
       " 1 \\\\ \n",
       " \\cdot \n",
       "\\end{array} \\right)}}}}&&{\\color{blue}{{\\color{blue}{\\left( \\begin{array}{r}\n",
       " 1 \\\\ \n",
       " \\cdot \n",
       "\\end{array} \\right)}}}}\n",
       " \\\\ \n",
       " \\vert_{1} &&\\vert_{1} &&\\vert_{1} \n",
       " \\\\ \n",
       " \\big(\\mathbb{Z}^{1 \\times 1}\\xrightarrow{{\\color{blue}{\\left( \\begin{array}{r}\n",
       " -360 \n",
       "\\end{array} \\right)}}}\\mathbb{Z}^{1 \\times 1}\\big)_{\\mathcal{A}}&\\leftarrow\\phantom{-}{\\color{blue}{{\\color{blue}{\\left( \\begin{array}{r}\n",
       " 11 \\\\ \n",
       " 18 \n",
       "\\end{array} \\right)}}}}\\phantom{-}-&\\big(\\mathbb{Z}^{1 \\times 0}\\xrightarrow{{\\color{blue}{()_{0 \\times 2}}}}\\mathbb{Z}^{1 \\times 2}\\big)_{\\mathcal{A}}&-\\phantom{-}{{\\color{blue}{{\\color{blue}{\\left( \\begin{array}{rr}\n",
       " 1 & \\cdot \\\\ \n",
       " \\cdot & 1 \n",
       "\\end{array} \\right)}}}}}\\phantom{-}\\rightarrow&\\big(\\mathbb{Z}^{1 \\times 0}\\xrightarrow{{\\color{blue}{()_{0 \\times 2}}}}\\mathbb{Z}^{1 \\times 2}\\big)_{\\mathcal{A}}\n",
       " \\\\ \n",
       "  \\uparrow_{\\phantom{0}}&& \n",
       " \\uparrow_{\\phantom{0}}&& \n",
       " \\uparrow_{\\phantom{0}}\n",
       " \\\\ \n",
       " {\\color{blue}{{\\color{blue}{\\left( \\begin{array}{r}\n",
       " -162 \n",
       "\\end{array} \\right)}}}}&&{\\color{blue}{{\\color{blue}{\\left( \\begin{array}{rr}\n",
       " \\cdot & 1 \\\\ \n",
       " \\cdot & \\cdot \n",
       "\\end{array} \\right)}}}}&&{\\color{blue}{{\\color{blue}{\\left( \\begin{array}{rr}\n",
       " \\cdot & 1 \\\\ \n",
       " \\cdot & \\cdot \n",
       "\\end{array} \\right)}}}}\n",
       " \\\\ \n",
       " \\vert_{0} &&\\vert_{0} &&\\vert_{0} \n",
       " \\\\ \n",
       " \\big(\\mathbb{Z}^{1 \\times 1}\\xrightarrow{{\\color{blue}{\\left( \\begin{array}{r}\n",
       " 220 \n",
       "\\end{array} \\right)}}}\\mathbb{Z}^{1 \\times 1}\\big)_{\\mathcal{A}}&\\leftarrow\\phantom{-}{\\color{blue}{{\\color{blue}{\\left( \\begin{array}{r}\n",
       " 11 \\\\ \n",
       " 20 \n",
       "\\end{array} \\right)}}}}\\phantom{-}-&\\big(\\mathbb{Z}^{1 \\times 0}\\xrightarrow{{\\color{blue}{()_{0 \\times 2}}}}\\mathbb{Z}^{1 \\times 2}\\big)_{\\mathcal{A}}&-\\phantom{-}{{\\color{blue}{{\\color{blue}{\\left( \\begin{array}{rr}\n",
       " 1 & \\cdot \\\\ \n",
       " \\cdot & 1 \n",
       "\\end{array} \\right)}}}}}\\phantom{-}\\rightarrow&\\big(\\mathbb{Z}^{1 \\times 0}\\xrightarrow{{\\color{blue}{()_{0 \\times 2}}}}\\mathbb{Z}^{1 \\times 2}\\big)_{\\mathcal{A}}\n",
       " \\\\ \n",
       "  \\uparrow_{\\phantom{-1}}&& \n",
       " \\uparrow_{\\phantom{-1}}&& \n",
       " \\uparrow_{\\phantom{-1}}\n",
       " \\\\ \n",
       " {\\color{blue}{{\\color{blue}{()_{0 \\times 1}}}}}&&{\\color{blue}{{\\color{blue}{\\left( \\begin{array}{rr}\n",
       " \\cdot & 11 \n",
       "\\end{array} \\right)}}}}&&{\\color{blue}{{\\color{blue}{\\left( \\begin{array}{rr}\n",
       " \\cdot & 11 \n",
       "\\end{array} \\right)}}}}\n",
       " \\\\ \n",
       " \\vert_{-1} &&\\vert_{-1} &&\\vert_{-1} \n",
       " \\\\ \n",
       " \\big(\\mathbb{Z}^{1 \\times 0}\\xrightarrow{{\\color{blue}{()_{0 \\times 0}}}}\\mathbb{Z}^{1 \\times 0}\\big)_{\\mathcal{A}}&\\leftarrow\\phantom{-}{\\color{blue}{{\\color{blue}{()_{1 \\times 0}}}}}\\phantom{-}-&\\big(\\mathbb{Z}^{1 \\times 0}\\xrightarrow{{\\color{blue}{()_{0 \\times 1}}}}\\mathbb{Z}^{1 \\times 1}\\big)_{\\mathcal{A}}&-\\phantom{-}{{\\color{blue}{{\\color{blue}{\\left( \\begin{array}{r}\n",
       " 1 \n",
       "\\end{array} \\right)}}}}}\\phantom{-}\\rightarrow&\\big(\\mathbb{Z}^{1 \\times 0}\\xrightarrow{{\\color{blue}{()_{0 \\times 1}}}}\\mathbb{Z}^{1 \\times 1}\\big)_{\\mathcal{A}}\n",
       " \\\\ \n",
       " \\end{array}$$"
      ]
     },
     "metadata": {},
     "output_type": "display_data"
    }
   ],
   "source": [
    "Show( 𝕢B⁻¹ )"
   ]
  }
 ],
 "metadata": {
  "@webio": {
   "lastCommId": null,
   "lastKernelId": null
  },
  "kernelspec": {
   "display_name": "Julia 1.10.4",
   "language": "julia",
   "name": "julia-1.10"
  },
  "language_info": {
   "file_extension": ".jl",
   "mimetype": "application/julia",
   "name": "julia",
   "version": "1.11.1"
  }
 },
 "nbformat": 4,
 "nbformat_minor": 5
}
