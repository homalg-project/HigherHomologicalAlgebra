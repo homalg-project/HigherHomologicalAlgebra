{
 "cells": [
  {
   "cell_type": "code",
   "execution_count": 1,
   "id": "00d92414",
   "metadata": {
    "scrolled": true
   },
   "outputs": [
    {
     "name": "stdout",
     "output_type": "stream",
     "text": [
      "CapAndHomalg v\u001b[32m1.6.2\u001b[39m\n",
      "Imported OSCAR's components GAP and Singular_jll\n",
      "Type: ?CapAndHomalg for more information\n"
     ]
    }
   ],
   "source": [
    "using CapAndHomalg"
   ]
  },
  {
   "cell_type": "code",
   "execution_count": 2,
   "id": "8b414c12",
   "metadata": {},
   "outputs": [],
   "source": [
    "LoadPackage(\"FunctorCategories\")\n",
    "LoadPackage(\"DerivedCategories\")"
   ]
  },
  {
   "cell_type": "code",
   "execution_count": 3,
   "id": "fe91a3db",
   "metadata": {},
   "outputs": [
    {
     "data": {
      "text/plain": [
       "GAP: FinQuiver( \"q(v1,v2,v3,v4)[a:v1→v2,b:v2→v4,c:v1→v3,d:v3→v4]\" )"
      ]
     },
     "execution_count": 3,
     "metadata": {},
     "output_type": "execute_result"
    }
   ],
   "source": [
    "𝓺 = FinQuiver( g\"q(v1,v2,v3,v4)[a:v1->v2,b:v2->v4,c:v1->v3,d:v3->v4]\" )"
   ]
  },
  {
   "cell_type": "code",
   "execution_count": 4,
   "id": "59ba12d2",
   "metadata": {},
   "outputs": [],
   "source": [
    "SetLaTeXStringsOfObjects( 𝓺, ConvertJuliaToGAP( [\"v_1\", \"v_2\", \"v_3\", \"v_4\"] ) )\n",
    "SetLaTeXStringsOfMorphisms( 𝓺, ConvertJuliaToGAP( [\"a\", \"b\", \"c\", \"d\"] ) )"
   ]
  },
  {
   "cell_type": "code",
   "execution_count": 5,
   "id": "6857787b",
   "metadata": {},
   "outputs": [
    {
     "data": {
      "text/plain": [
       "GAP: PathCategory( FinQuiver( \"q(v1,v2,v3,v4)[a:v1→v2,b:v2→v4,c:v1→v3,d:v3→v4]\" ) )"
      ]
     },
     "execution_count": 5,
     "metadata": {},
     "output_type": "execute_result"
    }
   ],
   "source": [
    "F𝓺 = PathCategory( 𝓺 )"
   ]
  },
  {
   "cell_type": "code",
   "execution_count": 6,
   "id": "c4e68d10",
   "metadata": {},
   "outputs": [
    {
     "data": {
      "text/plain": [
       "GAP: Q"
      ]
     },
     "execution_count": 6,
     "metadata": {},
     "output_type": "execute_result"
    }
   ],
   "source": [
    "k = HomalgFieldOfRationals()"
   ]
  },
  {
   "cell_type": "code",
   "execution_count": 7,
   "id": "4f79ad75",
   "metadata": {},
   "outputs": [
    {
     "data": {
      "text/plain": [
       "GAP: Q-LinearClosure( PathCategory( FinQuiver( \"q(v1,v2,v3,v4)[a:v1→v2,b:v2→v4,c:v1→v3,d:v3→v4]\" ) ) )"
      ]
     },
     "execution_count": 7,
     "metadata": {},
     "output_type": "execute_result"
    }
   ],
   "source": [
    "kF𝓺 = k[F𝓺]"
   ]
  },
  {
   "cell_type": "code",
   "execution_count": 8,
   "id": "278ce74c",
   "metadata": {},
   "outputs": [
    {
     "data": {
      "text/plain": [
       "1-element Vector{GapObj}:\n",
       " GAP: 1*a⋅b - 1*c⋅d:(v1) → (v4)"
      ]
     },
     "execution_count": 8,
     "metadata": {},
     "output_type": "execute_result"
    }
   ],
   "source": [
    "ρ = [ PreCompose( kF𝓺.\"a\", kF𝓺.\"b\" ) - PreCompose( kF𝓺.\"c\", kF𝓺.\"d\" ) ]"
   ]
  },
  {
   "cell_type": "code",
   "execution_count": 9,
   "id": "b74e1399",
   "metadata": {},
   "outputs": [
    {
     "data": {
      "text/plain": [
       "GAP: Q-algebroid( {v1,v2,v3,v4}[a:v1→v2,b:v2→v4,c:v1→v3,d:v3→v4] ) defined by 4 objects and 4 generating morphisms"
      ]
     },
     "execution_count": 9,
     "metadata": {},
     "output_type": "execute_result"
    }
   ],
   "source": [
    "𝐀 =  AlgebroidFromDataTables( kF𝓺 / ρ )"
   ]
  },
  {
   "cell_type": "code",
   "execution_count": 10,
   "id": "9894951e",
   "metadata": {},
   "outputs": [
    {
     "name": "stdout",
     "output_type": "stream",
     "text": [
      "A CAP category with name Q-algebroid( {v1,v2,v3,v4}[a:v1→v2,b:v2→v4,c:v1→v3,d:v3→v4] ) defined by 4 objects and 4 generating morphisms:\n",
      "\n",
      "29 primitive operations were used to derive 80 operations for this category which algorithmically\n",
      "* IsObjectFiniteCategory\n",
      "* IsCategoryWithDecidableColifts\n",
      "* IsCategoryWithDecidableLifts\n",
      "* IsEquippedWithHomomorphismStructure\n",
      "* IsLinearCategoryOverCommutativeRingWithFinitelyGeneratedFreeExternalHoms\n"
     ]
    }
   ],
   "source": [
    "Display( 𝐀 )"
   ]
  },
  {
   "cell_type": "code",
   "execution_count": 11,
   "id": "7a74481d-fbcd-46e9-a9b7-df22d6048c02",
   "metadata": {},
   "outputs": [
    {
     "data": {
      "text/plain": [
       "true"
      ]
     },
     "execution_count": 11,
     "metadata": {},
     "output_type": "execute_result"
    }
   ],
   "source": [
    "IsAdmissibleAlgebroid( 𝐀 )"
   ]
  },
  {
   "cell_type": "code",
   "execution_count": 12,
   "id": "d664448e",
   "metadata": {},
   "outputs": [
    {
     "data": {
      "text/plain": [
       "GAP: <(v4)>"
      ]
     },
     "execution_count": 12,
     "metadata": {},
     "output_type": "execute_result"
    }
   ],
   "source": [
    "v1 = 𝐀.\"v1\"; v2 = 𝐀.\"v2\"; v3 = 𝐀.\"v3\"; v4 = 𝐀.\"v4\""
   ]
  },
  {
   "cell_type": "code",
   "execution_count": 13,
   "id": "dc2a34fd",
   "metadata": {},
   "outputs": [
    {
     "data": {
      "text/plain": [
       "GAP: [ <(v1)>, <(v2)>, <(v3)>, <(v4)> ]"
      ]
     },
     "execution_count": 13,
     "metadata": {},
     "output_type": "execute_result"
    }
   ],
   "source": [
    "SetOfObjects( 𝐀 )"
   ]
  },
  {
   "cell_type": "code",
   "execution_count": 14,
   "id": "6a1fdcfd",
   "metadata": {},
   "outputs": [
    {
     "data": {
      "text/plain": [
       "GAP: [ <1*a:(v1) → (v2)>, <1*b:(v2) → (v4)>, <1*c:(v1) → (v3)>, <1*d:(v3) → (v4)> ]"
      ]
     },
     "execution_count": 14,
     "metadata": {},
     "output_type": "execute_result"
    }
   ],
   "source": [
    "SetOfGeneratingMorphisms( 𝐀 )"
   ]
  },
  {
   "cell_type": "code",
   "execution_count": 15,
   "id": "0b241e61",
   "metadata": {},
   "outputs": [
    {
     "data": {
      "text/plain": [
       "GAP: [ <1*c⋅d:(v1) → (v4)> ]"
      ]
     },
     "execution_count": 15,
     "metadata": {},
     "output_type": "execute_result"
    }
   ],
   "source": [
    "B_v1v4 = BasisOfExternalHom( v1, v4 )"
   ]
  },
  {
   "cell_type": "code",
   "execution_count": 16,
   "id": "911a595e",
   "metadata": {},
   "outputs": [
    {
     "data": {
      "text/latex": [
       "$${v_1}-\\left({{c}{d}}\\right)\\rightarrow{v_4}$$"
      ]
     },
     "metadata": {},
     "output_type": "display_data"
    }
   ],
   "source": [
    "Show( B_v1v4[1] )"
   ]
  },
  {
   "cell_type": "code",
   "execution_count": 17,
   "id": "898f612e-722d-4f79-8737-31e73a18b012",
   "metadata": {},
   "outputs": [
    {
     "data": {
      "text/plain": [
       "GAP: Q-algebroid( {v1,v2,v3,v4}[a:v2→v1,b:v4→v2,c:v3→v1,d:v4→v3] ) defined by 4 objects and 4 generating morphisms"
      ]
     },
     "execution_count": 17,
     "metadata": {},
     "output_type": "execute_result"
    }
   ],
   "source": [
    "𝐀ᵒᵖ = OppositeAlgebroid( 𝐀 )"
   ]
  },
  {
   "cell_type": "code",
   "execution_count": 18,
   "id": "5d936d7c-3c57-4ccd-b064-53fa57e143de",
   "metadata": {},
   "outputs": [
    {
     "data": {
      "text/plain": [
       "true"
      ]
     },
     "execution_count": 18,
     "metadata": {},
     "output_type": "execute_result"
    }
   ],
   "source": [
    "IsAdmissibleAlgebroid( 𝐀ᵒᵖ )"
   ]
  },
  {
   "cell_type": "code",
   "execution_count": 19,
   "id": "22acb10b",
   "metadata": {},
   "outputs": [
    {
     "data": {
      "text/plain": [
       "GAP: PreSheaves( Q-algebroid( {v1,v2,v3,v4}[a:v1→v2,b:v2→v4,c:v1→v3,d:v3→v4] ) defined by 4 objects and 4 generating morphisms, Rows( Q ) )"
      ]
     },
     "execution_count": 19,
     "metadata": {},
     "output_type": "execute_result"
    }
   ],
   "source": [
    "PSh = PreSheaves( 𝐀 )"
   ]
  },
  {
   "cell_type": "code",
   "execution_count": 20,
   "id": "187e6ce3-58ab-4b29-a242-8a93346a56de",
   "metadata": {},
   "outputs": [
    {
     "name": "stdout",
     "output_type": "stream",
     "text": [
      "A CAP category with name PreSheaves( Q-algebroid( {v1,v2,v3,v4}[a:v1→v2,b:v2→v4,c:v1→v3,d:v3→v4] ) defined by 4 objects and 4 generating morphisms, Rows( Q ) ):\n",
      "\n",
      "59 primitive operations were used to derive 345 operations for this category which algorithmically\n",
      "* IsCategoryWithDecidableColifts\n",
      "* IsCategoryWithDecidableLifts\n",
      "* IsEquippedWithHomomorphismStructure\n",
      "* IsLinearCategoryOverCommutativeRingWithFinitelyGeneratedFreeExternalHoms\n",
      "* IsAbelianCategoryWithEnoughInjectives\n",
      "* IsAbelianCategoryWithEnoughProjectives\n"
     ]
    }
   ],
   "source": [
    "Display( PSh )"
   ]
  },
  {
   "cell_type": "code",
   "execution_count": 21,
   "id": "f4290d7d",
   "metadata": {},
   "outputs": [
    {
     "data": {
      "text/plain": [
       "GAP: Yoneda embedding functor"
      ]
     },
     "execution_count": 21,
     "metadata": {},
     "output_type": "execute_result"
    }
   ],
   "source": [
    "𝕪 = YonedaEmbeddingOfSourceCategory( PSh ) # from 𝐀 to PSh"
   ]
  },
  {
   "cell_type": "code",
   "execution_count": 22,
   "id": "3c4d0aca",
   "metadata": {},
   "outputs": [
    {
     "name": "stdout",
     "output_type": "stream",
     "text": [
      "Yoneda embedding functor:\n",
      "\n",
      "Q-algebroid( {v1,v2,v3,v4}[a:v1→v2,b:v2→v4,c:v1→v3,d:v3→v4] ) defined by 4 objects and 4 generating morphisms\n",
      "  |\n",
      "  V\n",
      "PreSheaves( Q-algebroid( {v1,v2,v3,v4}[a:v1→v2,b:v2→v4,c:v1→v3,d:v3→v4] ) defined by 4 objects and 4 generating morphisms, Rows( Q ) )\n"
     ]
    }
   ],
   "source": [
    "Display( 𝕪 )"
   ]
  },
  {
   "cell_type": "code",
   "execution_count": 23,
   "id": "82cd8f2d",
   "metadata": {},
   "outputs": [
    {
     "data": {
      "text/plain": [
       "GAP: <(v1)->1, (v2)->0, (v3)->0, (v4)->0; (a)->0x1, (b)->0x0, (c)->0x1, (d)->0x0>"
      ]
     },
     "execution_count": 23,
     "metadata": {},
     "output_type": "execute_result"
    }
   ],
   "source": [
    "P₁ = 𝕪( v1 )"
   ]
  },
  {
   "cell_type": "code",
   "execution_count": 24,
   "id": "0172c3ec",
   "metadata": {},
   "outputs": [
    {
     "data": {
      "text/latex": [
       "$$\\begin{array}{ccc}\n",
       " v_1 & \\mapsto & \\mathbb{Q}^{1 \\times 1} \\\\ v_2 & \\mapsto & \\mathbb{Q}^{1 \\times 0} \\\\ v_3 & \\mapsto & \\mathbb{Q}^{1 \\times 0} \\\\ v_4 & \\mapsto & \\mathbb{Q}^{1 \\times 0} \\\\ \\hline & & \\\\{a} & \\mapsto & \\mathbb{Q}^{1 \\times 0}{\\color{blue}{\\xrightarrow{()_{0 \\times 1}}}}\\mathbb{Q}^{1 \\times 1} \\\\ & & \\\\{b} & \\mapsto & \\mathbb{Q}^{1 \\times 0}{\\color{blue}{\\xrightarrow{()_{0 \\times 0}}}}\\mathbb{Q}^{1 \\times 0} \\\\ & & \\\\{c} & \\mapsto & \\mathbb{Q}^{1 \\times 0}{\\color{blue}{\\xrightarrow{()_{0 \\times 1}}}}\\mathbb{Q}^{1 \\times 1} \\\\ & & \\\\{d} & \\mapsto & \\mathbb{Q}^{1 \\times 0}{\\color{blue}{\\xrightarrow{()_{0 \\times 0}}}}\\mathbb{Q}^{1 \\times 0} \\\\ & & \\\\\\end{array}$$"
      ]
     },
     "metadata": {},
     "output_type": "display_data"
    }
   ],
   "source": [
    "Show( P₁ ) # 1000"
   ]
  },
  {
   "cell_type": "code",
   "execution_count": 25,
   "id": "cbf1b6d4",
   "metadata": {},
   "outputs": [
    {
     "data": {
      "text/plain": [
       "GAP: <(v1)->1, (v2)->1, (v3)->0, (v4)->0; (a)->1x1, (b)->0x1, (c)->0x1, (d)->0x0>"
      ]
     },
     "execution_count": 25,
     "metadata": {},
     "output_type": "execute_result"
    }
   ],
   "source": [
    "P₂ = 𝕪( v2 ) # 1100"
   ]
  },
  {
   "cell_type": "code",
   "execution_count": 26,
   "id": "f1366069",
   "metadata": {},
   "outputs": [
    {
     "data": {
      "text/latex": [
       "$$\\begin{array}{ccc}\n",
       " v_1 & \\mapsto & \\mathbb{Q}^{1 \\times 1} \\\\ v_2 & \\mapsto & \\mathbb{Q}^{1 \\times 1} \\\\ v_3 & \\mapsto & \\mathbb{Q}^{1 \\times 0} \\\\ v_4 & \\mapsto & \\mathbb{Q}^{1 \\times 0} \\\\ \\hline & & \\\\{a} & \\mapsto & \\mathbb{Q}^{1 \\times 1}{\\color{blue}{\\xrightarrow{\\left( \\begin{array}{r}\n",
       " 1 \n",
       "\\end{array} \\right)}}}\\mathbb{Q}^{1 \\times 1} \\\\ & & \\\\{b} & \\mapsto & \\mathbb{Q}^{1 \\times 0}{\\color{blue}{\\xrightarrow{()_{0 \\times 1}}}}\\mathbb{Q}^{1 \\times 1} \\\\ & & \\\\{c} & \\mapsto & \\mathbb{Q}^{1 \\times 0}{\\color{blue}{\\xrightarrow{()_{0 \\times 1}}}}\\mathbb{Q}^{1 \\times 1} \\\\ & & \\\\{d} & \\mapsto & \\mathbb{Q}^{1 \\times 0}{\\color{blue}{\\xrightarrow{()_{0 \\times 0}}}}\\mathbb{Q}^{1 \\times 0} \\\\ & & \\\\\\end{array}$$"
      ]
     },
     "metadata": {},
     "output_type": "display_data"
    }
   ],
   "source": [
    "Show( P₂ )"
   ]
  },
  {
   "cell_type": "code",
   "execution_count": 27,
   "id": "74b72bf1",
   "metadata": {},
   "outputs": [
    {
     "data": {
      "text/plain": [
       "GAP: <(v1)->1, (v2)->0, (v3)->1, (v4)->0; (a)->0x1, (b)->0x0, (c)->1x1, (d)->0x1>"
      ]
     },
     "execution_count": 27,
     "metadata": {},
     "output_type": "execute_result"
    }
   ],
   "source": [
    "P₃ = 𝕪( v3 ) # 1010"
   ]
  },
  {
   "cell_type": "code",
   "execution_count": 28,
   "id": "0dc43dd6",
   "metadata": {},
   "outputs": [
    {
     "data": {
      "text/latex": [
       "$$\\begin{array}{ccc}\n",
       " v_1 & \\mapsto & \\mathbb{Q}^{1 \\times 1} \\\\ v_2 & \\mapsto & \\mathbb{Q}^{1 \\times 0} \\\\ v_3 & \\mapsto & \\mathbb{Q}^{1 \\times 1} \\\\ v_4 & \\mapsto & \\mathbb{Q}^{1 \\times 0} \\\\ \\hline & & \\\\{a} & \\mapsto & \\mathbb{Q}^{1 \\times 0}{\\color{blue}{\\xrightarrow{()_{0 \\times 1}}}}\\mathbb{Q}^{1 \\times 1} \\\\ & & \\\\{b} & \\mapsto & \\mathbb{Q}^{1 \\times 0}{\\color{blue}{\\xrightarrow{()_{0 \\times 0}}}}\\mathbb{Q}^{1 \\times 0} \\\\ & & \\\\{c} & \\mapsto & \\mathbb{Q}^{1 \\times 1}{\\color{blue}{\\xrightarrow{\\left( \\begin{array}{r}\n",
       " 1 \n",
       "\\end{array} \\right)}}}\\mathbb{Q}^{1 \\times 1} \\\\ & & \\\\{d} & \\mapsto & \\mathbb{Q}^{1 \\times 0}{\\color{blue}{\\xrightarrow{()_{0 \\times 1}}}}\\mathbb{Q}^{1 \\times 1} \\\\ & & \\\\\\end{array}$$"
      ]
     },
     "metadata": {},
     "output_type": "display_data"
    }
   ],
   "source": [
    "Show( P₃ )"
   ]
  },
  {
   "cell_type": "code",
   "execution_count": 29,
   "id": "3464b123",
   "metadata": {},
   "outputs": [
    {
     "data": {
      "text/plain": [
       "GAP: <(v1)->1, (v2)->1, (v3)->1, (v4)->1; (a)->1x1, (b)->1x1, (c)->1x1, (d)->1x1>"
      ]
     },
     "execution_count": 29,
     "metadata": {},
     "output_type": "execute_result"
    }
   ],
   "source": [
    "P₄ = 𝕪( v4 ) # 1111"
   ]
  },
  {
   "cell_type": "code",
   "execution_count": 30,
   "id": "79398022",
   "metadata": {},
   "outputs": [
    {
     "data": {
      "text/latex": [
       "$$\\begin{array}{ccc}\n",
       " v_1 & \\mapsto & \\mathbb{Q}^{1 \\times 1} \\\\ v_2 & \\mapsto & \\mathbb{Q}^{1 \\times 1} \\\\ v_3 & \\mapsto & \\mathbb{Q}^{1 \\times 1} \\\\ v_4 & \\mapsto & \\mathbb{Q}^{1 \\times 1} \\\\ \\hline & & \\\\{a} & \\mapsto & \\mathbb{Q}^{1 \\times 1}{\\color{blue}{\\xrightarrow{\\left( \\begin{array}{r}\n",
       " 1 \n",
       "\\end{array} \\right)}}}\\mathbb{Q}^{1 \\times 1} \\\\ & & \\\\{b} & \\mapsto & \\mathbb{Q}^{1 \\times 1}{\\color{blue}{\\xrightarrow{\\left( \\begin{array}{r}\n",
       " 1 \n",
       "\\end{array} \\right)}}}\\mathbb{Q}^{1 \\times 1} \\\\ & & \\\\{c} & \\mapsto & \\mathbb{Q}^{1 \\times 1}{\\color{blue}{\\xrightarrow{\\left( \\begin{array}{r}\n",
       " 1 \n",
       "\\end{array} \\right)}}}\\mathbb{Q}^{1 \\times 1} \\\\ & & \\\\{d} & \\mapsto & \\mathbb{Q}^{1 \\times 1}{\\color{blue}{\\xrightarrow{\\left( \\begin{array}{r}\n",
       " 1 \n",
       "\\end{array} \\right)}}}\\mathbb{Q}^{1 \\times 1} \\\\ & & \\\\\\end{array}$$"
      ]
     },
     "metadata": {},
     "output_type": "display_data"
    }
   ],
   "source": [
    "Show( P₄ )"
   ]
  },
  {
   "cell_type": "code",
   "execution_count": 31,
   "id": "70a85370",
   "metadata": {},
   "outputs": [
    {
     "data": {
      "text/plain": [
       "true"
      ]
     },
     "execution_count": 31,
     "metadata": {},
     "output_type": "execute_result"
    }
   ],
   "source": [
    "IsProjective( DirectSum( P₁, P₂, P₃, P₄ ) )"
   ]
  },
  {
   "cell_type": "code",
   "execution_count": 32,
   "id": "681c7774",
   "metadata": {},
   "outputs": [
    {
     "data": {
      "text/plain": [
       "GAP: AdditiveClosure( Q-algebroid( {v1,v2,v3,v4}[a:v1→v2,b:v2→v4,c:v1→v3,d:v3→v4] ) defined by 4 objects and 4 generating morphisms )"
      ]
     },
     "execution_count": 32,
     "metadata": {},
     "output_type": "execute_result"
    }
   ],
   "source": [
    "⨁𝐀 = AdditiveClosure( 𝐀 )"
   ]
  },
  {
   "cell_type": "code",
   "execution_count": 33,
   "id": "aaceabc2",
   "metadata": {},
   "outputs": [
    {
     "data": {
      "text/plain": [
       "GAP: Extension of Yoneda embedding functor to a functor from the additive closure of the source"
      ]
     },
     "execution_count": 33,
     "metadata": {},
     "output_type": "execute_result"
    }
   ],
   "source": [
    "𝕪 = ExtendFunctorToAdditiveClosureOfSource( 𝕪 )"
   ]
  },
  {
   "cell_type": "code",
   "execution_count": 34,
   "id": "cfad7ed4",
   "metadata": {},
   "outputs": [
    {
     "name": "stdout",
     "output_type": "stream",
     "text": [
      "Extension of Yoneda embedding functor to a functor from the additive closure of the source:\n",
      "\n",
      "AdditiveClosure( Q-algebroid( {v1,v2,v3,v4}[a:v1→v2,b:v2→v4,c:v1→v3,d:v3→v4] ) defined by 4 objects and 4 generating morphisms )\n",
      "  |\n",
      "  V\n",
      "PreSheaves( Q-algebroid( {v1,v2,v3,v4}[a:v1→v2,b:v2→v4,c:v1→v3,d:v3→v4] ) defined by 4 objects and 4 generating morphisms, Rows( Q ) )\n"
     ]
    }
   ],
   "source": [
    "Display( 𝕪 )"
   ]
  },
  {
   "cell_type": "code",
   "execution_count": 35,
   "id": "2a0382b3",
   "metadata": {},
   "outputs": [
    {
     "data": {
      "text/plain": [
       "GAP: Homotopy category by cochains( AdditiveClosure( Q-algebroid( {v1,v2,v3,v4}[a:v1→v2,b:v2→v4,c:v1→v3,d:v3→v4] ) defined by 4 objects and 4 generating morphisms ) )"
      ]
     },
     "execution_count": 35,
     "metadata": {},
     "output_type": "execute_result"
    }
   ],
   "source": [
    "𝓚ᵇ⨁𝐀 = HomotopyCategoryByCochains( ⨁𝐀 )"
   ]
  },
  {
   "cell_type": "code",
   "execution_count": 36,
   "id": "4007703a",
   "metadata": {},
   "outputs": [
    {
     "data": {
      "text/plain": [
       "GAP: Extension of ( Extension of Yoneda embedding functor to a functor from the additive closure of the source ) to homotopy categories by cochains"
      ]
     },
     "execution_count": 36,
     "metadata": {},
     "output_type": "execute_result"
    }
   ],
   "source": [
    "𝕐 = ExtendFunctorToHomotopyCategoriesByCochains( 𝕪 )"
   ]
  },
  {
   "cell_type": "code",
   "execution_count": 37,
   "id": "41dd9ad7",
   "metadata": {},
   "outputs": [
    {
     "name": "stdout",
     "output_type": "stream",
     "text": [
      "Extension of ( Extension of Yoneda embedding functor to a functor from the additive closure of the source ) to homotopy categories by cochains:\n",
      "\n",
      "Homotopy category by cochains( AdditiveClosure( Q-algebroid( {v1,v2,v3,v4}[a:v1→v2,b:v2→v4,c:v1→v3,d:v3→v4] ) defined by 4 objects and 4 generating morphisms ) )\n",
      "  |\n",
      "  V\n",
      "Homotopy category by cochains( PreSheaves( Q-algebroid( {v1,v2,v3,v4}[a:v1→v2,b:v2→v4,c:v1→v3,d:v3→v4] ) defined by 4 objects and 4 generating morphisms, Rows( Q ) ) )\n"
     ]
    }
   ],
   "source": [
    "Display( 𝕐 )"
   ]
  },
  {
   "cell_type": "code",
   "execution_count": 38,
   "id": "4aa913e4",
   "metadata": {},
   "outputs": [
    {
     "data": {
      "text/plain": [
       "GAP: <An object in AdditiveClosure( Q-algebroid( {v1,v2,v3,v4}[a:v1→v2,b:v2→v4,c:v1→v3,d:v3→v4] ) defined by 4 objects and 4 generating morphisms ) defined by 1 underlying objects>"
      ]
     },
     "execution_count": 38,
     "metadata": {},
     "output_type": "execute_result"
    }
   ],
   "source": [
    "C⁻¹ = [ 𝐀.\"v1\" ] / ⨁𝐀"
   ]
  },
  {
   "cell_type": "code",
   "execution_count": 39,
   "id": "214f5d0c",
   "metadata": {},
   "outputs": [
    {
     "data": {
      "text/plain": [
       "GAP: <An object in AdditiveClosure( Q-algebroid( {v1,v2,v3,v4}[a:v1→v2,b:v2→v4,c:v1→v3,d:v3→v4] ) defined by 4 objects and 4 generating morphisms ) defined by 2 underlying objects>"
      ]
     },
     "execution_count": 39,
     "metadata": {},
     "output_type": "execute_result"
    }
   ],
   "source": [
    "C⁰ = [ 𝐀.\"v2\", 𝐀.\"v3\" ] /  ⨁𝐀"
   ]
  },
  {
   "cell_type": "code",
   "execution_count": 40,
   "id": "71bb6625",
   "metadata": {},
   "outputs": [
    {
     "data": {
      "text/plain": [
       "GAP: <A morphism in AdditiveClosure( Q-algebroid( {v1,v2,v3,v4}[a:v1→v2,b:v2→v4,c:v1→v3,d:v3→v4] ) defined by 4 objects and 4 generating morphisms ) defined by a 1 x 2 matrix of underlying morphisms>"
      ]
     },
     "execution_count": 40,
     "metadata": {},
     "output_type": "execute_result"
    }
   ],
   "source": [
    "∂⁻¹ = AdditiveClosureMorphism(\n",
    "            C⁻¹, \n",
    "            ConvertJuliaToGAP( [ [ 𝐀.\"a\", 𝐀.\"c\" ] ] ),\n",
    "            C⁰ )"
   ]
  },
  {
   "cell_type": "code",
   "execution_count": 41,
   "id": "6e3eaedc",
   "metadata": {},
   "outputs": [
    {
     "data": {
      "text/latex": [
       "$${v_1}\\xrightarrow{\\begin{pmatrix}{a}&{c}\\end{pmatrix}}{v_2}\\oplus{v_3}$$"
      ]
     },
     "metadata": {},
     "output_type": "display_data"
    }
   ],
   "source": [
    "Show( ∂⁻¹ )"
   ]
  },
  {
   "cell_type": "code",
   "execution_count": 42,
   "id": "a8d90125",
   "metadata": {},
   "outputs": [
    {
     "data": {
      "text/plain": [
       "GAP: <An object in Homotopy category by cochains( AdditiveClosure( Q-algebroid( {v1,v2,v3,v4}[a:v1→v2,b:v2→v4,c:v1→v3,d:v3→v4] ) defined by 4 objects and 4 generating morphisms ) ) supported on the interval [ -1 .. 0 ]>"
      ]
     },
     "execution_count": 42,
     "metadata": {},
     "output_type": "execute_result"
    }
   ],
   "source": [
    "C = CreateComplex( 𝓚ᵇ⨁𝐀, [ ∂⁻¹ ], -1 )"
   ]
  },
  {
   "cell_type": "code",
   "execution_count": 43,
   "id": "932b5284",
   "metadata": {},
   "outputs": [
    {
     "data": {
      "text/latex": [
       "$$\\begin{array}{c}\n",
       "{v_2}\\oplus{v_3}\n",
       "\\\\\n",
       "\\uparrow_{\\phantom{-1}}\n",
       "\\\\\n",
       "\\begin{pmatrix}{a}&{c}\\end{pmatrix}\n",
       "\\\\\n",
       "{\\vert_{-1}}\n",
       "\n",
       "\\\\\n",
       "{v_1}\\end{array}$$"
      ]
     },
     "metadata": {},
     "output_type": "display_data"
    }
   ],
   "source": [
    "Show( C )"
   ]
  },
  {
   "cell_type": "code",
   "execution_count": 44,
   "id": "d8835d01",
   "metadata": {},
   "outputs": [
    {
     "data": {
      "text/plain": [
       "GAP: <An object in Homotopy category by cochains( PreSheaves( Q-algebroid( {v1,v2,v3,v4}[a:v1→v2,b:v2→v4,c:v1→v3,d:v3→v4] ) defined by 4 objects and 4 generating morphisms, Rows( Q ) ) ) supported on the interval [ -1 .. 0 ]>"
      ]
     },
     "execution_count": 44,
     "metadata": {},
     "output_type": "execute_result"
    }
   ],
   "source": [
    "𝕐_C = ApplyFunctor( 𝕐, C )"
   ]
  },
  {
   "cell_type": "code",
   "execution_count": 45,
   "id": "e255f0e4",
   "metadata": {},
   "outputs": [
    {
     "data": {
      "text/latex": [
       "$$\\begin{array}{c}\n",
       "\\begin{array}{ccc}\n",
       " v_1 & \\mapsto & \\mathbb{Q}^{1 \\times 2} \\\\ v_2 & \\mapsto & \\mathbb{Q}^{1 \\times 1} \\\\ v_3 & \\mapsto & \\mathbb{Q}^{1 \\times 1} \\\\ v_4 & \\mapsto & \\mathbb{Q}^{1 \\times 0} \\\\ \\hline & & \\\\{a} & \\mapsto & \\mathbb{Q}^{1 \\times 1}{\\color{blue}{\\xrightarrow{\\left( \\begin{array}{rr}\n",
       " 1 & \\cdot \n",
       "\\end{array} \\right)}}}\\mathbb{Q}^{1 \\times 2} \\\\ & & \\\\{b} & \\mapsto & \\mathbb{Q}^{1 \\times 0}{\\color{blue}{\\xrightarrow{()_{0 \\times 1}}}}\\mathbb{Q}^{1 \\times 1} \\\\ & & \\\\{c} & \\mapsto & \\mathbb{Q}^{1 \\times 1}{\\color{blue}{\\xrightarrow{\\left( \\begin{array}{rr}\n",
       " \\cdot & 1 \n",
       "\\end{array} \\right)}}}\\mathbb{Q}^{1 \\times 2} \\\\ & & \\\\{d} & \\mapsto & \\mathbb{Q}^{1 \\times 0}{\\color{blue}{\\xrightarrow{()_{0 \\times 1}}}}\\mathbb{Q}^{1 \\times 1} \\\\ & & \\\\\\end{array}\n",
       "\\\\\n",
       "\\uparrow_{\\phantom{-1}}\n",
       "\\\\\n",
       "\\begin{array}{ccc}\n",
       "v_1 & \\mapsto & \\mathbb{Q}^{1 \\times 1}{\\color{blue}{\\xrightarrow{\\left( \\begin{array}{rr}\n",
       " 1 & 1 \n",
       "\\end{array} \\right)}}}\\mathbb{Q}^{1 \\times 2} \\\\ & & \\\\v_2 & \\mapsto & \\mathbb{Q}^{1 \\times 0}{\\color{blue}{\\xrightarrow{()_{0 \\times 1}}}}\\mathbb{Q}^{1 \\times 1} \\\\ & & \\\\v_3 & \\mapsto & \\mathbb{Q}^{1 \\times 0}{\\color{blue}{\\xrightarrow{()_{0 \\times 1}}}}\\mathbb{Q}^{1 \\times 1} \\\\ & & \\\\v_4 & \\mapsto & \\mathbb{Q}^{1 \\times 0}{\\color{blue}{\\xrightarrow{()_{0 \\times 0}}}}\\mathbb{Q}^{1 \\times 0} \\\\ & & \\\\\\end{array}\n",
       "\\\\\n",
       "{\\vert_{-1}}\n",
       "\n",
       "\\\\\n",
       "\\begin{array}{ccc}\n",
       " v_1 & \\mapsto & \\mathbb{Q}^{1 \\times 1} \\\\ v_2 & \\mapsto & \\mathbb{Q}^{1 \\times 0} \\\\ v_3 & \\mapsto & \\mathbb{Q}^{1 \\times 0} \\\\ v_4 & \\mapsto & \\mathbb{Q}^{1 \\times 0} \\\\ \\hline & & \\\\{a} & \\mapsto & \\mathbb{Q}^{1 \\times 0}{\\color{blue}{\\xrightarrow{()_{0 \\times 1}}}}\\mathbb{Q}^{1 \\times 1} \\\\ & & \\\\{b} & \\mapsto & \\mathbb{Q}^{1 \\times 0}{\\color{blue}{\\xrightarrow{()_{0 \\times 0}}}}\\mathbb{Q}^{1 \\times 0} \\\\ & & \\\\{c} & \\mapsto & \\mathbb{Q}^{1 \\times 0}{\\color{blue}{\\xrightarrow{()_{0 \\times 1}}}}\\mathbb{Q}^{1 \\times 1} \\\\ & & \\\\{d} & \\mapsto & \\mathbb{Q}^{1 \\times 0}{\\color{blue}{\\xrightarrow{()_{0 \\times 0}}}}\\mathbb{Q}^{1 \\times 0} \\\\ & & \\\\\\end{array}\\end{array}$$"
      ]
     },
     "metadata": {},
     "output_type": "display_data"
    }
   ],
   "source": [
    "Show( 𝕐_C )"
   ]
  },
  {
   "cell_type": "code",
   "execution_count": 46,
   "id": "ecd866dc",
   "metadata": {},
   "outputs": [
    {
     "data": {
      "text/plain": [
       "GAP: [ 0 ]"
      ]
     },
     "execution_count": 46,
     "metadata": {},
     "output_type": "execute_result"
    }
   ],
   "source": [
    "CohomologySupport( 𝕐_C )"
   ]
  },
  {
   "cell_type": "code",
   "execution_count": 47,
   "id": "0d0a4b26",
   "metadata": {},
   "outputs": [
    {
     "data": {
      "text/plain": [
       "GAP: <(v1)->1, (v2)->1, (v3)->1, (v4)->0; (a)->1x1, (b)->0x1, (c)->1x1, (d)->0x1>"
      ]
     },
     "execution_count": 47,
     "metadata": {},
     "output_type": "execute_result"
    }
   ],
   "source": [
    "H⁰ = CohomologyAt( 𝕐_C, 0 ) # 0111"
   ]
  },
  {
   "cell_type": "code",
   "execution_count": 48,
   "id": "16e0dc96",
   "metadata": {},
   "outputs": [],
   "source": [
    "∂⁻¹ = DifferentialAt( 𝕐_C, -1 );"
   ]
  },
  {
   "cell_type": "code",
   "execution_count": 49,
   "id": "a8a86b55",
   "metadata": {},
   "outputs": [
    {
     "data": {
      "text/plain": [
       "GAP: <(v1)->2x1, (v2)->1x1, (v3)->1x1, (v4)->0x0>"
      ]
     },
     "execution_count": 49,
     "metadata": {},
     "output_type": "execute_result"
    }
   ],
   "source": [
    "∂⁰ = CokernelProjection( ∂⁻¹ )"
   ]
  },
  {
   "cell_type": "code",
   "execution_count": 50,
   "id": "68956d6b",
   "metadata": {},
   "outputs": [
    {
     "data": {
      "text/latex": [
       "$$\\begin{array}{ccc}\n",
       "v_1 & \\mapsto & \\mathbb{Q}^{1 \\times 1}{\\color{blue}{\\xrightarrow{\\left( \\begin{array}{rr}\n",
       " 1 & 1 \n",
       "\\end{array} \\right)}}}\\mathbb{Q}^{1 \\times 2} \\\\ & & \\\\v_2 & \\mapsto & \\mathbb{Q}^{1 \\times 0}{\\color{blue}{\\xrightarrow{()_{0 \\times 1}}}}\\mathbb{Q}^{1 \\times 1} \\\\ & & \\\\v_3 & \\mapsto & \\mathbb{Q}^{1 \\times 0}{\\color{blue}{\\xrightarrow{()_{0 \\times 1}}}}\\mathbb{Q}^{1 \\times 1} \\\\ & & \\\\v_4 & \\mapsto & \\mathbb{Q}^{1 \\times 0}{\\color{blue}{\\xrightarrow{()_{0 \\times 0}}}}\\mathbb{Q}^{1 \\times 0} \\\\ & & \\\\\\end{array}$$"
      ]
     },
     "metadata": {},
     "output_type": "display_data"
    }
   ],
   "source": [
    "Show( ∂⁻¹, OnlyDatum = true )"
   ]
  },
  {
   "cell_type": "code",
   "execution_count": 51,
   "id": "32b96ff4",
   "metadata": {},
   "outputs": [
    {
     "data": {
      "text/latex": [
       "$$\\begin{array}{ccc}\n",
       "v_1 & \\mapsto & \\mathbb{Q}^{1 \\times 2}{\\color{blue}{\\xrightarrow{\\left( \\begin{array}{r}\n",
       " -1 \\\\ \n",
       " 1 \n",
       "\\end{array} \\right)}}}\\mathbb{Q}^{1 \\times 1} \\\\ & & \\\\v_2 & \\mapsto & \\mathbb{Q}^{1 \\times 1}{\\color{blue}{\\xrightarrow{\\left( \\begin{array}{r}\n",
       " 1 \n",
       "\\end{array} \\right)}}}\\mathbb{Q}^{1 \\times 1} \\\\ & & \\\\v_3 & \\mapsto & \\mathbb{Q}^{1 \\times 1}{\\color{blue}{\\xrightarrow{\\left( \\begin{array}{r}\n",
       " 1 \n",
       "\\end{array} \\right)}}}\\mathbb{Q}^{1 \\times 1} \\\\ & & \\\\v_4 & \\mapsto & \\mathbb{Q}^{1 \\times 0}{\\color{blue}{\\xrightarrow{()_{0 \\times 0}}}}\\mathbb{Q}^{1 \\times 0} \\\\ & & \\\\\\end{array}$$"
      ]
     },
     "metadata": {},
     "output_type": "display_data"
    }
   ],
   "source": [
    "Show( ∂⁰, OnlyDatum = true )"
   ]
  },
  {
   "cell_type": "code",
   "execution_count": 52,
   "id": "a2d89dd5",
   "metadata": {},
   "outputs": [
    {
     "data": {
      "text/plain": [
       "GAP: Homotopy category by cochains( PreSheaves( Q-algebroid( {v1,v2,v3,v4}[a:v1→v2,b:v2→v4,c:v1→v3,d:v3→v4] ) defined by 4 objects and 4 generating morphisms, Rows( Q ) ) )"
      ]
     },
     "execution_count": 52,
     "metadata": {},
     "output_type": "execute_result"
    }
   ],
   "source": [
    "𝓚ᵇPSh = RangeOfFunctor( 𝕐 ) # or HomotopyCategoryByCochains( PSh )"
   ]
  },
  {
   "cell_type": "code",
   "execution_count": 53,
   "id": "dac23f5d",
   "metadata": {},
   "outputs": [
    {
     "data": {
      "text/plain": [
       "GAP: <An object in Homotopy category by cochains( PreSheaves( Q-algebroid( {v1,v2,v3,v4}[a:v1→v2,b:v2→v4,c:v1→v3,d:v3→v4] ) defined by 4 objects and 4 generating morphisms, Rows( Q ) ) ) supported on the interval [ -1 .. 1 ]>"
      ]
     },
     "execution_count": 53,
     "metadata": {},
     "output_type": "execute_result"
    }
   ],
   "source": [
    "B = CreateComplex( 𝓚ᵇPSh, [ ∂⁻¹, ∂⁰ ], -1 )"
   ]
  },
  {
   "cell_type": "code",
   "execution_count": 54,
   "id": "3eb5afce",
   "metadata": {},
   "outputs": [
    {
     "data": {
      "text/plain": [
       "GAP: [  ]"
      ]
     },
     "execution_count": 54,
     "metadata": {},
     "output_type": "execute_result"
    }
   ],
   "source": [
    "CohomologySupport( B )"
   ]
  },
  {
   "cell_type": "code",
   "execution_count": 55,
   "id": "53344c29",
   "metadata": {},
   "outputs": [
    {
     "data": {
      "text/plain": [
       "GAP: <(v1)->1, (v2)->1, (v3)->1, (v4)->1; (a)->1x1, (b)->1x1, (c)->1x1, (d)->1x1>"
      ]
     },
     "execution_count": 55,
     "metadata": {},
     "output_type": "execute_result"
    }
   ],
   "source": [
    "𝓔₁ = P₂; 𝓔₂ = P₃; 𝓔₃ = H⁰; 𝓔₄ = P₄"
   ]
  },
  {
   "cell_type": "code",
   "execution_count": 56,
   "id": "84cfea05",
   "metadata": {},
   "outputs": [
    {
     "data": {
      "text/plain": [
       "GAP: <(v1)->4, (v2)->3, (v3)->3, (v4)->1; (a)->3x4, (b)->1x3, (c)->3x4, (d)->1x3>"
      ]
     },
     "execution_count": 56,
     "metadata": {},
     "output_type": "execute_result"
    }
   ],
   "source": [
    "T = DirectSum( 𝓔₁, 𝓔₂, 𝓔₃, 𝓔₄ ) # the tilting module"
   ]
  },
  {
   "cell_type": "code",
   "execution_count": 57,
   "id": "9c3d0132",
   "metadata": {},
   "outputs": [
    {
     "data": {
      "text/latex": [
       "$$\\begin{array}{ccc}\n",
       " v_1 & \\mapsto & \\mathbb{Q}^{1 \\times 4} \\\\ v_2 & \\mapsto & \\mathbb{Q}^{1 \\times 3} \\\\ v_3 & \\mapsto & \\mathbb{Q}^{1 \\times 3} \\\\ v_4 & \\mapsto & \\mathbb{Q}^{1 \\times 1} \\\\ \\hline & & \\\\{a} & \\mapsto & \\mathbb{Q}^{1 \\times 3}{\\color{blue}{\\xrightarrow{\\left( \\begin{array}{rrrr}\n",
       " 1 & \\cdot & \\cdot & \\cdot \\\\ \n",
       " \\cdot & \\cdot & -1 & \\cdot \\\\ \n",
       " \\cdot & \\cdot & \\cdot & 1 \n",
       "\\end{array} \\right)}}}\\mathbb{Q}^{1 \\times 4} \\\\ & & \\\\{b} & \\mapsto & \\mathbb{Q}^{1 \\times 1}{\\color{blue}{\\xrightarrow{\\left( \\begin{array}{rrr}\n",
       " \\cdot & \\cdot & 1 \n",
       "\\end{array} \\right)}}}\\mathbb{Q}^{1 \\times 3} \\\\ & & \\\\{c} & \\mapsto & \\mathbb{Q}^{1 \\times 3}{\\color{blue}{\\xrightarrow{\\left( \\begin{array}{rrrr}\n",
       " \\cdot & 1 & \\cdot & \\cdot \\\\ \n",
       " \\cdot & \\cdot & 1 & \\cdot \\\\ \n",
       " \\cdot & \\cdot & \\cdot & 1 \n",
       "\\end{array} \\right)}}}\\mathbb{Q}^{1 \\times 4} \\\\ & & \\\\{d} & \\mapsto & \\mathbb{Q}^{1 \\times 1}{\\color{blue}{\\xrightarrow{\\left( \\begin{array}{rrr}\n",
       " \\cdot & \\cdot & 1 \n",
       "\\end{array} \\right)}}}\\mathbb{Q}^{1 \\times 3} \\\\ & & \\\\\\end{array}$$"
      ]
     },
     "metadata": {},
     "output_type": "display_data"
    }
   ],
   "source": [
    "Show( T )"
   ]
  },
  {
   "cell_type": "code",
   "execution_count": 58,
   "id": "1e2ec997",
   "metadata": {},
   "outputs": [
    {
     "data": {
      "text/plain": [
       "GAP: <A row module over Q of rank 9>"
      ]
     },
     "execution_count": 58,
     "metadata": {},
     "output_type": "execute_result"
    }
   ],
   "source": [
    "HomStructure( T, T )"
   ]
  },
  {
   "cell_type": "code",
   "execution_count": 59,
   "id": "54f1e7f0",
   "metadata": {},
   "outputs": [
    {
     "data": {
      "text/plain": [
       "GAP: A strong exceptional sequence in PreSheaves( Q-algebroid( {v1,v2,v3,v4}[a:v1→v2,b:v2→v4,c:v1→v3,d:v3→v4] ) defined by 4 objects and 4 generating morphisms, Rows( Q ) )"
      ]
     },
     "execution_count": 59,
     "metadata": {},
     "output_type": "execute_result"
    }
   ],
   "source": [
    "𝓔 = CreateStrongExceptionalSequence( ConvertJuliaToGAP( [ 𝓔₁, 𝓔₂, 𝓔₃, 𝓔₄ ] ) )"
   ]
  },
  {
   "cell_type": "code",
   "execution_count": 60,
   "id": "03053af2",
   "metadata": {},
   "outputs": [
    {
     "data": {
      "text/plain": [
       "GAP: Q-algebroid( {E1,E2,E3,E4}[m1_3_1:E1→E3,m2_3_1:E2→E3,m3_4_1:E3→E4] ) defined by 4 objects and 3 generating morphisms"
      ]
     },
     "execution_count": 60,
     "metadata": {},
     "output_type": "execute_result"
    }
   ],
   "source": [
    "𝐀_𝓔 = AbstractionAlgebroid( 𝓔 )"
   ]
  },
  {
   "cell_type": "code",
   "execution_count": 61,
   "id": "89a24af1",
   "metadata": {},
   "outputs": [
    {
     "data": {
      "text/plain": [
       "GAP: FinQuiver( \"q(E1,E2,E3,E4)[m1_3_1:E1→E3,m2_3_1:E2→E3,m3_4_1:E3→E4]\" )"
      ]
     },
     "execution_count": 61,
     "metadata": {},
     "output_type": "execute_result"
    }
   ],
   "source": [
    "𝓺_𝓔 = UnderlyingQuiver( 𝐀_𝓔 )"
   ]
  },
  {
   "cell_type": "code",
   "execution_count": 62,
   "id": "aaf6f330",
   "metadata": {},
   "outputs": [
    {
     "data": {
      "text/plain": [
       "GAP: [  ]"
      ]
     },
     "execution_count": 62,
     "metadata": {},
     "output_type": "execute_result"
    }
   ],
   "source": [
    "DefiningRelations( DefiningCategory( 𝐀_𝓔 ) )"
   ]
  },
  {
   "cell_type": "code",
   "execution_count": 63,
   "id": "240158a5",
   "metadata": {},
   "outputs": [
    {
     "data": {
      "text/plain": [
       "GAP: Isomorphism: strong exceptional sequence ⟶ abstraction algebroid"
      ]
     },
     "execution_count": 63,
     "metadata": {},
     "output_type": "execute_result"
    }
   ],
   "source": [
    "𝕒 = IsomorphismIntoAbstractionAlgebroid( 𝓔 )"
   ]
  },
  {
   "cell_type": "code",
   "execution_count": 64,
   "id": "50bb0140",
   "metadata": {},
   "outputs": [
    {
     "name": "stdout",
     "output_type": "stream",
     "text": [
      "Isomorphism: strong exceptional sequence ⟶ abstraction algebroid:\n",
      "\n",
      "A strong exceptional sequence in PreSheaves( Q-algebroid( {v1,v2,v3,v4}[a:v1→v2,b:v2→v4,c:v1→v3,d:v3→v4] ) defined by 4 objects and 4 generating morphisms, Rows( Q ) )\n",
      "  |\n",
      "  V\n",
      "Q-algebroid( {E1,E2,E3,E4}[m1_3_1:E1→E3,m2_3_1:E2→E3,m3_4_1:E3→E4] ) defined by 4 objects and 3 generating morphisms\n"
     ]
    }
   ],
   "source": [
    "Display( 𝕒 )"
   ]
  },
  {
   "cell_type": "code",
   "execution_count": 65,
   "id": "c1be4152",
   "metadata": {},
   "outputs": [
    {
     "data": {
      "text/plain": [
       "GAP: Isomorphism: abstraction algebroid ⟶ strong exceptional sequence"
      ]
     },
     "execution_count": 65,
     "metadata": {},
     "output_type": "execute_result"
    }
   ],
   "source": [
    "𝕣 = IsomorphismFromAbstractionAlgebroid( 𝓔 )"
   ]
  },
  {
   "cell_type": "code",
   "execution_count": 66,
   "id": "a4928aea",
   "metadata": {},
   "outputs": [
    {
     "name": "stdout",
     "output_type": "stream",
     "text": [
      "Isomorphism: abstraction algebroid ⟶ strong exceptional sequence:\n",
      "\n",
      "Q-algebroid( {E1,E2,E3,E4}[m1_3_1:E1→E3,m2_3_1:E2→E3,m3_4_1:E3→E4] ) defined by 4 objects and 3 generating morphisms\n",
      "  |\n",
      "  V\n",
      "A strong exceptional sequence in PreSheaves( Q-algebroid( {v1,v2,v3,v4}[a:v1→v2,b:v2→v4,c:v1→v3,d:v3→v4] ) defined by 4 objects and 4 generating morphisms, Rows( Q ) )\n"
     ]
    }
   ],
   "source": [
    "Display( 𝕣 )"
   ]
  },
  {
   "cell_type": "code",
   "execution_count": 67,
   "id": "62ffc534",
   "metadata": {},
   "outputs": [
    {
     "data": {
      "text/plain": [
       "GAP: <(E4)>"
      ]
     },
     "execution_count": 67,
     "metadata": {},
     "output_type": "execute_result"
    }
   ],
   "source": [
    "𝕒( 𝓔[4] )"
   ]
  },
  {
   "cell_type": "code",
   "execution_count": 68,
   "id": "55d00765",
   "metadata": {},
   "outputs": [
    {
     "data": {
      "text/plain": [
       "true"
      ]
     },
     "execution_count": 68,
     "metadata": {},
     "output_type": "execute_result"
    }
   ],
   "source": [
    "𝕣( 𝐀_𝓔.\"E4\" ) == 𝓔[4]"
   ]
  },
  {
   "cell_type": "code",
   "execution_count": 69,
   "id": "c15ebae2",
   "metadata": {},
   "outputs": [
    {
     "data": {
      "text/plain": [
       "GAP: PreSheaves( Q-algebroid( {E1,E2,E3,E4}[m1_3_1:E1→E3,m2_3_1:E2→E3,m3_4_1:E3→E4] ) defined by 4 objects and 3 generating morphisms, Rows( Q ) )"
      ]
     },
     "execution_count": 69,
     "metadata": {},
     "output_type": "execute_result"
    }
   ],
   "source": [
    "PSh_𝓔 = PreSheaves( 𝐀_𝓔 )"
   ]
  },
  {
   "cell_type": "code",
   "execution_count": 70,
   "id": "e3678525",
   "metadata": {},
   "outputs": [
    {
     "data": {
      "text/plain": [
       "GAP: Hom(T,-) functor"
      ]
     },
     "execution_count": 70,
     "metadata": {},
     "output_type": "execute_result"
    }
   ],
   "source": [
    "Hom☾T◞₋☽ = HomFunctorOfStrongExceptionalSequence( 𝓔 )"
   ]
  },
  {
   "cell_type": "code",
   "execution_count": 71,
   "id": "b2ce09aa",
   "metadata": {},
   "outputs": [
    {
     "name": "stdout",
     "output_type": "stream",
     "text": [
      "Hom(T,-) functor:\n",
      "\n",
      "PreSheaves( Q-algebroid( {v1,v2,v3,v4}[a:v1→v2,b:v2→v4,c:v1→v3,d:v3→v4] ) defined by 4 objects and 4 generating morphisms, Rows( Q ) )\n",
      "  |\n",
      "  V\n",
      "PreSheaves( Q-algebroid( {E1,E2,E3,E4}[m1_3_1:E1→E3,m2_3_1:E2→E3,m3_4_1:E3→E4] ) defined by 4 objects and 3 generating morphisms, Rows( Q ) )\n"
     ]
    }
   ],
   "source": [
    "Display( Hom☾T◞₋☽ )"
   ]
  },
  {
   "cell_type": "code",
   "execution_count": 72,
   "id": "d47d77c0",
   "metadata": {},
   "outputs": [
    {
     "data": {
      "text/plain": [
       "GAP: -⊗T functor"
      ]
     },
     "execution_count": 72,
     "metadata": {},
     "output_type": "execute_result"
    }
   ],
   "source": [
    "₋⨂T = TensorProductFunctorOfStrongExceptionalSequence( 𝓔 )"
   ]
  },
  {
   "cell_type": "code",
   "execution_count": 73,
   "id": "528f6ed8",
   "metadata": {},
   "outputs": [
    {
     "data": {
      "text/plain": [
       "GAP: Hom(T,-) ⊗ T => Id"
      ]
     },
     "execution_count": 73,
     "metadata": {},
     "output_type": "execute_result"
    }
   ],
   "source": [
    "ϵ = CounitOfTensorHomAdjunction( 𝓔 )"
   ]
  },
  {
   "cell_type": "code",
   "execution_count": 74,
   "id": "d3b4a581",
   "metadata": {},
   "outputs": [
    {
     "data": {
      "text/plain": [
       "GAP: Id => Hom(T, -⊗T)"
      ]
     },
     "execution_count": 74,
     "metadata": {},
     "output_type": "execute_result"
    }
   ],
   "source": [
    "η = UnitOfTensorHomAdjunction( 𝓔 )"
   ]
  },
  {
   "cell_type": "code",
   "execution_count": 75,
   "id": "6c12e12d-d87f-45b1-8df0-fa531b6a08c4",
   "metadata": {},
   "outputs": [
    {
     "data": {
      "text/plain": [
       "GAP: Rows( Q )"
      ]
     },
     "execution_count": 75,
     "metadata": {},
     "output_type": "execute_result"
    }
   ],
   "source": [
    "target_PSh = Target( PSh )"
   ]
  },
  {
   "cell_type": "code",
   "execution_count": 76,
   "id": "b712a0ff",
   "metadata": {},
   "outputs": [
    {
     "data": {
      "text/plain": [
       "GAP: <(v1)->2, (v2)->2, (v3)->1, (v4)->4; (a)->2x2, (b)->4x2, (c)->1x2, (d)->4x1>"
      ]
     },
     "execution_count": 76,
     "metadata": {},
     "output_type": "execute_result"
    }
   ],
   "source": [
    "F = CreatePreSheafByValues( PSh,\n",
    "        ConvertJuliaToGAP( [ 2 / target_PSh, 2 / target_PSh, 1 / target_PSh, 4 / target_PSh ] ),\n",
    "        ConvertJuliaToGAP(\n",
    "            [ HomalgMatrix( \"[ [  0,  1 ], [  0,  0 ] ]\", 2, 2, k ) / target_PSh,\n",
    "              HomalgMatrix( \"[ [ 0, 0 ], [ 1, 0 ], [ 0, 1 ], [ 0, 0 ] ]\", 4, 2, k ) / target_PSh,\n",
    "              HomalgMatrix( \"[ [ 0, 1 ] ]\", 1, 2, k ) / target_PSh,\n",
    "              HomalgMatrix( \"[ [ 0 ], [ 1 ], [ 0 ], [ 0 ] ]\", 4, 1, k ) / target_PSh ] ) )"
   ]
  },
  {
   "cell_type": "code",
   "execution_count": 77,
   "id": "308af7aa",
   "metadata": {},
   "outputs": [
    {
     "data": {
      "text/plain": [
       "true"
      ]
     },
     "execution_count": 77,
     "metadata": {},
     "output_type": "execute_result"
    }
   ],
   "source": [
    "IsWellDefined( F )"
   ]
  },
  {
   "cell_type": "code",
   "execution_count": 78,
   "id": "455d4ed7",
   "metadata": {},
   "outputs": [
    {
     "data": {
      "text/latex": [
       "$$\\begin{array}{ccc}\n",
       " v_1 & \\mapsto & \\mathbb{Q}^{1 \\times 2} \\\\ v_2 & \\mapsto & \\mathbb{Q}^{1 \\times 2} \\\\ v_3 & \\mapsto & \\mathbb{Q}^{1 \\times 1} \\\\ v_4 & \\mapsto & \\mathbb{Q}^{1 \\times 4} \\\\ \\hline & & \\\\{a} & \\mapsto & \\mathbb{Q}^{1 \\times 2}{\\color{blue}{\\xrightarrow{\\left( \\begin{array}{rr}\n",
       " \\cdot & 1 \\\\ \n",
       " \\cdot & \\cdot \n",
       "\\end{array} \\right)}}}\\mathbb{Q}^{1 \\times 2} \\\\ & & \\\\{b} & \\mapsto & \\mathbb{Q}^{1 \\times 4}{\\color{blue}{\\xrightarrow{\\left( \\begin{array}{rr}\n",
       " \\cdot & \\cdot \\\\ \n",
       " 1 & \\cdot \\\\ \n",
       " \\cdot & 1 \\\\ \n",
       " \\cdot & \\cdot \n",
       "\\end{array} \\right)}}}\\mathbb{Q}^{1 \\times 2} \\\\ & & \\\\{c} & \\mapsto & \\mathbb{Q}^{1 \\times 1}{\\color{blue}{\\xrightarrow{\\left( \\begin{array}{rr}\n",
       " \\cdot & 1 \n",
       "\\end{array} \\right)}}}\\mathbb{Q}^{1 \\times 2} \\\\ & & \\\\{d} & \\mapsto & \\mathbb{Q}^{1 \\times 4}{\\color{blue}{\\xrightarrow{\\left( \\begin{array}{r}\n",
       " \\cdot \\\\ \n",
       " 1 \\\\ \n",
       " \\cdot \\\\ \n",
       " \\cdot \n",
       "\\end{array} \\right)}}}\\mathbb{Q}^{1 \\times 1} \\\\ & & \\\\\\end{array}$$"
      ]
     },
     "metadata": {},
     "output_type": "display_data"
    }
   ],
   "source": [
    "Show( F )"
   ]
  },
  {
   "cell_type": "code",
   "execution_count": 79,
   "id": "da8a0433",
   "metadata": {},
   "outputs": [
    {
     "data": {
      "text/plain": [
       "GAP: <(v1)->1, (v2)->2, (v3)->1, (v4)->4; (a)->2x1, (b)->4x2, (c)->1x1, (d)->4x1>"
      ]
     },
     "execution_count": 79,
     "metadata": {},
     "output_type": "execute_result"
    }
   ],
   "source": [
    "Hom☾T◞F☽⨂T = ₋⨂T( Hom☾T◞₋☽( F ) )"
   ]
  },
  {
   "cell_type": "code",
   "execution_count": 80,
   "id": "d71168d1",
   "metadata": {},
   "outputs": [
    {
     "data": {
      "text/latex": [
       "$$\\begin{array}{ccc}\n",
       " v_1 & \\mapsto & \\mathbb{Q}^{1 \\times 1} \\\\ v_2 & \\mapsto & \\mathbb{Q}^{1 \\times 2} \\\\ v_3 & \\mapsto & \\mathbb{Q}^{1 \\times 1} \\\\ v_4 & \\mapsto & \\mathbb{Q}^{1 \\times 4} \\\\ \\hline & & \\\\{a} & \\mapsto & \\mathbb{Q}^{1 \\times 2}{\\color{blue}{\\xrightarrow{\\left( \\begin{array}{r}\n",
       " 1 \\\\ \n",
       " \\cdot \n",
       "\\end{array} \\right)}}}\\mathbb{Q}^{1 \\times 1} \\\\ & & \\\\{b} & \\mapsto & \\mathbb{Q}^{1 \\times 4}{\\color{blue}{\\xrightarrow{\\left( \\begin{array}{rr}\n",
       " \\cdot & \\cdot \\\\ \n",
       " 1 & \\cdot \\\\ \n",
       " \\cdot & 1 \\\\ \n",
       " \\cdot & \\cdot \n",
       "\\end{array} \\right)}}}\\mathbb{Q}^{1 \\times 2} \\\\ & & \\\\{c} & \\mapsto & \\mathbb{Q}^{1 \\times 1}{\\color{blue}{\\xrightarrow{\\left( \\begin{array}{r}\n",
       " 1 \n",
       "\\end{array} \\right)}}}\\mathbb{Q}^{1 \\times 1} \\\\ & & \\\\{d} & \\mapsto & \\mathbb{Q}^{1 \\times 4}{\\color{blue}{\\xrightarrow{\\left( \\begin{array}{r}\n",
       " \\cdot \\\\ \n",
       " 1 \\\\ \n",
       " \\cdot \\\\ \n",
       " \\cdot \n",
       "\\end{array} \\right)}}}\\mathbb{Q}^{1 \\times 1} \\\\ & & \\\\\\end{array}$$"
      ]
     },
     "metadata": {},
     "output_type": "display_data"
    }
   ],
   "source": [
    "Show( Hom☾T◞F☽⨂T )"
   ]
  },
  {
   "cell_type": "code",
   "execution_count": 81,
   "id": "f2b4515d",
   "metadata": {},
   "outputs": [
    {
     "data": {
      "text/plain": [
       "GAP: <(v1)->1x2, (v2)->2x2, (v3)->1x1, (v4)->4x4>"
      ]
     },
     "execution_count": 81,
     "metadata": {},
     "output_type": "execute_result"
    }
   ],
   "source": [
    "ϵ_F = ϵ( F )"
   ]
  },
  {
   "cell_type": "code",
   "execution_count": 82,
   "id": "83875a24",
   "metadata": {},
   "outputs": [
    {
     "data": {
      "text/latex": [
       "$$\\begin{array}{ccc}\n",
       "v_1 & \\mapsto & \\mathbb{Q}^{1 \\times 1}{\\color{blue}{\\xrightarrow{\\left( \\begin{array}{rr}\n",
       " \\cdot & 1 \n",
       "\\end{array} \\right)}}}\\mathbb{Q}^{1 \\times 2} \\\\ & & \\\\v_2 & \\mapsto & \\mathbb{Q}^{1 \\times 2}{\\color{blue}{\\xrightarrow{\\left( \\begin{array}{rr}\n",
       " 1 & \\cdot \\\\ \n",
       " \\cdot & 1 \n",
       "\\end{array} \\right)}}}\\mathbb{Q}^{1 \\times 2} \\\\ & & \\\\v_3 & \\mapsto & \\mathbb{Q}^{1 \\times 1}{\\color{blue}{\\xrightarrow{\\left( \\begin{array}{r}\n",
       " 1 \n",
       "\\end{array} \\right)}}}\\mathbb{Q}^{1 \\times 1} \\\\ & & \\\\v_4 & \\mapsto & \\mathbb{Q}^{1 \\times 4}{\\color{blue}{\\xrightarrow{\\left( \\begin{array}{rrrr}\n",
       " 1 & \\cdot & \\cdot & \\cdot \\\\ \n",
       " \\cdot & 1 & \\cdot & \\cdot \\\\ \n",
       " \\cdot & \\cdot & 1 & \\cdot \\\\ \n",
       " \\cdot & \\cdot & \\cdot & 1 \n",
       "\\end{array} \\right)}}}\\mathbb{Q}^{1 \\times 4} \\\\ & & \\\\\\end{array}$$"
      ]
     },
     "metadata": {},
     "output_type": "display_data"
    }
   ],
   "source": [
    "Show( ϵ_F, OnlyDatum = true )"
   ]
  },
  {
   "cell_type": "code",
   "execution_count": 83,
   "id": "b4e8f187",
   "metadata": {},
   "outputs": [
    {
     "data": {
      "text/plain": [
       "GAP: <(v1)->0, (v2)->4, (v3)->2, (v4)->1; (a)->4x0, (b)->1x4, (c)->2x0, (d)->1x2>"
      ]
     },
     "execution_count": 83,
     "metadata": {},
     "output_type": "execute_result"
    }
   ],
   "source": [
    "G = CreatePreSheafByValues( PSh,\n",
    "        ConvertJuliaToGAP( [ 0 / target_PSh, 4 / target_PSh, 2 / target_PSh, 1 / target_PSh ] ),\n",
    "        ConvertJuliaToGAP(\n",
    "            [ HomalgZeroMatrix( 4, 0, k ) / target_PSh,\n",
    "              HomalgMatrix( \"[ [ 0, 1, 0, 0 ] ]\", 1, 4, k ) / target_PSh,\n",
    "              HomalgZeroMatrix( 2, 0, k ) / target_PSh,\n",
    "              HomalgMatrix( \"[ [ 1, 0 ] ]\", 1, 2, k ) / target_PSh ] ) )"
   ]
  },
  {
   "cell_type": "code",
   "execution_count": 84,
   "id": "3e3e2d6a",
   "metadata": {},
   "outputs": [
    {
     "data": {
      "text/plain": [
       "GAP: <(v1)->2x0, (v2)->2x4, (v3)->1x2, (v4)->4x1>"
      ]
     },
     "execution_count": 84,
     "metadata": {},
     "output_type": "execute_result"
    }
   ],
   "source": [
    "ψ = CreatePreSheafMorphism(\n",
    "        F,\n",
    "        ConvertJuliaToGAP(\n",
    "            [ HomalgZeroMatrix( 2, 0, k ),\n",
    "              HomalgMatrix( \"[ [ 0, 1, 0, 0 ], [ 0, 0, 0, 0 ] ]\", 2, 4, k ),\n",
    "              HomalgMatrix( \"[ [ 1, 0 ] ]\", 1, 2, k ),\n",
    "              HomalgMatrix( \"[ [ 0 ], [ 1 ], [ 0 ], [ 0 ] ]\", 4, 1, k ) ] ),\n",
    "        G )"
   ]
  },
  {
   "cell_type": "code",
   "execution_count": 85,
   "id": "6b24495a",
   "metadata": {},
   "outputs": [
    {
     "data": {
      "text/plain": [
       "true"
      ]
     },
     "execution_count": 85,
     "metadata": {},
     "output_type": "execute_result"
    }
   ],
   "source": [
    "IsWellDefined( ψ )"
   ]
  },
  {
   "cell_type": "code",
   "execution_count": 86,
   "id": "a37fa5fe",
   "metadata": {},
   "outputs": [
    {
     "data": {
      "text/plain": [
       "true"
      ]
     },
     "execution_count": 86,
     "metadata": {},
     "output_type": "execute_result"
    }
   ],
   "source": [
    "PreCompose( ϵ( F ), ψ ) == PreCompose( ₋⨂T( Hom☾T◞₋☽( ψ ) ), ϵ( G ) )"
   ]
  },
  {
   "cell_type": "code",
   "execution_count": 87,
   "id": "7311d052",
   "metadata": {},
   "outputs": [
    {
     "data": {
      "text/plain": [
       "GAP: Extension of ( Hom(T,-) functor ) to homotopy categories by cochains"
      ]
     },
     "execution_count": 87,
     "metadata": {},
     "output_type": "execute_result"
    }
   ],
   "source": [
    "Hom☾T◞₋☽ = ExtendFunctorToHomotopyCategoriesByCochains( Hom☾T◞₋☽ )"
   ]
  },
  {
   "cell_type": "code",
   "execution_count": 88,
   "id": "74f034be",
   "metadata": {},
   "outputs": [
    {
     "data": {
      "text/plain": [
       "GAP: Extension of ( -⊗T functor ) to homotopy categories by cochains"
      ]
     },
     "execution_count": 88,
     "metadata": {},
     "output_type": "execute_result"
    }
   ],
   "source": [
    "₋⨂T = ExtendFunctorToHomotopyCategoriesByCochains( ₋⨂T )"
   ]
  },
  {
   "cell_type": "code",
   "execution_count": 89,
   "id": "9d78e923",
   "metadata": {},
   "outputs": [
    {
     "data": {
      "text/plain": [
       "GAP: Homotopy category by cochains( PreSheaves( Q-algebroid( {E1,E2,E3,E4}[m1_3_1:E1→E3,m2_3_1:E2→E3,m3_4_1:E3→E4] ) defined by 4 objects and 3 generating morphisms, Rows( Q ) ) )"
      ]
     },
     "execution_count": 89,
     "metadata": {},
     "output_type": "execute_result"
    }
   ],
   "source": [
    "𝓚ᵇPSh_𝓔 = RangeOfFunctor( Hom☾T◞₋☽ ) # or HomotopyCategoryByCochains( PSh_𝓔 )"
   ]
  },
  {
   "cell_type": "code",
   "execution_count": 90,
   "id": "2397db0e",
   "metadata": {},
   "outputs": [
    {
     "data": {
      "text/plain": [
       "GAP: Extention of (Hom(T,-) ⊗ T => Id) to homotopy categories by cochains"
      ]
     },
     "execution_count": 90,
     "metadata": {},
     "output_type": "execute_result"
    }
   ],
   "source": [
    "ϵ = ExtendNaturalTransformationToHomotopyCategoriesByCochains( ϵ )"
   ]
  },
  {
   "cell_type": "code",
   "execution_count": 91,
   "id": "489390c2",
   "metadata": {},
   "outputs": [
    {
     "data": {
      "text/plain": [
       "GAP: <An object in Homotopy category by cochains( PreSheaves( Q-algebroid( {v1,v2,v3,v4}[a:v1→v2,b:v2→v4,c:v1→v3,d:v3→v4] ) defined by 4 objects and 4 generating morphisms, Rows( Q ) ) ) supported on the interval [ 0 ]>"
      ]
     },
     "execution_count": 91,
     "metadata": {},
     "output_type": "execute_result"
    }
   ],
   "source": [
    "P = CreateComplex( 𝓚ᵇPSh, P₁, 0 )"
   ]
  },
  {
   "cell_type": "code",
   "execution_count": 92,
   "id": "53e3164c",
   "metadata": {},
   "outputs": [
    {
     "data": {
      "text/plain": [
       "GAP: <An object in Homotopy category by cochains( PreSheaves( Q-algebroid( {v1,v2,v3,v4}[a:v1→v2,b:v2→v4,c:v1→v3,d:v3→v4] ) defined by 4 objects and 4 generating morphisms, Rows( Q ) ) ) supported on the interval [ 0 .. 2 ]>"
      ]
     },
     "execution_count": 92,
     "metadata": {},
     "output_type": "execute_result"
    }
   ],
   "source": [
    "ℚP = InjectiveResolution( P, true )"
   ]
  },
  {
   "cell_type": "code",
   "execution_count": 93,
   "id": "1b718e8c",
   "metadata": {},
   "outputs": [
    {
     "data": {
      "text/plain": [
       "GAP: <A morphism in Homotopy category by cochains( PreSheaves( Q-algebroid( {v1,v2,v3,v4}[a:v1→v2,b:v2→v4,c:v1→v3,d:v3→v4] ) defined by 4 objects and 4 generating morphisms, Rows( Q ) ) ) supported on the interval [ 0 .. 2 ]>"
      ]
     },
     "execution_count": 93,
     "metadata": {},
     "output_type": "execute_result"
    }
   ],
   "source": [
    "𝓺_P = QuasiIsomorphismIntoInjectiveResolution( P, true )"
   ]
  },
  {
   "cell_type": "code",
   "execution_count": 94,
   "id": "b86e85ab",
   "metadata": {},
   "outputs": [
    {
     "data": {
      "text/plain": [
       "true"
      ]
     },
     "execution_count": 94,
     "metadata": {},
     "output_type": "execute_result"
    }
   ],
   "source": [
    "IsQuasiIsomorphism( 𝓺_P )"
   ]
  },
  {
   "cell_type": "code",
   "execution_count": 95,
   "id": "8ed988ff",
   "metadata": {},
   "outputs": [
    {
     "data": {
      "text/plain": [
       "GAP: <An object in Homotopy category by cochains( PreSheaves( Q-algebroid( {E1,E2,E3,E4}[m1_3_1:E1→E3,m2_3_1:E2→E3,m3_4_1:E3→E4] ) defined by 4 objects and 3 generating morphisms, Rows( Q ) ) ) supported on the interval [ 0 .. 2 ]>"
      ]
     },
     "execution_count": 95,
     "metadata": {},
     "output_type": "execute_result"
    }
   ],
   "source": [
    "Hom☾T◞ℚP☽ = Hom☾T◞₋☽( ℚP )"
   ]
  },
  {
   "cell_type": "code",
   "execution_count": 96,
   "id": "363eb7d6",
   "metadata": {},
   "outputs": [
    {
     "data": {
      "text/latex": [
       "$$\\begin{array}{c}\n",
       "\\begin{array}{ccc}\n",
       " E_{1} & \\mapsto & \\mathbb{Q}^{1 \\times 0} \\\\ E_{2} & \\mapsto & \\mathbb{Q}^{1 \\times 0} \\\\ E_{3} & \\mapsto & \\mathbb{Q}^{1 \\times 0} \\\\ E_{4} & \\mapsto & \\mathbb{Q}^{1 \\times 1} \\\\ \\hline & & \\\\{m_{1,3}^{1}} & \\mapsto & \\mathbb{Q}^{1 \\times 0}{\\color{blue}{\\xrightarrow{()_{0 \\times 0}}}}\\mathbb{Q}^{1 \\times 0} \\\\ & & \\\\{m_{2,3}^{1}} & \\mapsto & \\mathbb{Q}^{1 \\times 0}{\\color{blue}{\\xrightarrow{()_{0 \\times 0}}}}\\mathbb{Q}^{1 \\times 0} \\\\ & & \\\\{m_{3,4}^{1}} & \\mapsto & \\mathbb{Q}^{1 \\times 1}{\\color{blue}{\\xrightarrow{()_{1 \\times 0}}}}\\mathbb{Q}^{1 \\times 0} \\\\ & & \\\\\\end{array}\n",
       "\\\\\n",
       "\\uparrow_{\\phantom{1}}\n",
       "\\\\\n",
       "\\begin{array}{ccc}\n",
       "E_{1} & \\mapsto & \\mathbb{Q}^{1 \\times 1}{\\color{blue}{\\xrightarrow{()_{1 \\times 0}}}}\\mathbb{Q}^{1 \\times 0} \\\\ & & \\\\E_{2} & \\mapsto & \\mathbb{Q}^{1 \\times 1}{\\color{blue}{\\xrightarrow{()_{1 \\times 0}}}}\\mathbb{Q}^{1 \\times 0} \\\\ & & \\\\E_{3} & \\mapsto & \\mathbb{Q}^{1 \\times 2}{\\color{blue}{\\xrightarrow{()_{2 \\times 0}}}}\\mathbb{Q}^{1 \\times 0} \\\\ & & \\\\E_{4} & \\mapsto & \\mathbb{Q}^{1 \\times 2}{\\color{blue}{\\xrightarrow{\\left( \\begin{array}{r}\n",
       " -1 \\\\ \n",
       " 1 \n",
       "\\end{array} \\right)}}}\\mathbb{Q}^{1 \\times 1} \\\\ & & \\\\\\end{array}\n",
       "\\\\\n",
       "{\\vert_{1}}\n",
       "\n",
       "\\\\\n",
       "\\begin{array}{ccc}\n",
       " E_{1} & \\mapsto & \\mathbb{Q}^{1 \\times 1} \\\\ E_{2} & \\mapsto & \\mathbb{Q}^{1 \\times 1} \\\\ E_{3} & \\mapsto & \\mathbb{Q}^{1 \\times 2} \\\\ E_{4} & \\mapsto & \\mathbb{Q}^{1 \\times 2} \\\\ \\hline & & \\\\{m_{1,3}^{1}} & \\mapsto & \\mathbb{Q}^{1 \\times 2}{\\color{blue}{\\xrightarrow{\\left( \\begin{array}{r}\n",
       " 1 \\\\ \n",
       " \\cdot \n",
       "\\end{array} \\right)}}}\\mathbb{Q}^{1 \\times 1} \\\\ & & \\\\{m_{2,3}^{1}} & \\mapsto & \\mathbb{Q}^{1 \\times 2}{\\color{blue}{\\xrightarrow{\\left( \\begin{array}{r}\n",
       " \\cdot \\\\ \n",
       " 1 \n",
       "\\end{array} \\right)}}}\\mathbb{Q}^{1 \\times 1} \\\\ & & \\\\{m_{3,4}^{1}} & \\mapsto & \\mathbb{Q}^{1 \\times 2}{\\color{blue}{\\xrightarrow{\\left( \\begin{array}{rr}\n",
       " -1 & \\cdot \\\\ \n",
       " \\cdot & 1 \n",
       "\\end{array} \\right)}}}\\mathbb{Q}^{1 \\times 2} \\\\ & & \\\\\\end{array}\\\\\n",
       "\\uparrow_{\\phantom{0}}\n",
       "\\\\\n",
       "\\begin{array}{ccc}\n",
       "E_{1} & \\mapsto & \\mathbb{Q}^{1 \\times 1}{\\color{blue}{\\xrightarrow{\\left( \\begin{array}{r}\n",
       " 1 \n",
       "\\end{array} \\right)}}}\\mathbb{Q}^{1 \\times 1} \\\\ & & \\\\E_{2} & \\mapsto & \\mathbb{Q}^{1 \\times 1}{\\color{blue}{\\xrightarrow{\\left( \\begin{array}{r}\n",
       " 1 \n",
       "\\end{array} \\right)}}}\\mathbb{Q}^{1 \\times 1} \\\\ & & \\\\E_{3} & \\mapsto & \\mathbb{Q}^{1 \\times 1}{\\color{blue}{\\xrightarrow{\\left( \\begin{array}{rr}\n",
       " -1 & 1 \n",
       "\\end{array} \\right)}}}\\mathbb{Q}^{1 \\times 2} \\\\ & & \\\\E_{4} & \\mapsto & \\mathbb{Q}^{1 \\times 1}{\\color{blue}{\\xrightarrow{\\left( \\begin{array}{rr}\n",
       " 1 & 1 \n",
       "\\end{array} \\right)}}}\\mathbb{Q}^{1 \\times 2} \\\\ & & \\\\\\end{array}\n",
       "\\\\\n",
       "{\\vert_{0}}\n",
       "\n",
       "\\\\\n",
       "\\begin{array}{ccc}\n",
       " E_{1} & \\mapsto & \\mathbb{Q}^{1 \\times 1} \\\\ E_{2} & \\mapsto & \\mathbb{Q}^{1 \\times 1} \\\\ E_{3} & \\mapsto & \\mathbb{Q}^{1 \\times 1} \\\\ E_{4} & \\mapsto & \\mathbb{Q}^{1 \\times 1} \\\\ \\hline & & \\\\{m_{1,3}^{1}} & \\mapsto & \\mathbb{Q}^{1 \\times 1}{\\color{blue}{\\xrightarrow{\\left( \\begin{array}{r}\n",
       " -1 \n",
       "\\end{array} \\right)}}}\\mathbb{Q}^{1 \\times 1} \\\\ & & \\\\{m_{2,3}^{1}} & \\mapsto & \\mathbb{Q}^{1 \\times 1}{\\color{blue}{\\xrightarrow{\\left( \\begin{array}{r}\n",
       " 1 \n",
       "\\end{array} \\right)}}}\\mathbb{Q}^{1 \\times 1} \\\\ & & \\\\{m_{3,4}^{1}} & \\mapsto & \\mathbb{Q}^{1 \\times 1}{\\color{blue}{\\xrightarrow{\\left( \\begin{array}{r}\n",
       " 1 \n",
       "\\end{array} \\right)}}}\\mathbb{Q}^{1 \\times 1} \\\\ & & \\\\\\end{array}\\end{array}$$"
      ]
     },
     "metadata": {},
     "output_type": "display_data"
    }
   ],
   "source": [
    "Show( Hom☾T◞ℚP☽ )"
   ]
  },
  {
   "cell_type": "code",
   "execution_count": 97,
   "id": "6d102b3a",
   "metadata": {},
   "outputs": [
    {
     "data": {
      "text/plain": [
       "GAP: <An object in Homotopy category by cochains( PreSheaves( Q-algebroid( {E1,E2,E3,E4}[m1_3_1:E1→E3,m2_3_1:E2→E3,m3_4_1:E3→E4] ) defined by 4 objects and 3 generating morphisms, Rows( Q ) ) ) supported on the interval [ 0 .. 2 ]>"
      ]
     },
     "execution_count": 97,
     "metadata": {},
     "output_type": "execute_result"
    }
   ],
   "source": [
    "ℙHom☾T◞ℚP☽ = ProjectiveResolution( Hom☾T◞ℚP☽, true )"
   ]
  },
  {
   "cell_type": "code",
   "execution_count": 98,
   "id": "670355fd",
   "metadata": {},
   "outputs": [
    {
     "data": {
      "text/latex": [
       "$$\\begin{array}{c}\n",
       "\\begin{array}{ccc}\n",
       " E_{1} & \\mapsto & \\mathbb{Q}^{1 \\times 1} \\\\ E_{2} & \\mapsto & \\mathbb{Q}^{1 \\times 1} \\\\ E_{3} & \\mapsto & \\mathbb{Q}^{1 \\times 1} \\\\ E_{4} & \\mapsto & \\mathbb{Q}^{1 \\times 1} \\\\ \\hline & & \\\\{m_{1,3}^{1}} & \\mapsto & \\mathbb{Q}^{1 \\times 1}{\\color{blue}{\\xrightarrow{\\left( \\begin{array}{r}\n",
       " 1 \n",
       "\\end{array} \\right)}}}\\mathbb{Q}^{1 \\times 1} \\\\ & & \\\\{m_{2,3}^{1}} & \\mapsto & \\mathbb{Q}^{1 \\times 1}{\\color{blue}{\\xrightarrow{\\left( \\begin{array}{r}\n",
       " 1 \n",
       "\\end{array} \\right)}}}\\mathbb{Q}^{1 \\times 1} \\\\ & & \\\\{m_{3,4}^{1}} & \\mapsto & \\mathbb{Q}^{1 \\times 1}{\\color{blue}{\\xrightarrow{\\left( \\begin{array}{r}\n",
       " 1 \n",
       "\\end{array} \\right)}}}\\mathbb{Q}^{1 \\times 1} \\\\ & & \\\\\\end{array}\n",
       "\\\\\n",
       "\\uparrow_{\\phantom{1}}\n",
       "\\\\\n",
       "\\begin{array}{ccc}\n",
       "E_{1} & \\mapsto & \\mathbb{Q}^{1 \\times 3}{\\color{blue}{\\xrightarrow{\\left( \\begin{array}{r}\n",
       " -1 \\\\ \n",
       " 1 \\\\ \n",
       " -1 \n",
       "\\end{array} \\right)}}}\\mathbb{Q}^{1 \\times 1} \\\\ & & \\\\E_{2} & \\mapsto & \\mathbb{Q}^{1 \\times 3}{\\color{blue}{\\xrightarrow{\\left( \\begin{array}{r}\n",
       " -1 \\\\ \n",
       " 1 \\\\ \n",
       " -1 \n",
       "\\end{array} \\right)}}}\\mathbb{Q}^{1 \\times 1} \\\\ & & \\\\E_{3} & \\mapsto & \\mathbb{Q}^{1 \\times 3}{\\color{blue}{\\xrightarrow{\\left( \\begin{array}{r}\n",
       " -1 \\\\ \n",
       " 1 \\\\ \n",
       " -1 \n",
       "\\end{array} \\right)}}}\\mathbb{Q}^{1 \\times 1} \\\\ & & \\\\E_{4} & \\mapsto & \\mathbb{Q}^{1 \\times 2}{\\color{blue}{\\xrightarrow{\\left( \\begin{array}{r}\n",
       " -1 \\\\ \n",
       " 1 \n",
       "\\end{array} \\right)}}}\\mathbb{Q}^{1 \\times 1} \\\\ & & \\\\\\end{array}\n",
       "\\\\\n",
       "{\\vert_{1}}\n",
       "\n",
       "\\\\\n",
       "\\begin{array}{ccc}\n",
       " E_{1} & \\mapsto & \\mathbb{Q}^{1 \\times 3} \\\\ E_{2} & \\mapsto & \\mathbb{Q}^{1 \\times 3} \\\\ E_{3} & \\mapsto & \\mathbb{Q}^{1 \\times 3} \\\\ E_{4} & \\mapsto & \\mathbb{Q}^{1 \\times 2} \\\\ \\hline & & \\\\{m_{1,3}^{1}} & \\mapsto & \\mathbb{Q}^{1 \\times 3}{\\color{blue}{\\xrightarrow{\\left( \\begin{array}{rrr}\n",
       " 1 & \\cdot & \\cdot \\\\ \n",
       " \\cdot & 1 & \\cdot \\\\ \n",
       " \\cdot & \\cdot & 1 \n",
       "\\end{array} \\right)}}}\\mathbb{Q}^{1 \\times 3} \\\\ & & \\\\{m_{2,3}^{1}} & \\mapsto & \\mathbb{Q}^{1 \\times 3}{\\color{blue}{\\xrightarrow{\\left( \\begin{array}{rrr}\n",
       " 1 & \\cdot & \\cdot \\\\ \n",
       " \\cdot & 1 & \\cdot \\\\ \n",
       " \\cdot & \\cdot & 1 \n",
       "\\end{array} \\right)}}}\\mathbb{Q}^{1 \\times 3} \\\\ & & \\\\{m_{3,4}^{1}} & \\mapsto & \\mathbb{Q}^{1 \\times 2}{\\color{blue}{\\xrightarrow{\\left( \\begin{array}{rrr}\n",
       " 1 & \\cdot & \\cdot \\\\ \n",
       " \\cdot & 1 & \\cdot \n",
       "\\end{array} \\right)}}}\\mathbb{Q}^{1 \\times 3} \\\\ & & \\\\\\end{array}\\\\\n",
       "\\uparrow_{\\phantom{0}}\n",
       "\\\\\n",
       "\\begin{array}{ccc}\n",
       "E_{1} & \\mapsto & \\mathbb{Q}^{1 \\times 2}{\\color{blue}{\\xrightarrow{\\left( \\begin{array}{rrr}\n",
       " 1 & 1 & \\cdot \\\\ \n",
       " \\cdot & 1 & 1 \n",
       "\\end{array} \\right)}}}\\mathbb{Q}^{1 \\times 3} \\\\ & & \\\\E_{2} & \\mapsto & \\mathbb{Q}^{1 \\times 2}{\\color{blue}{\\xrightarrow{\\left( \\begin{array}{rrr}\n",
       " 1 & 1 & \\cdot \\\\ \n",
       " -1 & \\cdot & 1 \n",
       "\\end{array} \\right)}}}\\mathbb{Q}^{1 \\times 3} \\\\ & & \\\\E_{3} & \\mapsto & \\mathbb{Q}^{1 \\times 1}{\\color{blue}{\\xrightarrow{\\left( \\begin{array}{rrr}\n",
       " 1 & 1 & \\cdot \n",
       "\\end{array} \\right)}}}\\mathbb{Q}^{1 \\times 3} \\\\ & & \\\\E_{4} & \\mapsto & \\mathbb{Q}^{1 \\times 1}{\\color{blue}{\\xrightarrow{\\left( \\begin{array}{rr}\n",
       " 1 & 1 \n",
       "\\end{array} \\right)}}}\\mathbb{Q}^{1 \\times 2} \\\\ & & \\\\\\end{array}\n",
       "\\\\\n",
       "{\\vert_{0}}\n",
       "\n",
       "\\\\\n",
       "\\begin{array}{ccc}\n",
       " E_{1} & \\mapsto & \\mathbb{Q}^{1 \\times 2} \\\\ E_{2} & \\mapsto & \\mathbb{Q}^{1 \\times 2} \\\\ E_{3} & \\mapsto & \\mathbb{Q}^{1 \\times 1} \\\\ E_{4} & \\mapsto & \\mathbb{Q}^{1 \\times 1} \\\\ \\hline & & \\\\{m_{1,3}^{1}} & \\mapsto & \\mathbb{Q}^{1 \\times 1}{\\color{blue}{\\xrightarrow{\\left( \\begin{array}{rr}\n",
       " 1 & \\cdot \n",
       "\\end{array} \\right)}}}\\mathbb{Q}^{1 \\times 2} \\\\ & & \\\\{m_{2,3}^{1}} & \\mapsto & \\mathbb{Q}^{1 \\times 1}{\\color{blue}{\\xrightarrow{\\left( \\begin{array}{rr}\n",
       " 1 & \\cdot \n",
       "\\end{array} \\right)}}}\\mathbb{Q}^{1 \\times 2} \\\\ & & \\\\{m_{3,4}^{1}} & \\mapsto & \\mathbb{Q}^{1 \\times 1}{\\color{blue}{\\xrightarrow{\\left( \\begin{array}{r}\n",
       " 1 \n",
       "\\end{array} \\right)}}}\\mathbb{Q}^{1 \\times 1} \\\\ & & \\\\\\end{array}\\end{array}$$"
      ]
     },
     "metadata": {},
     "output_type": "display_data"
    }
   ],
   "source": [
    "Show( ℙHom☾T◞ℚP☽ )"
   ]
  },
  {
   "cell_type": "code",
   "execution_count": 99,
   "id": "7c9920ec",
   "metadata": {},
   "outputs": [
    {
     "data": {
      "text/plain": [
       "GAP: <A morphism in Homotopy category by cochains( PreSheaves( Q-algebroid( {E1,E2,E3,E4}[m1_3_1:E1→E3,m2_3_1:E2→E3,m3_4_1:E3→E4] ) defined by 4 objects and 3 generating morphisms, Rows( Q ) ) ) supported on the interval [ 0 .. 2 ]>"
      ]
     },
     "execution_count": 99,
     "metadata": {},
     "output_type": "execute_result"
    }
   ],
   "source": [
    "𝓺_Hom☾T◞ℚP☽ = QuasiIsomorphismFromProjectiveResolution( Hom☾T◞ℚP☽, true )"
   ]
  },
  {
   "cell_type": "code",
   "execution_count": 100,
   "id": "524ce9c0",
   "metadata": {},
   "outputs": [
    {
     "data": {
      "text/plain": [
       "true"
      ]
     },
     "execution_count": 100,
     "metadata": {},
     "output_type": "execute_result"
    }
   ],
   "source": [
    "IsQuasiIsomorphism( 𝓺_Hom☾T◞ℚP☽ )"
   ]
  },
  {
   "cell_type": "code",
   "execution_count": 101,
   "id": "6a91644d",
   "metadata": {},
   "outputs": [
    {
     "name": "stdout",
     "output_type": "stream",
     "text": [
      "\n",
      "== 2 =======================\n",
      "Image of <(E1)>:\n",
      "Source: \n",
      "A row module over Q of rank 1\n",
      "\n",
      "Matrix: \n",
      "(an empty 1 x 0 matrix)\n",
      "\n",
      "Range: \n",
      "A row module over Q of rank 0\n",
      "\n",
      "A zero morphism in Rows( Q )\n",
      "\n",
      "Image of <(E2)>:\n",
      "Source: \n",
      "A row module over Q of rank 1\n",
      "\n",
      "Matrix: \n",
      "(an empty 1 x 0 matrix)\n",
      "\n",
      "Range: \n",
      "A row module over Q of rank 0\n",
      "\n",
      "A zero morphism in Rows( Q )\n",
      "\n",
      "Image of <(E3)>:\n",
      "Source: \n",
      "A row module over Q of rank 1\n",
      "\n",
      "Matrix: \n",
      "(an empty 1 x 0 matrix)\n",
      "\n",
      "Range: \n",
      "A row module over Q of rank 0\n",
      "\n",
      "A zero morphism in Rows( Q )\n",
      "\n",
      "Image of <(E4)>:\n",
      "Source: \n",
      "A row module over Q of rank 1\n",
      "\n",
      "Matrix: \n",
      "[ [  1 ] ]\n",
      "\n",
      "Range: \n",
      "A row module over Q of rank 1\n",
      "\n",
      "A morphism in Rows( Q )\n",
      "\n",
      "A morphism in PreSheaves( Q-algebroid( {E1,E2,E3,E4}[m1_3_1:E1→E3,m2_3_1:E2→E3,m3_4_1:E3→E4] ) defined by 4 objects and 3 generating morphisms, Rows( Q ) ) given by the above data\n",
      "\n",
      "== 1 =======================\n",
      "Image of <(E1)>:\n",
      "Source: \n",
      "A row module over Q of rank 3\n",
      "\n",
      "Matrix: \n",
      "[ [  -1 ],\n",
      "  [   0 ],\n",
      "  [   0 ] ]\n",
      "\n",
      "Range: \n",
      "A row module over Q of rank 1\n",
      "\n",
      "A morphism in Rows( Q )\n",
      "\n",
      "Image of <(E2)>:\n",
      "Source: \n",
      "A row module over Q of rank 3\n",
      "\n",
      "Matrix: \n",
      "[ [  0 ],\n",
      "  [  1 ],\n",
      "  [  0 ] ]\n",
      "\n",
      "Range: \n",
      "A row module over Q of rank 1\n",
      "\n",
      "A morphism in Rows( Q )\n",
      "\n",
      "Image of <(E3)>:\n",
      "Source: \n",
      "A row module over Q of rank 3\n",
      "\n",
      "Matrix: \n",
      "[ [  -1,   0 ],\n",
      "  [   0,   1 ],\n",
      "  [   0,   0 ] ]\n",
      "\n",
      "Range: \n",
      "A row module over Q of rank 2\n",
      "\n",
      "A morphism in Rows( Q )\n",
      "\n",
      "Image of <(E4)>:\n",
      "Source: \n",
      "A row module over Q of rank 2\n",
      "\n",
      "Matrix: \n",
      "[ [  1,  0 ],\n",
      "  [  0,  1 ] ]\n",
      "\n",
      "Range: \n",
      "A row module over Q of rank 2\n",
      "\n",
      "A morphism in Rows( Q )\n",
      "\n",
      "A morphism in PreSheaves( Q-algebroid( {E1,E2,E3,E4}[m1_3_1:E1→E3,m2_3_1:E2→E3,m3_4_1:E3→E4] ) defined by 4 objects and 3 generating morphisms, Rows( Q ) ) given by the above data\n",
      "\n",
      "== 0 =======================\n",
      "Image of <(E1)>:\n",
      "Source: \n",
      "A row module over Q of rank 2\n",
      "\n",
      "Matrix: \n",
      "[ [  -1 ],\n",
      "  [   0 ] ]\n",
      "\n",
      "Range: \n",
      "A row module over Q of rank 1\n",
      "\n",
      "A morphism in Rows( Q )\n",
      "\n",
      "Image of <(E2)>:\n",
      "Source: \n",
      "A row module over Q of rank 2\n",
      "\n",
      "Matrix: \n",
      "[ [  1 ],\n",
      "  [  0 ] ]\n",
      "\n",
      "Range: \n",
      "A row module over Q of rank 1\n",
      "\n",
      "A morphism in Rows( Q )\n",
      "\n",
      "Image of <(E3)>:\n",
      "Source: \n",
      "A row module over Q of rank 1\n",
      "\n",
      "Matrix: \n",
      "[ [  1 ] ]\n",
      "\n",
      "Range: \n",
      "A row module over Q of rank 1\n",
      "\n",
      "A morphism in Rows( Q )\n",
      "\n",
      "Image of <(E4)>:\n",
      "Source: \n",
      "A row module over Q of rank 1\n",
      "\n",
      "Matrix: \n",
      "[ [  1 ] ]\n",
      "\n",
      "Range: \n",
      "A row module over Q of rank 1\n",
      "\n",
      "A morphism in Rows( Q )\n",
      "\n",
      "A morphism in PreSheaves( Q-algebroid( {E1,E2,E3,E4}[m1_3_1:E1→E3,m2_3_1:E2→E3,m3_4_1:E3→E4] ) defined by 4 objects and 3 generating morphisms, Rows( Q ) ) given by the above data\n",
      "\n",
      "\n",
      "A morphism in Homotopy category by cochains( PreSheaves( Q-algebroid( {E1,E2,E3,E4}[m1_3_1:E1→E3,m2_3_1:E2→E3,m3_4_1:E3→E4] ) defined by 4 objects and 3 generating morphisms, Rows( Q ) ) ) defined by the above data\n"
     ]
    }
   ],
   "source": [
    "Display( 𝓺_Hom☾T◞ℚP☽ )"
   ]
  },
  {
   "cell_type": "code",
   "execution_count": 102,
   "id": "0f50095c",
   "metadata": {},
   "outputs": [
    {
     "data": {
      "text/plain": [
       "GAP: <An object in Homotopy category by cochains( PreSheaves( Q-algebroid( {v1,v2,v3,v4}[a:v1→v2,b:v2→v4,c:v1→v3,d:v3→v4] ) defined by 4 objects and 4 generating morphisms, Rows( Q ) ) ) supported on the interval [ 0 .. 2 ]>"
      ]
     },
     "execution_count": 102,
     "metadata": {},
     "output_type": "execute_result"
    }
   ],
   "source": [
    "ℙHom☾T◞ℚP☽⨂T = ₋⨂T( ℙHom☾T◞ℚP☽ )"
   ]
  },
  {
   "cell_type": "code",
   "execution_count": 103,
   "id": "c79361f0",
   "metadata": {},
   "outputs": [
    {
     "data": {
      "text/latex": [
       "$$\\begin{array}{c}\n",
       "\\begin{array}{ccc}\n",
       " v_1 & \\mapsto & \\mathbb{Q}^{1 \\times 1} \\\\ v_2 & \\mapsto & \\mathbb{Q}^{1 \\times 1} \\\\ v_3 & \\mapsto & \\mathbb{Q}^{1 \\times 1} \\\\ v_4 & \\mapsto & \\mathbb{Q}^{1 \\times 1} \\\\ \\hline & & \\\\{a} & \\mapsto & \\mathbb{Q}^{1 \\times 1}{\\color{blue}{\\xrightarrow{\\left( \\begin{array}{r}\n",
       " 1 \n",
       "\\end{array} \\right)}}}\\mathbb{Q}^{1 \\times 1} \\\\ & & \\\\{b} & \\mapsto & \\mathbb{Q}^{1 \\times 1}{\\color{blue}{\\xrightarrow{\\left( \\begin{array}{r}\n",
       " 1 \n",
       "\\end{array} \\right)}}}\\mathbb{Q}^{1 \\times 1} \\\\ & & \\\\{c} & \\mapsto & \\mathbb{Q}^{1 \\times 1}{\\color{blue}{\\xrightarrow{\\left( \\begin{array}{r}\n",
       " 1 \n",
       "\\end{array} \\right)}}}\\mathbb{Q}^{1 \\times 1} \\\\ & & \\\\{d} & \\mapsto & \\mathbb{Q}^{1 \\times 1}{\\color{blue}{\\xrightarrow{\\left( \\begin{array}{r}\n",
       " 1 \n",
       "\\end{array} \\right)}}}\\mathbb{Q}^{1 \\times 1} \\\\ & & \\\\\\end{array}\n",
       "\\\\\n",
       "\\uparrow_{\\phantom{1}}\n",
       "\\\\\n",
       "\\begin{array}{ccc}\n",
       "v_1 & \\mapsto & \\mathbb{Q}^{1 \\times 3}{\\color{blue}{\\xrightarrow{\\left( \\begin{array}{r}\n",
       " -1 \\\\ \n",
       " -1 \\\\ \n",
       " 1 \n",
       "\\end{array} \\right)}}}\\mathbb{Q}^{1 \\times 1} \\\\ & & \\\\v_2 & \\mapsto & \\mathbb{Q}^{1 \\times 3}{\\color{blue}{\\xrightarrow{\\left( \\begin{array}{r}\n",
       " 1 \\\\ \n",
       " -1 \\\\ \n",
       " 1 \n",
       "\\end{array} \\right)}}}\\mathbb{Q}^{1 \\times 1} \\\\ & & \\\\v_3 & \\mapsto & \\mathbb{Q}^{1 \\times 3}{\\color{blue}{\\xrightarrow{\\left( \\begin{array}{r}\n",
       " -1 \\\\ \n",
       " -1 \\\\ \n",
       " 1 \n",
       "\\end{array} \\right)}}}\\mathbb{Q}^{1 \\times 1} \\\\ & & \\\\v_4 & \\mapsto & \\mathbb{Q}^{1 \\times 2}{\\color{blue}{\\xrightarrow{\\left( \\begin{array}{r}\n",
       " -1 \\\\ \n",
       " 1 \n",
       "\\end{array} \\right)}}}\\mathbb{Q}^{1 \\times 1} \\\\ & & \\\\\\end{array}\n",
       "\\\\\n",
       "{\\vert_{1}}\n",
       "\n",
       "\\\\\n",
       "\\begin{array}{ccc}\n",
       " v_1 & \\mapsto & \\mathbb{Q}^{1 \\times 3} \\\\ v_2 & \\mapsto & \\mathbb{Q}^{1 \\times 3} \\\\ v_3 & \\mapsto & \\mathbb{Q}^{1 \\times 3} \\\\ v_4 & \\mapsto & \\mathbb{Q}^{1 \\times 2} \\\\ \\hline & & \\\\{a} & \\mapsto & \\mathbb{Q}^{1 \\times 3}{\\color{blue}{\\xrightarrow{\\left( \\begin{array}{rrr}\n",
       " -1 & \\cdot & \\cdot \\\\ \n",
       " \\cdot & 1 & \\cdot \\\\ \n",
       " \\cdot & \\cdot & 1 \n",
       "\\end{array} \\right)}}}\\mathbb{Q}^{1 \\times 3} \\\\ & & \\\\{b} & \\mapsto & \\mathbb{Q}^{1 \\times 2}{\\color{blue}{\\xrightarrow{\\left( \\begin{array}{rrr}\n",
       " \\cdot & 1 & \\cdot \\\\ \n",
       " \\cdot & \\cdot & 1 \n",
       "\\end{array} \\right)}}}\\mathbb{Q}^{1 \\times 3} \\\\ & & \\\\{c} & \\mapsto & \\mathbb{Q}^{1 \\times 3}{\\color{blue}{\\xrightarrow{\\left( \\begin{array}{rrr}\n",
       " 1 & \\cdot & \\cdot \\\\ \n",
       " \\cdot & 1 & \\cdot \\\\ \n",
       " \\cdot & \\cdot & 1 \n",
       "\\end{array} \\right)}}}\\mathbb{Q}^{1 \\times 3} \\\\ & & \\\\{d} & \\mapsto & \\mathbb{Q}^{1 \\times 2}{\\color{blue}{\\xrightarrow{\\left( \\begin{array}{rrr}\n",
       " \\cdot & 1 & \\cdot \\\\ \n",
       " \\cdot & \\cdot & 1 \n",
       "\\end{array} \\right)}}}\\mathbb{Q}^{1 \\times 3} \\\\ & & \\\\\\end{array}\\\\\n",
       "\\uparrow_{\\phantom{0}}\n",
       "\\\\\n",
       "\\begin{array}{ccc}\n",
       "v_1 & \\mapsto & \\mathbb{Q}^{1 \\times 3}{\\color{blue}{\\xrightarrow{\\left( \\begin{array}{rrr}\n",
       " -1 & \\cdot & -1 \\\\ \n",
       " 1 & -1 & \\cdot \\\\ \n",
       " \\cdot & 1 & 1 \n",
       "\\end{array} \\right)}}}\\mathbb{Q}^{1 \\times 3} \\\\ & & \\\\v_2 & \\mapsto & \\mathbb{Q}^{1 \\times 2}{\\color{blue}{\\xrightarrow{\\left( \\begin{array}{rrr}\n",
       " 1 & \\cdot & -1 \\\\ \n",
       " \\cdot & 1 & 1 \n",
       "\\end{array} \\right)}}}\\mathbb{Q}^{1 \\times 3} \\\\ & & \\\\v_3 & \\mapsto & \\mathbb{Q}^{1 \\times 2}{\\color{blue}{\\xrightarrow{\\left( \\begin{array}{rrr}\n",
       " 1 & -1 & \\cdot \\\\ \n",
       " \\cdot & 1 & 1 \n",
       "\\end{array} \\right)}}}\\mathbb{Q}^{1 \\times 3} \\\\ & & \\\\v_4 & \\mapsto & \\mathbb{Q}^{1 \\times 1}{\\color{blue}{\\xrightarrow{\\left( \\begin{array}{rr}\n",
       " 1 & 1 \n",
       "\\end{array} \\right)}}}\\mathbb{Q}^{1 \\times 2} \\\\ & & \\\\\\end{array}\n",
       "\\\\\n",
       "{\\vert_{0}}\n",
       "\n",
       "\\\\\n",
       "\\begin{array}{ccc}\n",
       " v_1 & \\mapsto & \\mathbb{Q}^{1 \\times 3} \\\\ v_2 & \\mapsto & \\mathbb{Q}^{1 \\times 2} \\\\ v_3 & \\mapsto & \\mathbb{Q}^{1 \\times 2} \\\\ v_4 & \\mapsto & \\mathbb{Q}^{1 \\times 1} \\\\ \\hline & & \\\\{a} & \\mapsto & \\mathbb{Q}^{1 \\times 2}{\\color{blue}{\\xrightarrow{\\left( \\begin{array}{rrr}\n",
       " 1 & \\cdot & \\cdot \\\\ \n",
       " \\cdot & \\cdot & 1 \n",
       "\\end{array} \\right)}}}\\mathbb{Q}^{1 \\times 3} \\\\ & & \\\\{b} & \\mapsto & \\mathbb{Q}^{1 \\times 1}{\\color{blue}{\\xrightarrow{\\left( \\begin{array}{rr}\n",
       " \\cdot & 1 \n",
       "\\end{array} \\right)}}}\\mathbb{Q}^{1 \\times 2} \\\\ & & \\\\{c} & \\mapsto & \\mathbb{Q}^{1 \\times 2}{\\color{blue}{\\xrightarrow{\\left( \\begin{array}{rrr}\n",
       " \\cdot & 1 & \\cdot \\\\ \n",
       " \\cdot & \\cdot & 1 \n",
       "\\end{array} \\right)}}}\\mathbb{Q}^{1 \\times 3} \\\\ & & \\\\{d} & \\mapsto & \\mathbb{Q}^{1 \\times 1}{\\color{blue}{\\xrightarrow{\\left( \\begin{array}{rr}\n",
       " \\cdot & 1 \n",
       "\\end{array} \\right)}}}\\mathbb{Q}^{1 \\times 2} \\\\ & & \\\\\\end{array}\\end{array}$$"
      ]
     },
     "metadata": {},
     "output_type": "display_data"
    }
   ],
   "source": [
    "Show( ℙHom☾T◞ℚP☽⨂T )"
   ]
  },
  {
   "cell_type": "code",
   "execution_count": 104,
   "id": "641fd62c",
   "metadata": {},
   "outputs": [
    {
     "data": {
      "text/plain": [
       "GAP: <A morphism in Homotopy category by cochains( PreSheaves( Q-algebroid( {v1,v2,v3,v4}[a:v1→v2,b:v2→v4,c:v1→v3,d:v3→v4] ) defined by 4 objects and 4 generating morphisms, Rows( Q ) ) ) supported on the interval [ 0 .. 2 ]>"
      ]
     },
     "execution_count": 104,
     "metadata": {},
     "output_type": "execute_result"
    }
   ],
   "source": [
    "ζ = PreCompose( ₋⨂T( 𝓺_Hom☾T◞ℚP☽ ), ϵ( ℚP ) ) # ζ: ℙHom☾T◞ℚP☽⨂T -> ℚP"
   ]
  },
  {
   "cell_type": "code",
   "execution_count": 105,
   "id": "921e07a0",
   "metadata": {},
   "outputs": [
    {
     "data": {
      "text/plain": [
       "true"
      ]
     },
     "execution_count": 105,
     "metadata": {},
     "output_type": "execute_result"
    }
   ],
   "source": [
    "IsWellDefined( ζ )"
   ]
  },
  {
   "cell_type": "code",
   "execution_count": 106,
   "id": "ccec86e0",
   "metadata": {},
   "outputs": [
    {
     "data": {
      "text/plain": [
       "true"
      ]
     },
     "execution_count": 106,
     "metadata": {},
     "output_type": "execute_result"
    }
   ],
   "source": [
    "Source( ζ ) == ℙHom☾T◞ℚP☽⨂T && Range( ζ ) == ℚP"
   ]
  },
  {
   "cell_type": "code",
   "execution_count": 107,
   "id": "2b4c115a",
   "metadata": {},
   "outputs": [
    {
     "data": {
      "text/plain": [
       "true"
      ]
     },
     "execution_count": 107,
     "metadata": {},
     "output_type": "execute_result"
    }
   ],
   "source": [
    "IsQuasiIsomorphism( ζ )"
   ]
  },
  {
   "cell_type": "code",
   "execution_count": 108,
   "id": "e3b32c73",
   "metadata": {},
   "outputs": [
    {
     "data": {
      "text/latex": [
       "$$\\begin{array}{ccc}\n",
       "v_1 & \\mapsto & \\mathbb{Q}^{1 \\times 3}{\\color{blue}{\\xrightarrow{\\left( \\begin{array}{r}\n",
       " \\cdot \\\\ \n",
       " \\cdot \\\\ \n",
       " 1 \n",
       "\\end{array} \\right)}}}\\mathbb{Q}^{1 \\times 1} \\\\ & & \\\\v_2 & \\mapsto & \\mathbb{Q}^{1 \\times 2}{\\color{blue}{\\xrightarrow{\\left( \\begin{array}{r}\n",
       " \\cdot \\\\ \n",
       " 1 \n",
       "\\end{array} \\right)}}}\\mathbb{Q}^{1 \\times 1} \\\\ & & \\\\v_3 & \\mapsto & \\mathbb{Q}^{1 \\times 2}{\\color{blue}{\\xrightarrow{\\left( \\begin{array}{r}\n",
       " \\cdot \\\\ \n",
       " 1 \n",
       "\\end{array} \\right)}}}\\mathbb{Q}^{1 \\times 1} \\\\ & & \\\\v_4 & \\mapsto & \\mathbb{Q}^{1 \\times 1}{\\color{blue}{\\xrightarrow{\\left( \\begin{array}{r}\n",
       " 1 \n",
       "\\end{array} \\right)}}}\\mathbb{Q}^{1 \\times 1} \\\\ & & \\\\\\end{array}$$"
      ]
     },
     "metadata": {},
     "output_type": "display_data"
    }
   ],
   "source": [
    "Show( ζ[0], OnlyDatum = true )"
   ]
  },
  {
   "cell_type": "code",
   "execution_count": 109,
   "id": "947ecf2c",
   "metadata": {},
   "outputs": [
    {
     "data": {
      "text/latex": [
       "$$\\begin{array}{ccc}\n",
       "v_1 & \\mapsto & \\mathbb{Q}^{1 \\times 3}{\\color{blue}{\\xrightarrow{()_{3 \\times 0}}}}\\mathbb{Q}^{1 \\times 0} \\\\ & & \\\\v_2 & \\mapsto & \\mathbb{Q}^{1 \\times 3}{\\color{blue}{\\xrightarrow{\\left( \\begin{array}{r}\n",
       " \\cdot \\\\ \n",
       " 1 \\\\ \n",
       " \\cdot \n",
       "\\end{array} \\right)}}}\\mathbb{Q}^{1 \\times 1} \\\\ & & \\\\v_3 & \\mapsto & \\mathbb{Q}^{1 \\times 3}{\\color{blue}{\\xrightarrow{\\left( \\begin{array}{r}\n",
       " \\cdot \\\\ \n",
       " \\cdot \\\\ \n",
       " 1 \n",
       "\\end{array} \\right)}}}\\mathbb{Q}^{1 \\times 1} \\\\ & & \\\\v_4 & \\mapsto & \\mathbb{Q}^{1 \\times 2}{\\color{blue}{\\xrightarrow{\\left( \\begin{array}{rr}\n",
       " 1 & \\cdot \\\\ \n",
       " \\cdot & 1 \n",
       "\\end{array} \\right)}}}\\mathbb{Q}^{1 \\times 2} \\\\ & & \\\\\\end{array}$$"
      ]
     },
     "metadata": {},
     "output_type": "display_data"
    }
   ],
   "source": [
    "Show( ζ[1], OnlyDatum = true )"
   ]
  },
  {
   "cell_type": "code",
   "execution_count": 110,
   "id": "3ff2924c",
   "metadata": {},
   "outputs": [
    {
     "data": {
      "text/latex": [
       "$$\\begin{array}{ccc}\n",
       "v_1 & \\mapsto & \\mathbb{Q}^{1 \\times 1}{\\color{blue}{\\xrightarrow{()_{1 \\times 0}}}}\\mathbb{Q}^{1 \\times 0} \\\\ & & \\\\v_2 & \\mapsto & \\mathbb{Q}^{1 \\times 1}{\\color{blue}{\\xrightarrow{()_{1 \\times 0}}}}\\mathbb{Q}^{1 \\times 0} \\\\ & & \\\\v_3 & \\mapsto & \\mathbb{Q}^{1 \\times 1}{\\color{blue}{\\xrightarrow{()_{1 \\times 0}}}}\\mathbb{Q}^{1 \\times 0} \\\\ & & \\\\v_4 & \\mapsto & \\mathbb{Q}^{1 \\times 1}{\\color{blue}{\\xrightarrow{\\left( \\begin{array}{r}\n",
       " 1 \n",
       "\\end{array} \\right)}}}\\mathbb{Q}^{1 \\times 1} \\\\ & & \\\\\\end{array}$$"
      ]
     },
     "metadata": {},
     "output_type": "display_data"
    }
   ],
   "source": [
    "Show( ζ[2], OnlyDatum = true )"
   ]
  },
  {
   "cell_type": "code",
   "execution_count": 111,
   "id": "00d8fe3f",
   "metadata": {},
   "outputs": [
    {
     "data": {
      "text/plain": [
       "GAP: <An object in Homotopy category by cochains( PreSheaves( Q-algebroid( {E1,E2,E3,E4}[m1_3_1:E1→E3,m2_3_1:E2→E3,m3_4_1:E3→E4] ) defined by 4 objects and 3 generating morphisms, Rows( Q ) ) ) supported on the interval [ 0 .. 2 ]>"
      ]
     },
     "execution_count": 111,
     "metadata": {},
     "output_type": "execute_result"
    }
   ],
   "source": [
    "Hom☾T◞ℚP☽"
   ]
  },
  {
   "cell_type": "code",
   "execution_count": 112,
   "id": "57680de1",
   "metadata": {},
   "outputs": [
    {
     "data": {
      "text/plain": [
       "GAP: Homotopy category by cochains( PreSheaves( Q-algebroid( {E1,E2,E3,E4}[m1_3_1:E1→E3,m2_3_1:E2→E3,m3_4_1:E3→E4] ) defined by 4 objects and 3 generating morphisms, Rows( Q ) ) )"
      ]
     },
     "execution_count": 112,
     "metadata": {},
     "output_type": "execute_result"
    }
   ],
   "source": [
    "𝓚ᵇPSh_𝓔"
   ]
  },
  {
   "cell_type": "code",
   "execution_count": 113,
   "id": "68a9b565",
   "metadata": {},
   "outputs": [
    {
     "data": {
      "text/plain": [
       "GAP: Localization functor via projective objects"
      ]
     },
     "execution_count": 113,
     "metadata": {},
     "output_type": "execute_result"
    }
   ],
   "source": [
    "𝕃 = LocalizationFunctorByProjectiveObjects( 𝓚ᵇPSh_𝓔 )"
   ]
  },
  {
   "cell_type": "code",
   "execution_count": 114,
   "id": "13f330fc",
   "metadata": {},
   "outputs": [
    {
     "name": "stdout",
     "output_type": "stream",
     "text": [
      "Localization functor via projective objects:\n",
      "\n",
      "Homotopy category by cochains( PreSheaves( Q-algebroid( {E1,E2,E3,E4}[m1_3_1:E1→E3,m2_3_1:E2→E3,m3_4_1:E3→E4] ) defined by 4 objects and 3 generating morphisms, Rows( Q ) ) )\n",
      "  |\n",
      "  V\n",
      "Homotopy category by cochains( FullSubcategoryOfProjectiveObjects( PreSheaves( Q-algebroid( {E1,E2,E3,E4}[m1_3_1:E1→E3,m2_3_1:E2→E3,m3_4_1:E3→E4] ) defined by 4 objects and 3 generating morphisms, Rows( Q ) ) ) )\n"
     ]
    }
   ],
   "source": [
    "Display( 𝕃 )"
   ]
  },
  {
   "cell_type": "code",
   "execution_count": 115,
   "id": "0917ab5d",
   "metadata": {},
   "outputs": [
    {
     "data": {
      "text/plain": [
       "GAP: Extension of ( Equivalence functor from full subcategory of projective objects to source category ) to homotopy categories by cochains"
      ]
     },
     "execution_count": 115,
     "metadata": {},
     "output_type": "execute_result"
    }
   ],
   "source": [
    "𝕕 = EquivalenceFromFullSubcategoryOfProjectivesObjectsIntoAdditiveClosureOfSource( PSh_𝓔 )\n",
    "𝔻 = ExtendFunctorToHomotopyCategoriesByCochains( 𝕕 )"
   ]
  },
  {
   "cell_type": "code",
   "execution_count": 116,
   "id": "dd3764c3",
   "metadata": {},
   "outputs": [
    {
     "name": "stdout",
     "output_type": "stream",
     "text": [
      "Extension of ( Equivalence functor from full subcategory of projective objects to source category ) to homotopy categories by cochains:\n",
      "\n",
      "Homotopy category by cochains( FullSubcategoryOfProjectiveObjects( PreSheaves( Q-algebroid( {E1,E2,E3,E4}[m1_3_1:E1→E3,m2_3_1:E2→E3,m3_4_1:E3→E4] ) defined by 4 objects and 3 generating morphisms, Rows( Q ) ) ) )\n",
      "  |\n",
      "  V\n",
      "Homotopy category by cochains( AdditiveClosure( Q-algebroid( {E1,E2,E3,E4}[m1_3_1:E1→E3,m2_3_1:E2→E3,m3_4_1:E3→E4] ) defined by 4 objects and 3 generating morphisms ) )\n"
     ]
    }
   ],
   "source": [
    "Display( 𝔻 )"
   ]
  },
  {
   "cell_type": "code",
   "execution_count": 117,
   "id": "1d6c9f37",
   "metadata": {},
   "outputs": [
    {
     "data": {
      "text/plain": [
       "GAP: Precomposition of Localization functor via projective objects and Extension of ( Equivalence functor from full subcategory of projective objects to source category ) to homotopy categories by cochains"
      ]
     },
     "execution_count": 117,
     "metadata": {},
     "output_type": "execute_result"
    }
   ],
   "source": [
    "𝔻𝕃 = PreCompose( 𝕃, 𝔻 )"
   ]
  },
  {
   "cell_type": "code",
   "execution_count": 118,
   "id": "0e461d84",
   "metadata": {},
   "outputs": [
    {
     "name": "stdout",
     "output_type": "stream",
     "text": [
      "Precomposition of Localization functor via projective objects and Extension of ( Equivalence functor from full subcategory of projective objects to source category ) to homotopy categories by cochains:\n",
      "\n",
      "Homotopy category by cochains( PreSheaves( Q-algebroid( {E1,E2,E3,E4}[m1_3_1:E1→E3,m2_3_1:E2→E3,m3_4_1:E3→E4] ) defined by 4 objects and 3 generating morphisms, Rows( Q ) ) )\n",
      "  |\n",
      "  V\n",
      "Homotopy category by cochains( AdditiveClosure( Q-algebroid( {E1,E2,E3,E4}[m1_3_1:E1→E3,m2_3_1:E2→E3,m3_4_1:E3→E4] ) defined by 4 objects and 3 generating morphisms ) )\n"
     ]
    }
   ],
   "source": [
    "Display( 𝔻𝕃 )"
   ]
  },
  {
   "cell_type": "code",
   "execution_count": 119,
   "id": "382f31e5",
   "metadata": {},
   "outputs": [
    {
     "data": {
      "text/plain": [
       "GAP: <An object in Homotopy category by cochains( AdditiveClosure( Q-algebroid( {E1,E2,E3,E4}[m1_3_1:E1→E3,m2_3_1:E2→E3,m3_4_1:E3→E4] ) defined by 4 objects and 3 generating morphisms ) ) supported on the interval [ 0 .. 2 ]>"
      ]
     },
     "execution_count": 119,
     "metadata": {},
     "output_type": "execute_result"
    }
   ],
   "source": [
    "𝔻𝕃_Hom☾T◞ℚP☽ = 𝔻𝕃( Hom☾T◞ℚP☽ )"
   ]
  },
  {
   "cell_type": "code",
   "execution_count": 120,
   "id": "cbff6339",
   "metadata": {},
   "outputs": [
    {
     "data": {
      "text/latex": [
       "$$\\begin{array}{c}\n",
       "{E_{4}}\n",
       "\\\\\n",
       "\\uparrow_{\\phantom{1}}\n",
       "\\\\\n",
       "\\begin{pmatrix}-{m_{3,4}^{1}}\\\\ \n",
       "-id(E_{4})\\\\ \n",
       "id(E_{4})\\end{pmatrix}\n",
       "\\\\\n",
       "{\\vert_{1}}\n",
       "\n",
       "\\\\\n",
       "{E_{3}}\\oplus{E_{4}}^{\\oplus 2}\\\\\n",
       "\\uparrow_{\\phantom{0}}\n",
       "\\\\\n",
       "\\begin{pmatrix}{m_{1,3}^{1}}&0&{m_{1,3}^{1}}{m_{3,4}^{1}}\\\\ \n",
       "{m_{2,3}^{1}}&-{m_{2,3}^{1}}{m_{3,4}^{1}}&0\\\\ \n",
       "0&id(E_{4})&id(E_{4})\\end{pmatrix}\n",
       "\\\\\n",
       "{\\vert_{0}}\n",
       "\n",
       "\\\\\n",
       "{E_{1}}\\oplus{E_{2}}\\oplus{E_{4}}\\end{array}$$"
      ]
     },
     "metadata": {},
     "output_type": "display_data"
    }
   ],
   "source": [
    "Show( 𝔻𝕃_Hom☾T◞ℚP☽ )"
   ]
  },
  {
   "cell_type": "code",
   "execution_count": 121,
   "id": "3a511fc0",
   "metadata": {},
   "outputs": [
    {
     "data": {
      "text/plain": [
       "GAP: Homotopy category by cochains( AdditiveClosure( Q-algebroid( {E1,E2,E3,E4}[m1_3_1:E1→E3,m2_3_1:E2→E3,m3_4_1:E3→E4] ) defined by 4 objects and 3 generating morphisms ) )"
      ]
     },
     "execution_count": 121,
     "metadata": {},
     "output_type": "execute_result"
    }
   ],
   "source": [
    "𝓚ᵇ⨁𝐀_𝓔 = CapCategory( 𝔻𝕃_Hom☾T◞ℚP☽ ) # or HomotopyCategoryByCochains( AdditiveClosure( 𝐀_𝓔 ) )"
   ]
  },
  {
   "cell_type": "code",
   "execution_count": 122,
   "id": "10da7f1e",
   "metadata": {},
   "outputs": [
    {
     "data": {
      "text/plain": [
       "GAP: AdditiveClosure( Q-algebroid( {E1,E2,E3,E4}[m1_3_1:E1→E3,m2_3_1:E2→E3,m3_4_1:E3→E4] ) defined by 4 objects and 3 generating morphisms )"
      ]
     },
     "execution_count": 122,
     "metadata": {},
     "output_type": "execute_result"
    }
   ],
   "source": [
    "⨁𝐀_𝓔 = DefiningCategory( 𝓚ᵇ⨁𝐀_𝓔 )"
   ]
  },
  {
   "cell_type": "code",
   "execution_count": 123,
   "id": "97ad3048",
   "metadata": {},
   "outputs": [
    {
     "data": {
      "text/plain": [
       "GAP: <An object in Homotopy category by cochains( AdditiveClosure( Q-algebroid( {E1,E2,E3,E4}[m1_3_1:E1→E3,m2_3_1:E2→E3,m3_4_1:E3→E4] ) defined by 4 objects and 3 generating morphisms ) ) supported on the interval [ 0 ]>"
      ]
     },
     "execution_count": 123,
     "metadata": {},
     "output_type": "execute_result"
    }
   ],
   "source": [
    "E₁ = CreateComplex( 𝓚ᵇ⨁𝐀_𝓔, [ 𝐀_𝓔.\"E1\" ] / ⨁𝐀_𝓔, 0 )\n",
    "E₂ = CreateComplex( 𝓚ᵇ⨁𝐀_𝓔, [ 𝐀_𝓔.\"E2\" ] / ⨁𝐀_𝓔, 0 )\n",
    "E₃ = CreateComplex( 𝓚ᵇ⨁𝐀_𝓔, [ 𝐀_𝓔.\"E3\" ] / ⨁𝐀_𝓔, 0 )\n",
    "E₄ = CreateComplex( 𝓚ᵇ⨁𝐀_𝓔, [ 𝐀_𝓔.\"E4\" ] / ⨁𝐀_𝓔, 0 )"
   ]
  },
  {
   "cell_type": "code",
   "execution_count": 124,
   "id": "f70af738",
   "metadata": {},
   "outputs": [
    {
     "data": {
      "text/plain": [
       "GAP: A strong exceptional sequence in Homotopy category by cochains( AdditiveClosure( Q-algebroid( {E1,E2,E3,E4}[m1_3_1:E1→E3,m2_3_1:E2→E3,m3_4_1:E3→E4] ) defined by 4 objects and 3 generating morphisms ) )"
      ]
     },
     "execution_count": 124,
     "metadata": {},
     "output_type": "execute_result"
    }
   ],
   "source": [
    "seq = CreateStrongExceptionalSequence( ConvertJuliaToGAP( [E₁, E₂, E₃, E₄] ) )"
   ]
  },
  {
   "cell_type": "code",
   "execution_count": 125,
   "id": "4679a2a1",
   "metadata": {},
   "outputs": [
    {
     "data": {
      "text/plain": [
       "GAP: Convolution functor"
      ]
     },
     "execution_count": 125,
     "metadata": {},
     "output_type": "execute_result"
    }
   ],
   "source": [
    "𝔾 = ReplacementFunctor( seq )\n",
    "𝔽 = ConvolutionFunctor( seq )"
   ]
  },
  {
   "cell_type": "code",
   "execution_count": 126,
   "id": "c4c57b49",
   "metadata": {},
   "outputs": [
    {
     "data": {
      "text/plain": [
       "GAP: <An object in Homotopy category by cochains( AdditiveClosure( Q-algebroid( {E1,E2,E3,E4}[m1_3_1:E1→E3,m2_3_1:E2→E3,m3_4_1:E3→E4] ) defined by 4 objects and 3 generating morphisms ) ) supported on the interval [ 0 .. 1 ]>"
      ]
     },
     "execution_count": 126,
     "metadata": {},
     "output_type": "execute_result"
    }
   ],
   "source": [
    "simplified_𝔻𝕃_Hom☾T◞ℚP☽ = 𝔽(𝔾( 𝔻𝕃_Hom☾T◞ℚP☽ ))"
   ]
  },
  {
   "cell_type": "code",
   "execution_count": 127,
   "id": "3c557f90",
   "metadata": {},
   "outputs": [
    {
     "data": {
      "text/latex": [
       "$$\\begin{array}{c}\n",
       "{E_{3}}\n",
       "\\\\\n",
       "\\uparrow_{\\phantom{0}}\n",
       "\\\\\n",
       "\\begin{pmatrix}{m_{1,3}^{1}}\\\\ \n",
       "-{m_{2,3}^{1}}\\end{pmatrix}\n",
       "\\\\\n",
       "{\\vert_{0}}\n",
       "\n",
       "\\\\\n",
       "{E_{1}}\\oplus{E_{2}}\\end{array}$$"
      ]
     },
     "metadata": {},
     "output_type": "display_data"
    }
   ],
   "source": [
    "Show( simplified_𝔻𝕃_Hom☾T◞ℚP☽ )"
   ]
  },
  {
   "cell_type": "code",
   "execution_count": 128,
   "id": "a7f569d0",
   "metadata": {},
   "outputs": [
    {
     "data": {
      "text/plain": [
       "GAP: Counit ϵ : F∘G ⟹ Id of the adjunction F ⊣ G"
      ]
     },
     "execution_count": 128,
     "metadata": {},
     "output_type": "execute_result"
    }
   ],
   "source": [
    "ϵ = CounitOfConvolutionReplacementAdjunction( seq )"
   ]
  },
  {
   "cell_type": "code",
   "execution_count": 129,
   "id": "2cf392ee",
   "metadata": {},
   "outputs": [
    {
     "data": {
      "text/plain": [
       "GAP: <A morphism in Homotopy category by cochains( AdditiveClosure( Q-algebroid( {E1,E2,E3,E4}[m1_3_1:E1→E3,m2_3_1:E2→E3,m3_4_1:E3→E4] ) defined by 4 objects and 3 generating morphisms ) ) supported on the interval [ 0 .. 2 ]>"
      ]
     },
     "execution_count": 129,
     "metadata": {},
     "output_type": "execute_result"
    }
   ],
   "source": [
    "λ = ϵ(𝔻𝕃_Hom☾T◞ℚP☽)"
   ]
  },
  {
   "cell_type": "code",
   "execution_count": 130,
   "id": "34f98091",
   "metadata": {},
   "outputs": [
    {
     "data": {
      "text/latex": [
       "$$\\begin{array}{ccc}\n",
       " 0&-\\phantom{-}{\\begin{pmatrix}\\\\\\end{pmatrix}}\\phantom{-}\\rightarrow&{E_{4}}\n",
       " \\\\ \n",
       " \\uparrow_{\\phantom{1}}&& \n",
       " \\uparrow_{\\phantom{1}}\n",
       " \\\\ \n",
       " \\begin{pmatrix}\\\\\\end{pmatrix}&&\\begin{pmatrix}-{m_{3,4}^{1}}\\\\ \n",
       "-id(E_{4})\\\\ \n",
       "id(E_{4})\\end{pmatrix}\n",
       " \\\\ \n",
       " \\vert_{1} &&\\vert_{1} \n",
       " \\\\ \n",
       " {E_{3}}&-\\phantom{-}{\\begin{pmatrix}id(E_{3})&-{m_{3,4}^{1}}&0\\end{pmatrix}}\\phantom{-}\\rightarrow&{E_{3}}\\oplus{E_{4}}^{\\oplus 2}\n",
       " \\\\ \n",
       "  \\uparrow_{\\phantom{0}}&& \n",
       " \\uparrow_{\\phantom{0}}\n",
       " \\\\ \n",
       " \\begin{pmatrix}{m_{1,3}^{1}}\\\\ \n",
       "-{m_{2,3}^{1}}\\end{pmatrix}&&\\begin{pmatrix}{m_{1,3}^{1}}&0&{m_{1,3}^{1}}{m_{3,4}^{1}}\\\\ \n",
       "{m_{2,3}^{1}}&-{m_{2,3}^{1}}{m_{3,4}^{1}}&0\\\\ \n",
       "0&id(E_{4})&id(E_{4})\\end{pmatrix}\n",
       " \\\\ \n",
       " \\vert_{0} &&\\vert_{0} \n",
       " \\\\ \n",
       " {E_{1}}\\oplus{E_{2}}&-\\phantom{-}{\\begin{pmatrix}id(E_{1})&0&-{m_{1,3}^{1}}{m_{3,4}^{1}}\\\\ \n",
       "0&-id(E_{2})&0\\end{pmatrix}}\\phantom{-}\\rightarrow&{E_{1}}\\oplus{E_{2}}\\oplus{E_{4}}\n",
       " \\\\ \n",
       " \\end{array}$$"
      ]
     },
     "metadata": {},
     "output_type": "display_data"
    }
   ],
   "source": [
    "Show( λ )"
   ]
  },
  {
   "cell_type": "code",
   "execution_count": 131,
   "id": "15edca80",
   "metadata": {},
   "outputs": [
    {
     "data": {
      "text/plain": [
       "true"
      ]
     },
     "execution_count": 131,
     "metadata": {},
     "output_type": "execute_result"
    }
   ],
   "source": [
    "IsIsomorphism( λ )"
   ]
  },
  {
   "cell_type": "code",
   "execution_count": 132,
   "id": "ddd582b0",
   "metadata": {},
   "outputs": [
    {
     "data": {
      "text/plain": [
       "GAP: <A morphism in Homotopy category by cochains( AdditiveClosure( Q-algebroid( {E1,E2,E3,E4}[m1_3_1:E1→E3,m2_3_1:E2→E3,m3_4_1:E3→E4] ) defined by 4 objects and 3 generating morphisms ) ) supported on the interval [ 0 .. 2 ]>"
      ]
     },
     "execution_count": 132,
     "metadata": {},
     "output_type": "execute_result"
    }
   ],
   "source": [
    "λ⁻¹ = InverseForMorphisms( λ )"
   ]
  },
  {
   "cell_type": "code",
   "execution_count": 133,
   "id": "1c9f9dc2",
   "metadata": {},
   "outputs": [
    {
     "data": {
      "text/latex": [
       "$$\\begin{array}{ccc}\n",
       " {E_{4}}&-\\phantom{-}{\\begin{pmatrix}\\\\\\end{pmatrix}}\\phantom{-}\\rightarrow&0\n",
       " \\\\ \n",
       " \\uparrow_{\\phantom{1}}&& \n",
       " \\uparrow_{\\phantom{1}}\n",
       " \\\\ \n",
       " \\begin{pmatrix}-{m_{3,4}^{1}}\\\\ \n",
       "-id(E_{4})\\\\ \n",
       "id(E_{4})\\end{pmatrix}&&\\begin{pmatrix}\\\\\\end{pmatrix}\n",
       " \\\\ \n",
       " \\vert_{1} &&\\vert_{1} \n",
       " \\\\ \n",
       " {E_{3}}\\oplus{E_{4}}^{\\oplus 2}&-\\phantom{-}{\\begin{pmatrix}id(E_{3})\\\\ \n",
       "0\\\\ \n",
       "0\\end{pmatrix}}\\phantom{-}\\rightarrow&{E_{3}}\n",
       " \\\\ \n",
       "  \\uparrow_{\\phantom{0}}&& \n",
       " \\uparrow_{\\phantom{0}}\n",
       " \\\\ \n",
       " \\begin{pmatrix}{m_{1,3}^{1}}&0&{m_{1,3}^{1}}{m_{3,4}^{1}}\\\\ \n",
       "{m_{2,3}^{1}}&-{m_{2,3}^{1}}{m_{3,4}^{1}}&0\\\\ \n",
       "0&id(E_{4})&id(E_{4})\\end{pmatrix}&&\\begin{pmatrix}{m_{1,3}^{1}}\\\\ \n",
       "-{m_{2,3}^{1}}\\end{pmatrix}\n",
       " \\\\ \n",
       " \\vert_{0} &&\\vert_{0} \n",
       " \\\\ \n",
       " {E_{1}}\\oplus{E_{2}}\\oplus{E_{4}}&-\\phantom{-}{\\begin{pmatrix}id(E_{1})&0\\\\ \n",
       "0&-id(E_{2})\\\\ \n",
       "0&0\\end{pmatrix}}\\phantom{-}\\rightarrow&{E_{1}}\\oplus{E_{2}}\n",
       " \\\\ \n",
       " \\end{array}$$"
      ]
     },
     "metadata": {},
     "output_type": "display_data"
    }
   ],
   "source": [
    "Show( λ⁻¹ )"
   ]
  },
  {
   "cell_type": "code",
   "execution_count": 134,
   "id": "23f6e1f0",
   "metadata": {},
   "outputs": [
    {
     "data": {
      "text/plain": [
       "GAP: Extension of ( Extension of Yoneda embedding functor to a functor from the additive closure of the source ) to homotopy categories by cochains"
      ]
     },
     "execution_count": 134,
     "metadata": {},
     "output_type": "execute_result"
    }
   ],
   "source": [
    "𝕐 = ExtendFunctorToHomotopyCategoriesByCochains(\n",
    "            ExtendFunctorToAdditiveClosureOfSource(\n",
    "                YonedaEmbeddingOfSourceCategory( PSh_𝓔 ) ) )"
   ]
  },
  {
   "cell_type": "code",
   "execution_count": 135,
   "id": "c1dbdc48",
   "metadata": {},
   "outputs": [
    {
     "name": "stdout",
     "output_type": "stream",
     "text": [
      "Extension of ( Extension of Yoneda embedding functor to a functor from the additive closure of the source ) to homotopy categories by cochains:\n",
      "\n",
      "Homotopy category by cochains( AdditiveClosure( Q-algebroid( {E1,E2,E3,E4}[m1_3_1:E1→E3,m2_3_1:E2→E3,m3_4_1:E3→E4] ) defined by 4 objects and 3 generating morphisms ) )\n",
      "  |\n",
      "  V\n",
      "Homotopy category by cochains( PreSheaves( Q-algebroid( {E1,E2,E3,E4}[m1_3_1:E1→E3,m2_3_1:E2→E3,m3_4_1:E3→E4] ) defined by 4 objects and 3 generating morphisms, Rows( Q ) ) )\n"
     ]
    }
   ],
   "source": [
    "Display( 𝕐 )"
   ]
  },
  {
   "cell_type": "code",
   "execution_count": 136,
   "id": "9405e758",
   "metadata": {},
   "outputs": [
    {
     "data": {
      "text/plain": [
       "GAP: <A morphism in Homotopy category by cochains( PreSheaves( Q-algebroid( {v1,v2,v3,v4}[a:v1→v2,b:v2→v4,c:v1→v3,d:v3→v4] ) defined by 4 objects and 4 generating morphisms, Rows( Q ) ) ) supported on the interval [ 0 .. 2 ]>"
      ]
     },
     "execution_count": 136,
     "metadata": {},
     "output_type": "execute_result"
    }
   ],
   "source": [
    "τ = PreCompose( ₋⨂T( 𝕐(λ) ), ζ )"
   ]
  },
  {
   "cell_type": "code",
   "execution_count": 137,
   "id": "3f529080",
   "metadata": {},
   "outputs": [
    {
     "data": {
      "text/plain": [
       "true"
      ]
     },
     "execution_count": 137,
     "metadata": {},
     "output_type": "execute_result"
    }
   ],
   "source": [
    "IsQuasiIsomorphism( τ )"
   ]
  },
  {
   "cell_type": "code",
   "execution_count": 138,
   "id": "0e12a0c5",
   "metadata": {},
   "outputs": [
    {
     "data": {
      "text/plain": [
       "true"
      ]
     },
     "execution_count": 138,
     "metadata": {},
     "output_type": "execute_result"
    }
   ],
   "source": [
    "Range( τ ) == ℚP"
   ]
  },
  {
   "cell_type": "code",
   "execution_count": 139,
   "id": "112453bb",
   "metadata": {},
   "outputs": [
    {
     "data": {
      "text/latex": [
       "$$\\begin{array}{c}\n",
       "\\begin{array}{ccc}\n",
       " v_1 & \\mapsto & \\mathbb{Q}^{1 \\times 1} \\\\ v_2 & \\mapsto & \\mathbb{Q}^{1 \\times 1} \\\\ v_3 & \\mapsto & \\mathbb{Q}^{1 \\times 1} \\\\ v_4 & \\mapsto & \\mathbb{Q}^{1 \\times 0} \\\\ \\hline & & \\\\{a} & \\mapsto & \\mathbb{Q}^{1 \\times 1}{\\color{blue}{\\xrightarrow{\\left( \\begin{array}{r}\n",
       " -1 \n",
       "\\end{array} \\right)}}}\\mathbb{Q}^{1 \\times 1} \\\\ & & \\\\{b} & \\mapsto & \\mathbb{Q}^{1 \\times 0}{\\color{blue}{\\xrightarrow{()_{0 \\times 1}}}}\\mathbb{Q}^{1 \\times 1} \\\\ & & \\\\{c} & \\mapsto & \\mathbb{Q}^{1 \\times 1}{\\color{blue}{\\xrightarrow{\\left( \\begin{array}{r}\n",
       " 1 \n",
       "\\end{array} \\right)}}}\\mathbb{Q}^{1 \\times 1} \\\\ & & \\\\{d} & \\mapsto & \\mathbb{Q}^{1 \\times 0}{\\color{blue}{\\xrightarrow{()_{0 \\times 1}}}}\\mathbb{Q}^{1 \\times 1} \\\\ & & \\\\\\end{array}\n",
       "\\\\\n",
       "\\uparrow_{\\phantom{0}}\n",
       "\\\\\n",
       "\\begin{array}{ccc}\n",
       "v_1 & \\mapsto & \\mathbb{Q}^{1 \\times 2}{\\color{blue}{\\xrightarrow{\\left( \\begin{array}{r}\n",
       " -1 \\\\ \n",
       " -1 \n",
       "\\end{array} \\right)}}}\\mathbb{Q}^{1 \\times 1} \\\\ & & \\\\v_2 & \\mapsto & \\mathbb{Q}^{1 \\times 1}{\\color{blue}{\\xrightarrow{\\left( \\begin{array}{r}\n",
       " 1 \n",
       "\\end{array} \\right)}}}\\mathbb{Q}^{1 \\times 1} \\\\ & & \\\\v_3 & \\mapsto & \\mathbb{Q}^{1 \\times 1}{\\color{blue}{\\xrightarrow{\\left( \\begin{array}{r}\n",
       " -1 \n",
       "\\end{array} \\right)}}}\\mathbb{Q}^{1 \\times 1} \\\\ & & \\\\v_4 & \\mapsto & \\mathbb{Q}^{1 \\times 0}{\\color{blue}{\\xrightarrow{()_{0 \\times 0}}}}\\mathbb{Q}^{1 \\times 0} \\\\ & & \\\\\\end{array}\n",
       "\\\\\n",
       "{\\vert_{0}}\n",
       "\n",
       "\\\\\n",
       "\\begin{array}{ccc}\n",
       " v_1 & \\mapsto & \\mathbb{Q}^{1 \\times 2} \\\\ v_2 & \\mapsto & \\mathbb{Q}^{1 \\times 1} \\\\ v_3 & \\mapsto & \\mathbb{Q}^{1 \\times 1} \\\\ v_4 & \\mapsto & \\mathbb{Q}^{1 \\times 0} \\\\ \\hline & & \\\\{a} & \\mapsto & \\mathbb{Q}^{1 \\times 1}{\\color{blue}{\\xrightarrow{\\left( \\begin{array}{rr}\n",
       " 1 & \\cdot \n",
       "\\end{array} \\right)}}}\\mathbb{Q}^{1 \\times 2} \\\\ & & \\\\{b} & \\mapsto & \\mathbb{Q}^{1 \\times 0}{\\color{blue}{\\xrightarrow{()_{0 \\times 1}}}}\\mathbb{Q}^{1 \\times 1} \\\\ & & \\\\{c} & \\mapsto & \\mathbb{Q}^{1 \\times 1}{\\color{blue}{\\xrightarrow{\\left( \\begin{array}{rr}\n",
       " \\cdot & 1 \n",
       "\\end{array} \\right)}}}\\mathbb{Q}^{1 \\times 2} \\\\ & & \\\\{d} & \\mapsto & \\mathbb{Q}^{1 \\times 0}{\\color{blue}{\\xrightarrow{()_{0 \\times 1}}}}\\mathbb{Q}^{1 \\times 1} \\\\ & & \\\\\\end{array}\\end{array}$$"
      ]
     },
     "metadata": {},
     "output_type": "display_data"
    }
   ],
   "source": [
    "Show( Source( τ ) )"
   ]
  }
 ],
 "metadata": {
  "kernelspec": {
   "display_name": "Julia 1.10.4",
   "language": "julia",
   "name": "julia-1.10"
  },
  "language_info": {
   "file_extension": ".jl",
   "mimetype": "application/julia",
   "name": "julia",
   "version": "1.11.1"
  }
 },
 "nbformat": 4,
 "nbformat_minor": 5
}
